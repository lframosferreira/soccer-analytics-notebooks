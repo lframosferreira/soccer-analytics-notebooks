{
 "cells": [
  {
   "cell_type": "markdown",
   "metadata": {
    "collapsed": false
   },
   "source": [
    "# [CDAF] Atividade 4"
   ]
  },
  {
   "cell_type": "markdown",
   "metadata": {
    "collapsed": false
   },
   "source": [
    "## Nome e matrícula\n",
    "Nome: XXXXXXXXXXXXXXXX\n",
    "Matrícula: XXXXXXXXXX"
   ]
  },
  {
   "cell_type": "markdown",
   "metadata": {
    "collapsed": false
   },
   "source": [
    "## Referências\n",
    "- [1] https://scikit-learn.org/stable/modules/generated/sklearn.linear_model.LogisticRegression.html\n",
    "- [2] https://socceraction.readthedocs.io/en/latest/api/generated/socceraction.xthreat.ExpectedThreat.html#socceraction.xthreat.ExpectedThreat\n",
    "- [3] https://socceraction.readthedocs.io/en/latest/api/generated/socceraction.xthreat.get_successful_move_actions.html#socceraction.xthreat.get_successful_move_actions\n",
    "- [4] https://socceraction.readthedocs.io/en/latest/documentation/valuing_actions/xT.html"
   ]
  },
  {
   "cell_type": "code",
   "execution_count": 1,
   "metadata": {
    "collapsed": false
   },
   "outputs": [],
   "source": [
    "# Importando bibliotecas\n",
    "from tqdm import tqdm\n",
    "import numpy as np\n",
    "import pandas as pd\n",
    "import socceraction.spadl as spd\n",
    "from socceraction import xthreat as xt"
   ]
  },
  {
   "cell_type": "markdown",
   "metadata": {
    "collapsed": false
   },
   "source": [
    "### LaLiga  p/ SPADL com pré-processamentos"
   ]
  },
  {
   "cell_type": "code",
   "execution_count": 2,
   "metadata": {
    "collapsed": false
   },
   "outputs": [],
   "source": [
    "# carregando os eventos\n",
    "path = '../data/atv03/events/events_England.json'\n",
    "events = pd.read_json(path_or_buf=path)"
   ]
  },
  {
   "cell_type": "code",
   "execution_count": 3,
   "metadata": {
    "collapsed": false
   },
   "outputs": [],
   "source": [
    "# pré processamento em colunas da tabela de eventos para facilitar a conversão p/ SPADL\n",
    "events = events.rename(columns={'id': 'event_id', 'eventId': 'type_id', 'subEventId': 'subtype_id',\n",
    "                                'teamId': 'team_id', 'playerId': 'player_id', 'matchId': 'game_id'})\n",
    "events['milliseconds'] = events['eventSec'] * 1000\n",
    "events['period_id'] = events['matchPeriod'].replace({'1H': 1, '2H': 2})"
   ]
  },
  {
   "cell_type": "code",
   "execution_count": 4,
   "metadata": {
    "collapsed": false
   },
   "outputs": [],
   "source": [
    "# carregando as partidas, pois vamos saber quais times jogam em casa e fora p/ usar como parametro do SPADL\n",
    "path = '../data/atv03/matches/matches_England.json'\n",
    "matches = pd.read_json(path_or_buf=path)"
   ]
  },
  {
   "cell_type": "code",
   "execution_count": 5,
   "metadata": {
    "collapsed": false
   },
   "outputs": [
    {
     "name": "stderr",
     "output_type": "stream",
     "text": [
      "100%|██████████| 380/380 [00:00<00:00, 2316.97it/s]\n"
     ]
    }
   ],
   "source": [
    "# as informações dos times de cada partida estão em um dicionário dentro da coluna 'teamsData', então vamos separar essas informações\n",
    "team_matches = []\n",
    "for i in tqdm(range(len(matches))):\n",
    "    match = pd.DataFrame(matches.loc[i, 'teamsData']).T\n",
    "    match['matchId'] = matches.loc[i, 'wyId']\n",
    "    team_matches.append(match)\n",
    "team_matches = pd.concat(team_matches).reset_index(drop=True)"
   ]
  },
  {
   "cell_type": "code",
   "execution_count": 6,
   "metadata": {
    "collapsed": false
   },
   "outputs": [
    {
     "name": "stderr",
     "output_type": "stream",
     "text": [
      "100%|██████████| 380/380 [01:36<00:00,  3.95it/s]\n"
     ]
    }
   ],
   "source": [
    "# fazendo a conversão p/ SPADL, padronizando a direção de jogo da esquerda p/ a direita e adicionando os nomes dos tipos de ações\n",
    "spadl = []\n",
    "game_ids = events.game_id.unique().tolist()\n",
    "for g in tqdm(game_ids):\n",
    "    match_events = events.loc[events.game_id == g]\n",
    "    match_home_id = team_matches.loc[(team_matches.matchId == g) & (team_matches.side == 'home'), 'teamId'].values[0]\n",
    "    match_actions = spd.wyscout.convert_to_actions(events=match_events, home_team_id=match_home_id)\n",
    "    match_actions = spd.play_left_to_right(actions=match_actions, home_team_id=match_home_id)\n",
    "    match_actions = spd.add_names(match_actions)\n",
    "    spadl.append(match_actions)\n",
    "spadl = pd.concat(spadl).reset_index(drop=True)"
   ]
  },
  {
   "cell_type": "code",
   "execution_count": 7,
   "metadata": {
    "collapsed": false
   },
   "outputs": [],
   "source": [
    "# adicionando o nome dos jogadores\n",
    "path = '../data/atv03/players/players.json'\n",
    "players = pd.read_json(path_or_buf=path)\n",
    "players['player_name'] = players['firstName'] + ' ' + players['lastName']\n",
    "players = players[['wyId', 'player_name']].rename(columns={'wyId': 'player_id'})\n",
    "spadl = spadl.merge(players, on='player_id', how='left')"
   ]
  },
  {
   "cell_type": "code",
   "execution_count": 9,
   "metadata": {},
   "outputs": [
    {
     "data": {
      "text/html": [
       "<div>\n",
       "<style scoped>\n",
       "    .dataframe tbody tr th:only-of-type {\n",
       "        vertical-align: middle;\n",
       "    }\n",
       "\n",
       "    .dataframe tbody tr th {\n",
       "        vertical-align: top;\n",
       "    }\n",
       "\n",
       "    .dataframe thead th {\n",
       "        text-align: right;\n",
       "    }\n",
       "</style>\n",
       "<table border=\"1\" class=\"dataframe\">\n",
       "  <thead>\n",
       "    <tr style=\"text-align: right;\">\n",
       "      <th></th>\n",
       "      <th>game_id</th>\n",
       "      <th>period_id</th>\n",
       "      <th>time_seconds</th>\n",
       "      <th>team_id</th>\n",
       "      <th>player_id</th>\n",
       "      <th>start_x</th>\n",
       "      <th>start_y</th>\n",
       "      <th>end_x</th>\n",
       "      <th>end_y</th>\n",
       "      <th>original_event_id</th>\n",
       "      <th>bodypart_id</th>\n",
       "      <th>type_id</th>\n",
       "      <th>result_id</th>\n",
       "      <th>action_id</th>\n",
       "      <th>type_name</th>\n",
       "      <th>result_name</th>\n",
       "      <th>bodypart_name</th>\n",
       "      <th>player_name</th>\n",
       "    </tr>\n",
       "  </thead>\n",
       "  <tbody>\n",
       "    <tr>\n",
       "      <th>0</th>\n",
       "      <td>2499719</td>\n",
       "      <td>1</td>\n",
       "      <td>2.758649</td>\n",
       "      <td>1609</td>\n",
       "      <td>25413</td>\n",
       "      <td>51.45</td>\n",
       "      <td>34.68</td>\n",
       "      <td>32.55</td>\n",
       "      <td>14.96</td>\n",
       "      <td>177959171</td>\n",
       "      <td>0</td>\n",
       "      <td>0</td>\n",
       "      <td>1</td>\n",
       "      <td>0</td>\n",
       "      <td>pass</td>\n",
       "      <td>success</td>\n",
       "      <td>foot</td>\n",
       "      <td>Alexandre Lacazette</td>\n",
       "    </tr>\n",
       "    <tr>\n",
       "      <th>1</th>\n",
       "      <td>2499719</td>\n",
       "      <td>1</td>\n",
       "      <td>4.946850</td>\n",
       "      <td>1609</td>\n",
       "      <td>370224</td>\n",
       "      <td>32.55</td>\n",
       "      <td>14.96</td>\n",
       "      <td>53.55</td>\n",
       "      <td>17.00</td>\n",
       "      <td>177959172</td>\n",
       "      <td>0</td>\n",
       "      <td>0</td>\n",
       "      <td>1</td>\n",
       "      <td>1</td>\n",
       "      <td>pass</td>\n",
       "      <td>success</td>\n",
       "      <td>foot</td>\n",
       "      <td>Rob Holding</td>\n",
       "    </tr>\n",
       "    <tr>\n",
       "      <th>2</th>\n",
       "      <td>2499719</td>\n",
       "      <td>1</td>\n",
       "      <td>6.542188</td>\n",
       "      <td>1609</td>\n",
       "      <td>3319</td>\n",
       "      <td>53.55</td>\n",
       "      <td>17.00</td>\n",
       "      <td>36.75</td>\n",
       "      <td>19.72</td>\n",
       "      <td>177959173</td>\n",
       "      <td>1</td>\n",
       "      <td>0</td>\n",
       "      <td>1</td>\n",
       "      <td>2</td>\n",
       "      <td>pass</td>\n",
       "      <td>success</td>\n",
       "      <td>head</td>\n",
       "      <td>Mesut \\u00d6zil</td>\n",
       "    </tr>\n",
       "    <tr>\n",
       "      <th>3</th>\n",
       "      <td>2499719</td>\n",
       "      <td>1</td>\n",
       "      <td>8.143395</td>\n",
       "      <td>1609</td>\n",
       "      <td>120339</td>\n",
       "      <td>36.75</td>\n",
       "      <td>19.72</td>\n",
       "      <td>43.05</td>\n",
       "      <td>3.40</td>\n",
       "      <td>177959174</td>\n",
       "      <td>1</td>\n",
       "      <td>0</td>\n",
       "      <td>1</td>\n",
       "      <td>3</td>\n",
       "      <td>pass</td>\n",
       "      <td>success</td>\n",
       "      <td>head</td>\n",
       "      <td>Mohamed Naser Elsayed Elneny</td>\n",
       "    </tr>\n",
       "    <tr>\n",
       "      <th>4</th>\n",
       "      <td>2499719</td>\n",
       "      <td>1</td>\n",
       "      <td>10.302366</td>\n",
       "      <td>1609</td>\n",
       "      <td>167145</td>\n",
       "      <td>43.05</td>\n",
       "      <td>3.40</td>\n",
       "      <td>75.60</td>\n",
       "      <td>8.16</td>\n",
       "      <td>177959175</td>\n",
       "      <td>0</td>\n",
       "      <td>0</td>\n",
       "      <td>1</td>\n",
       "      <td>4</td>\n",
       "      <td>pass</td>\n",
       "      <td>success</td>\n",
       "      <td>foot</td>\n",
       "      <td>H\\u00e9ctor Beller\\u00edn Moruno</td>\n",
       "    </tr>\n",
       "  </tbody>\n",
       "</table>\n",
       "</div>"
      ],
      "text/plain": [
       "   game_id  period_id  time_seconds  team_id  player_id  start_x  start_y  \\\n",
       "0  2499719          1      2.758649     1609      25413    51.45    34.68   \n",
       "1  2499719          1      4.946850     1609     370224    32.55    14.96   \n",
       "2  2499719          1      6.542188     1609       3319    53.55    17.00   \n",
       "3  2499719          1      8.143395     1609     120339    36.75    19.72   \n",
       "4  2499719          1     10.302366     1609     167145    43.05     3.40   \n",
       "\n",
       "   end_x  end_y original_event_id  bodypart_id  type_id  result_id  action_id  \\\n",
       "0  32.55  14.96         177959171            0        0          1          0   \n",
       "1  53.55  17.00         177959172            0        0          1          1   \n",
       "2  36.75  19.72         177959173            1        0          1          2   \n",
       "3  43.05   3.40         177959174            1        0          1          3   \n",
       "4  75.60   8.16         177959175            0        0          1          4   \n",
       "\n",
       "  type_name result_name bodypart_name                       player_name  \n",
       "0      pass     success          foot               Alexandre Lacazette  \n",
       "1      pass     success          foot                       Rob Holding  \n",
       "2      pass     success          head                   Mesut \\u00d6zil  \n",
       "3      pass     success          head      Mohamed Naser Elsayed Elneny  \n",
       "4      pass     success          foot  H\\u00e9ctor Beller\\u00edn Moruno  "
      ]
     },
     "execution_count": 9,
     "metadata": {},
     "output_type": "execute_result"
    }
   ],
   "source": [
    "spadl.head()"
   ]
  },
  {
   "cell_type": "markdown",
   "metadata": {
    "collapsed": false
   },
   "source": [
    "## Questão 1\n",
    "- Crei um dataframe \"shots\" à partir do dataframe \"spadl\", contendo apenas os chutes.\n",
    "- Crie 4 colunas no dataframe \"shots\" a serem usadas como features de um modelo de xG.\n",
    "- Justifique a escolha das features."
   ]
  },
  {
   "cell_type": "code",
   "execution_count": null,
   "metadata": {
    "collapsed": false
   },
   "outputs": [],
   "source": []
  },
  {
   "cell_type": "markdown",
   "metadata": {
    "collapsed": false
   },
   "source": [
    "## Questão 2\n",
    "- Crie uma coluna numérica binária \"goal\" no dataframe \"shots\" indicando se o chute resultou em gol ou não.\n",
    "- Use regressão logística [1] p/ treinar (.fit(X_train, y_train)) um modelo de xG usando as features criadas na questão 1.\n",
    "- Use 70% dos dados para treino e 30% para teste.\n",
    "- Reporte a acurácia do modelo para os conjuntos de treino (.score(X_train, y_train)) e teste (.score(X_test, y_test))."
   ]
  },
  {
   "cell_type": "code",
   "execution_count": null,
   "metadata": {
    "collapsed": false
   },
   "outputs": [],
   "source": []
  },
  {
   "cell_type": "markdown",
   "metadata": {
    "collapsed": false
   },
   "source": [
    "## Questão 3\n",
    "- Use o modelo treinado na questão 2 p/ prever a probabilidade de gol de todos os chutes do dataframe \"shots\". Reporte essas probabilidades no dataframe \"shots\" em uma coluna \"xG\".\n",
    "- Agrupe o dataframe \"shots\" por \"player_name\" e reporte a soma dos \"goal\" e \"xG\".\n",
    "- Reporte os 10 jogadores com maior xG.\n",
    "- Reporte os 10 jogadores com maior diferença de Gols e xG."
   ]
  },
  {
   "cell_type": "code",
   "execution_count": null,
   "metadata": {
    "collapsed": false
   },
   "outputs": [],
   "source": []
  },
  {
   "cell_type": "markdown",
   "metadata": {
    "collapsed": false
   },
   "source": [
    "## Questão 4 [4]\n",
    "- Instancie um objeto ExpectedThreat [2] com parâmetros l=25 e w=16.\n",
    "- Faça o fit do modelo ExpectedThreat com o dataframe \"spadl\"."
   ]
  },
  {
   "cell_type": "code",
   "execution_count": null,
   "metadata": {
    "collapsed": false
   },
   "outputs": [],
   "source": []
  },
  {
   "cell_type": "markdown",
   "metadata": {
    "collapsed": false
   },
   "source": [
    "## Questão 5\n",
    "- Crie um dataframe \"prog_actions\" à partir do dataframe \"spadl\", contendo apenas as ações de progressão e que são bem-sucedidas [3].\n",
    "- Use o método rate do objeto ExpectedThreat p/ calcular o valor de cada ação de progressão do dataframe \"prog_actions\", em uma coluna chamada \"action_value\".\n",
    "- Agrupe o dataframe \"prog_actions\" por \"player_name\" e reporte a soma dos \"action_value\".\n",
    "- Reporte os 10 jogadores com maior \"action_value\"."
   ]
  },
  {
   "cell_type": "code",
   "execution_count": null,
   "metadata": {
    "collapsed": false
   },
   "outputs": [],
   "source": []
  }
 ],
 "metadata": {
  "kernelspec": {
   "display_name": "Python 3",
   "language": "python",
   "name": "python3"
  },
  "language_info": {
   "codemirror_mode": {
    "name": "ipython",
    "version": 3
   },
   "file_extension": ".py",
   "mimetype": "text/x-python",
   "name": "python",
   "nbconvert_exporter": "python",
   "pygments_lexer": "ipython3",
   "version": "3.11.0"
  }
 },
 "nbformat": 4,
 "nbformat_minor": 0
}
