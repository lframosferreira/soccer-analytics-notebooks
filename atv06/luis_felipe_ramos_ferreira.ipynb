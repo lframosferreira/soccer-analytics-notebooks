{
 "cells": [
  {
   "cell_type": "markdown",
   "metadata": {
    "collapsed": false
   },
   "source": [
    "# [CDAF] Atividade 6"
   ]
  },
  {
   "attachments": {},
   "cell_type": "markdown",
   "metadata": {
    "collapsed": false
   },
   "source": [
    "## Nome e matrícula\n",
    "Nome: Luís Felipe Ramos Ferreira\n",
    "Matrícula: 2019022553"
   ]
  },
  {
   "cell_type": "markdown",
   "metadata": {
    "collapsed": false
   },
   "source": [
    "## Referências\n",
    "- [1] https://www.ecmlpkdd2019.org/downloads/paper/701.pdf\n",
    "- [2] https://dtai.cs.kuleuven.be/sports/blog/player-vectors:-characterizing-soccer-players'-playing-style\n",
    "- [3] https://dtai.cs.kuleuven.be/sports/player_vectors\n",
    "- [4] https://github.com/TomDecroos/matplotsoccer"
   ]
  },
  {
   "cell_type": "markdown",
   "metadata": {
    "collapsed": false
   },
   "source": [
    "## Introdução\n",
    "- Nessa atividade, temos implementado o \"Player Vectors\", método proposto em [1] para caracterizar o estilo de jogo de jogadores baseado nas localizações que realizam cada tipo de ação.\n",
    "- [2] apresenta o conteúdo do paper em [1] de forma mais resumida e visual, em formato de blog.\n",
    "- [3] oferece uma demo interativa com uma aplicação do método no contexto de comparar a similaridade entre jogadores.\n",
    "- [4] é uma biblioteca para plotar visualizações de partidas de futebol. Além disso, ela tem uma função pronta para criar heatmaps de ações de jogadores, que é util para o nosso contexto."
   ]
  },
  {
   "cell_type": "markdown",
   "metadata": {
    "collapsed": false
   },
   "source": [
    "## Intruções\n",
    "- Para cada header abaixo do notebook, vocês devem explicar o que foi feito e à qual seção/subseção/equação de [1] ela corresponde. Justifique suas respostas.\n",
    "- Além disso, vocês devem montar um diagrama do fluxo de funções/tarefas de toda a pipeline do Player Vectors abaixo. Esse diagrama deve ser enviado como arquivo na submissão do Moodle, para além deste notebook."
   ]
  },
  {
   "cell_type": "markdown",
   "metadata": {
    "collapsed": false
   },
   "source": [
    "### Carregando os dados"
   ]
  },
  {
   "attachments": {},
   "cell_type": "markdown",
   "metadata": {},
   "source": [
    "Aqui foi feito o carregamento dos dados necessários para os cálculos que serão feitos posteriormente. É uma parte simples, que se refere à seção 2 do artigo, de forma geral."
   ]
  },
  {
   "cell_type": "code",
   "execution_count": 26,
   "metadata": {
    "collapsed": false
   },
   "outputs": [],
   "source": [
    "import numpy as np\n",
    "import pandas as pd"
   ]
  },
  {
   "cell_type": "code",
   "execution_count": 27,
   "metadata": {
    "collapsed": false
   },
   "outputs": [],
   "source": [
    "def load_matches(path):\n",
    "    matches = pd.read_json(path_or_buf=path)\n",
    "    # as informações dos times de cada partida estão em um dicionário dentro da coluna 'teamsData', então vamos separar essas informações\n",
    "    team_matches = []\n",
    "    for i in range(len(matches)):\n",
    "        team_match = pd.DataFrame(matches.loc[i, \"teamsData\"]).T\n",
    "        team_match[\"matchId\"] = matches.loc[i, \"wyId\"]\n",
    "        team_matches.append(team_match)\n",
    "    team_matches = pd.concat(team_matches).reset_index(drop=True)\n",
    "\n",
    "    return matches, team_matches"
   ]
  },
  {
   "cell_type": "code",
   "execution_count": 28,
   "metadata": {
    "collapsed": false
   },
   "outputs": [],
   "source": [
    "def get_position(x):\n",
    "    return x[\"name\"]\n",
    "\n",
    "\n",
    "def load_players(path):\n",
    "    players = pd.read_json(path_or_buf=path)\n",
    "    players[\"player_name\"] = players[\"firstName\"] + \" \" + players[\"lastName\"]\n",
    "    players[\"role\"] = players[\"role\"].apply(get_position)\n",
    "    players = players[[\"wyId\", \"player_name\", \"role\"]].rename(\n",
    "        columns={\"wyId\": \"player_id\"}\n",
    "    )\n",
    "\n",
    "    return players"
   ]
  },
  {
   "cell_type": "code",
   "execution_count": 29,
   "metadata": {
    "collapsed": false
   },
   "outputs": [],
   "source": [
    "def load_events(path):\n",
    "    events = pd.read_json(path_or_buf=path)\n",
    "    # pré processamento em colunas da tabela de eventos para facilitar a conversão p/ SPADL\n",
    "    events = events.rename(\n",
    "        columns={\n",
    "            \"id\": \"event_id\",\n",
    "            \"eventId\": \"type_id\",\n",
    "            \"subEventId\": \"subtype_id\",\n",
    "            \"teamId\": \"team_id\",\n",
    "            \"playerId\": \"player_id\",\n",
    "            \"matchId\": \"game_id\",\n",
    "        }\n",
    "    )\n",
    "    events[\"milliseconds\"] = events[\"eventSec\"] * 1000\n",
    "    events[\"period_id\"] = events[\"matchPeriod\"].replace({\"1H\": 1, \"2H\": 2})\n",
    "\n",
    "    return events"
   ]
  },
  {
   "cell_type": "code",
   "execution_count": 30,
   "metadata": {
    "collapsed": false
   },
   "outputs": [],
   "source": [
    "def load_minutes_played_per_game(path):\n",
    "    minutes = pd.read_json(path_or_buf=path)\n",
    "    minutes = minutes.rename(\n",
    "        columns={\n",
    "            \"playerId\": \"player_id\",\n",
    "            \"matchId\": \"game_id\",\n",
    "            \"teamId\": \"team_id\",\n",
    "            \"minutesPlayed\": \"minutes_played\",\n",
    "        }\n",
    "    )\n",
    "    minutes = minutes.drop([\"shortName\", \"teamName\", \"red_card\"], axis=1)\n",
    "\n",
    "    return minutes"
   ]
  },
  {
   "cell_type": "code",
   "execution_count": 31,
   "metadata": {
    "collapsed": false
   },
   "outputs": [],
   "source": [
    "leagues = [\"England\", \"Spain\"]\n",
    "events = {}\n",
    "matches = {}\n",
    "team_matches = {}\n",
    "game_minutes = {}\n",
    "for league in leagues:\n",
    "    path = f\"../data/atv03/matches/matches_{league}.json\"\n",
    "    matches[league], team_matches[league] = load_matches(path)\n",
    "    path = f\"../data/atv03/events/events_{league}.json\"\n",
    "    events[league] = load_events(path)\n",
    "    path = f\"../data/atv03/minutes_played/minutes_played_per_game_{league}.json\"\n",
    "    game_minutes[league] = load_minutes_played_per_game(path)"
   ]
  },
  {
   "cell_type": "code",
   "execution_count": 32,
   "metadata": {
    "collapsed": false
   },
   "outputs": [],
   "source": [
    "path = \"../data/atv03/players/players.json\"\n",
    "players = load_players(path)\n",
    "players[\"player_name\"] = players[\"player_name\"].str.decode(\"unicode-escape\")"
   ]
  },
  {
   "cell_type": "code",
   "execution_count": 33,
   "metadata": {
    "collapsed": false
   },
   "outputs": [],
   "source": [
    "def calculate_minutes_per_season(minutes_per_game):\n",
    "    minutes_per_season = minutes_per_game.groupby(\"player_id\", as_index=False)[\n",
    "        \"minutes_played\"\n",
    "    ].sum()\n",
    "\n",
    "    return minutes_per_season"
   ]
  },
  {
   "cell_type": "markdown",
   "metadata": {
    "collapsed": false
   },
   "source": [
    "### SPADL"
   ]
  },
  {
   "attachments": {},
   "cell_type": "markdown",
   "metadata": {},
   "source": [
    "Neste *header*, é feita a conversão dos dados carregados anteriormente para o formato padronizado SPADL, de modo que este formato é o mais utilizado e o de melhor usabilidade para realizar os cálculos necessários. Mais uma vez, se refere à seção 2 do artigo, especificamente da parte 2.1 onde o formato SPADL é definido."
   ]
  },
  {
   "cell_type": "code",
   "execution_count": 34,
   "metadata": {
    "collapsed": false
   },
   "outputs": [],
   "source": [
    "from tqdm import tqdm\n",
    "import socceraction.spadl as spd"
   ]
  },
  {
   "cell_type": "code",
   "execution_count": 35,
   "metadata": {
    "collapsed": false
   },
   "outputs": [],
   "source": [
    "def spadl_transform(events, team_matches):\n",
    "    spadl = []\n",
    "    game_ids = events.game_id.unique().tolist()\n",
    "    for g in tqdm(game_ids):\n",
    "        match_events = events.loc[events.game_id == g]\n",
    "        match_home_id = team_matches.loc[\n",
    "            (team_matches.matchId == g) & (team_matches.side == \"home\"), \"teamId\"\n",
    "        ].values[0]\n",
    "        match_actions = spd.wyscout.convert_to_actions(\n",
    "            events=match_events, home_team_id=match_home_id\n",
    "        )\n",
    "        match_actions = spd.play_left_to_right(\n",
    "            actions=match_actions, home_team_id=match_home_id\n",
    "        )\n",
    "        match_actions = spd.add_names(match_actions)\n",
    "        spadl.append(match_actions)\n",
    "    spadl = pd.concat(spadl).reset_index(drop=True)\n",
    "\n",
    "    return spadl"
   ]
  },
  {
   "cell_type": "code",
   "execution_count": 36,
   "metadata": {
    "collapsed": false
   },
   "outputs": [],
   "source": [
    "# dados de eventos das ligas formatados para SPADL foram salvos para acelerar os processos\n",
    "spadl = {}\n",
    "for league in leagues:\n",
    "    # spadl[league] = spadl_transform(events=events[league], team_matches=team_matches[league])\n",
    "    spadl[league] = pd.read_json(f\"../data/atv05/spadl_{league}.json\")"
   ]
  },
  {
   "cell_type": "markdown",
   "metadata": {
    "collapsed": false
   },
   "source": [
    "### Construção de Heatmaps"
   ]
  },
  {
   "attachments": {},
   "cell_type": "markdown",
   "metadata": {},
   "source": [
    "Neste *header*, é inicializado de fato o cálculo das métricas necessárias para a construção dos *player vectors*. Especificamente falando desta parte, é realizada a construção dos *heatmaps* de cada jogador para cada um dos tipos de ações desejados. Como pode-se notar na definição da função *construct_heatmaps*, para ações do tipo passe, são construídos *heatmaps* para posições de início e fim da ação, assim como foi definido no artigo. Os *heatmaps* em questão são fundamentais para a caracterização dos jogadores por meio da métrica proposta. Por meio deles, é possível calcular e generalizar para cada jogador as frequências em determinadas posições no campo que ele performa cada tipo de ação.\n",
    "\n",
    "As computações realizadas aqui são correspondentes às seções 3 e 4 (4.2 principalmente) do artigo, em que são discutidos, respectivamente, como definir e avaliar os tipos de jogo e como construir os vetores de jogadores."
   ]
  },
  {
   "cell_type": "code",
   "execution_count": 37,
   "metadata": {
    "collapsed": false
   },
   "outputs": [],
   "source": [
    "import scipy\n",
    "import matplotsoccer as mps"
   ]
  },
  {
   "cell_type": "code",
   "execution_count": 38,
   "metadata": {
    "collapsed": false
   },
   "outputs": [],
   "source": [
    "def construct_heatmaps(spadl, season_minutes, action_type):\n",
    "    heatmaps = {}\n",
    "    if action_type == \"pass\":\n",
    "        heatmaps[\"start\"] = {}\n",
    "        heatmaps[\"end\"] = {}\n",
    "    for player_id in tqdm(season_minutes[\"player_id\"].tolist()):\n",
    "        mask = (spadl[\"player_id\"] == player_id) & (spadl[\"type_name\"] == action_type)\n",
    "        player_actions = spadl[mask]\n",
    "        if action_type != \"pass\":\n",
    "            heatmaps[player_id] = mps.count(\n",
    "                x=player_actions[\"start_x\"], y=player_actions[\"start_y\"], n=25, m=16\n",
    "            )\n",
    "            heatmaps[player_id] *= (\n",
    "                90\n",
    "                / season_minutes[season_minutes[\"player_id\"] == player_id][\n",
    "                    \"minutes_played\"\n",
    "                ].values[0]\n",
    "            )\n",
    "            heatmaps[player_id] = scipy.ndimage.gaussian_filter(heatmaps[player_id], 1)\n",
    "        else:\n",
    "            heatmaps[\"start\"][player_id] = mps.count(\n",
    "                x=player_actions[\"start_x\"], y=player_actions[\"start_y\"], n=25, m=16\n",
    "            )\n",
    "            heatmaps[\"start\"][player_id] *= (\n",
    "                90\n",
    "                / season_minutes[season_minutes[\"player_id\"] == player_id][\n",
    "                    \"minutes_played\"\n",
    "                ].values[0]\n",
    "            )\n",
    "            heatmaps[\"start\"][player_id] = scipy.ndimage.gaussian_filter(\n",
    "                heatmaps[\"start\"][player_id], 1\n",
    "            )\n",
    "            heatmaps[\"end\"][player_id] = mps.count(\n",
    "                x=player_actions[\"end_x\"], y=player_actions[\"end_y\"], n=25, m=16\n",
    "            )\n",
    "            heatmaps[\"end\"][player_id] *= (\n",
    "                90\n",
    "                / season_minutes[season_minutes[\"player_id\"] == player_id][\n",
    "                    \"minutes_played\"\n",
    "                ].values[0]\n",
    "            )\n",
    "            heatmaps[\"end\"][player_id] = scipy.ndimage.gaussian_filter(\n",
    "                heatmaps[\"end\"][player_id], 1\n",
    "            )\n",
    "\n",
    "    return heatmaps"
   ]
  },
  {
   "cell_type": "code",
   "execution_count": 39,
   "metadata": {
    "collapsed": false
   },
   "outputs": [],
   "source": [
    "season_minutes = {}\n",
    "for league in leagues:\n",
    "    season_minutes[league] = calculate_minutes_per_season(\n",
    "        minutes_per_game=game_minutes[league]\n",
    "    )\n",
    "    mask = (season_minutes[league][\"minutes_played\"] >= 900) & (\n",
    "        season_minutes[league][\"player_id\"].isin(\n",
    "            players.loc[players[\"role\"] != \"Goalkeeper\", \"player_id\"]\n",
    "        )\n",
    "    )\n",
    "    season_minutes[league] = season_minutes[league][mask]"
   ]
  },
  {
   "cell_type": "code",
   "execution_count": 40,
   "metadata": {
    "collapsed": false
   },
   "outputs": [
    {
     "name": "stderr",
     "output_type": "stream",
     "text": [
      "100%|██████████| 309/309 [00:14<00:00, 20.73it/s]\n",
      "100%|██████████| 309/309 [00:15<00:00, 19.98it/s]\n",
      "100%|██████████| 309/309 [00:14<00:00, 21.20it/s]\n",
      "100%|██████████| 309/309 [00:14<00:00, 21.22it/s]\n",
      "100%|██████████| 324/324 [00:14<00:00, 22.24it/s]\n",
      "100%|██████████| 324/324 [00:15<00:00, 21.21it/s]\n",
      "100%|██████████| 324/324 [00:14<00:00, 22.74it/s]\n",
      "100%|██████████| 324/324 [00:14<00:00, 22.56it/s]\n"
     ]
    }
   ],
   "source": [
    "action_types = [\"shot\", \"pass\", \"cross\", \"dribble\"]\n",
    "heatmaps = {}\n",
    "for league in leagues:\n",
    "    heatmaps[league] = {}\n",
    "    for at in action_types:\n",
    "        heatmaps[league][at] = construct_heatmaps(\n",
    "            spadl=spadl[league], season_minutes=season_minutes[league], action_type=at\n",
    "        )"
   ]
  },
  {
   "cell_type": "code",
   "execution_count": 41,
   "metadata": {
    "collapsed": false
   },
   "outputs": [
    {
     "data": {
      "image/png": "[encoded data removed]",
      "text/plain": [
       "<Figure size 640x480 with 1 Axes>"
      ]
     },
     "metadata": {},
     "output_type": "display_data"
    },
    {
     "data": {
      "text/plain": [
       "<Axes: >"
      ]
     },
     "execution_count": 41,
     "metadata": {},
     "output_type": "execute_result"
    }
   ],
   "source": [
    "mps.heatmap(heatmaps[\"Spain\"][\"shot\"][3359])"
   ]
  },
  {
   "cell_type": "markdown",
   "metadata": {
    "collapsed": false
   },
   "source": [
    "### Comprimindo heatmaps para vetores"
   ]
  },
  {
   "attachments": {},
   "cell_type": "markdown",
   "metadata": {},
   "source": [
    "Aqui, é computada a compressão dos *heatmaps* calculados anteriormente em vetores unidimensionais. Essa parte é importante para que esses vetores gerados para cada jogador em cada ação possam ser agrupados para análise. Mais especificamente, como definido na seção 4.3 do artigo, para cada tipo de ação desejado, é construída uma matriz em que cada umas das K colunas é um vetor (*heatmap* comprimido) de cada um dos jogadores.\n",
    "\n",
    "No enatno, a construção dessa matriz é feita apenas posteriormente, e neste *header* é feita apenas a compressão dos *heatmaps*, como definido na seção 4.3."
   ]
  },
  {
   "cell_type": "code",
   "execution_count": 42,
   "metadata": {
    "collapsed": false
   },
   "outputs": [],
   "source": [
    "def heatmaps_to_vectors(heatmaps, action_type):\n",
    "    if action_type != \"pass\":\n",
    "        vectorized_heatmaps = np.array(\n",
    "            [heatmaps[player_id].reshape(-1) for player_id in heatmaps.keys()]\n",
    "        )\n",
    "    else:\n",
    "        vectorized_heatmaps = np.array(\n",
    "            [\n",
    "                np.concatenate(\n",
    "                    [\n",
    "                        heatmaps[\"start\"][player_id].reshape(-1),\n",
    "                        heatmaps[\"end\"][player_id].reshape(-1),\n",
    "                    ]\n",
    "                )\n",
    "                for player_id in heatmaps[\"start\"].keys()\n",
    "            ]\n",
    "        )\n",
    "\n",
    "    return vectorized_heatmaps"
   ]
  },
  {
   "cell_type": "code",
   "execution_count": 43,
   "metadata": {
    "collapsed": false
   },
   "outputs": [],
   "source": [
    "vectorized_heatmaps = {}\n",
    "for league in leagues:\n",
    "    vectorized_heatmaps[league] = {}\n",
    "    for act_type in action_types:\n",
    "        vectorized_heatmaps[league][act_type] = heatmaps_to_vectors(\n",
    "            heatmaps=heatmaps[league][act_type], action_type=act_type\n",
    "        )"
   ]
  },
  {
   "cell_type": "markdown",
   "metadata": {
    "collapsed": false
   },
   "source": [
    "### NMF"
   ]
  },
  {
   "attachments": {},
   "cell_type": "markdown",
   "metadata": {},
   "source": [
    "Aqui é computada a fatoração não negativa da matriz M de cada tipo de ação que será construída a partir dos vetores comprimidos criados anteriormente. A fatoração não negativa é feita para que sejam criadas duas matrizes W e H, tais que WH é aproximdamente M, que possuem componentes importantes para análise geral das ações e dos jogadores que as performam.\n",
    "\n",
    "Mais especificamente, as colunas de W são componentes que representam agrupamentos espaciais da ação analisada, e as linhas em H são versões comprimidas dos *heatmaps* originalmente presentes em M. De forma geral, com essa fatoração, é possível reagrupar características e classificar as ações em diferentes conjuntos de acordo com as posições em que elas acontecem no campo.\n",
    "\n",
    "Essa seção é discutida na seção 4 do artigo, mais especificamente na subseção 4.3, de tal modo que a equação (1) é a equação citada sobre fatoração de matrizes não negativas."
   ]
  },
  {
   "cell_type": "code",
   "execution_count": 44,
   "metadata": {
    "collapsed": false
   },
   "outputs": [],
   "source": [
    "from sklearn.decomposition import NMF"
   ]
  },
  {
   "cell_type": "code",
   "execution_count": 45,
   "metadata": {
    "collapsed": false
   },
   "outputs": [],
   "source": [
    "def nmf_decomposition(vectorized_heatmaps, n_components):\n",
    "    nmf = NMF(n_components=n_components, init=\"nndsvda\", random_state=0)\n",
    "    nmf.fit(vectorized_heatmaps)\n",
    "\n",
    "    return nmf"
   ]
  },
  {
   "cell_type": "code",
   "execution_count": 46,
   "metadata": {
    "collapsed": false
   },
   "outputs": [],
   "source": [
    "n_components = {\"shot\": 4, \"pass\": 5, \"cross\": 4, \"dribble\": 5}\n",
    "concat_vectors = {}\n",
    "nmfs = {}\n",
    "for act_type in action_types:\n",
    "    concat_vectors[act_type] = np.concatenate(\n",
    "        [\n",
    "            vectorized_heatmaps[\"England\"][act_type],\n",
    "            vectorized_heatmaps[\"Spain\"][act_type],\n",
    "        ]\n",
    "    )\n",
    "    nmfs[act_type] = nmf_decomposition(\n",
    "        vectorized_heatmaps=concat_vectors[act_type],\n",
    "        n_components=n_components[act_type],\n",
    "    )"
   ]
  },
  {
   "cell_type": "markdown",
   "metadata": {
    "collapsed": false
   },
   "source": [
    "### Reconstruction Evaluation"
   ]
  },
  {
   "attachments": {},
   "cell_type": "markdown",
   "metadata": {},
   "source": [
    "Neste *header*, é avaliada a fatoração não negativa das matrizes de cada tipo de ação, por meio da análise das métricas de avaliação de reconstrução disponibilizadas pelo próprio *scikit-learn*. Com estes cálculos, podemos avaliar quão eficiente foi a decomposição das matrizes originais, permitindo saber se a perda de informação no processo foi grande."
   ]
  },
  {
   "cell_type": "code",
   "execution_count": 47,
   "metadata": {
    "collapsed": false
   },
   "outputs": [
    {
     "name": "stdout",
     "output_type": "stream",
     "text": [
      "shot Reconstruction evaluation\n",
      "\n",
      "Reconstruction error from NMF object: 1.322487922632152\n",
      "Manual reconstruction error: 1.322487918480089\n",
      "Mean reconstruction error: 0.0033062197962002225\n",
      "--------------------------------\n",
      "\n",
      "pass Reconstruction evaluation\n",
      "\n",
      "Reconstruction error from NMF object: 28.187148371523932\n",
      "Manual reconstruction error: 28.187148122559634\n",
      "Mean reconstruction error: 0.035233935153199544\n",
      "--------------------------------\n",
      "\n",
      "cross Reconstruction evaluation\n",
      "\n",
      "Reconstruction error from NMF object: 2.3365384800195814\n",
      "Manual reconstruction error: 2.3365384458665375\n",
      "Mean reconstruction error: 0.005841346114666344\n",
      "--------------------------------\n",
      "\n",
      "dribble Reconstruction evaluation\n",
      "\n",
      "Reconstruction error from NMF object: 4.0057846934624015\n",
      "Manual reconstruction error: 4.005784678627454\n",
      "Mean reconstruction error: 0.010014461696568635\n",
      "--------------------------------\n",
      "\n"
     ]
    }
   ],
   "source": [
    "for act_type in action_types:\n",
    "    print(\"{} Reconstruction evaluation\\n\".format(act_type))\n",
    "    print(\n",
    "        \"Reconstruction error from NMF object: {}\".format(\n",
    "            nmfs[act_type].reconstruction_err_\n",
    "        )\n",
    "    )\n",
    "    reconst_vectors = np.dot(\n",
    "        nmfs[act_type].components_.T,\n",
    "        nmfs[act_type].transform(concat_vectors[act_type]).T,\n",
    "    ).T\n",
    "    reconst_error = np.sqrt(np.sum((concat_vectors[act_type] - reconst_vectors) ** 2))\n",
    "    print(\"Manual reconstruction error: {}\".format(reconst_error))\n",
    "    print(\n",
    "        \"Mean reconstruction error: {}\".format(\n",
    "            reconst_error / (concat_vectors[act_type].shape[1])\n",
    "        )\n",
    "    )\n",
    "    print(\"--------------------------------\\n\")"
   ]
  },
  {
   "cell_type": "markdown",
   "metadata": {
    "collapsed": false
   },
   "source": [
    "### Deanonymization Evaluation"
   ]
  },
  {
   "attachments": {},
   "cell_type": "markdown",
   "metadata": {},
   "source": [
    "Neste *header*, é feito a avaliação do modelo por meio da análise da desanonimização de jogadores, isto é, é criado um modelo a partir dos dados de eventos da primeira metade da base de dados, ordenada pela data dos jogos, e sua performance é avaliada utilizando a segunda metade como teste. Isto é feito para que seja visto se o próprio jogadores J irá aparecer nos dados de teste/predição como um dos jogadores que mais se assemelham a ele mesmo, criado na base de treino. \n",
    "\n",
    "Uma vez que a métrica de similaridade de jogadores por meio da distância de *Player Vector* gera uma lista de jogadores mais similares em forma de jogo, é avaliado não só se o jogador J apareceu como o que mais se aproxima dele mesmo, mas avaliado também quantas vezes ele aparecer entre os 3, 5 ou 10 jogadores que mais se aproximam dele, assim como também é avaliado o erro dessa medição.\n",
    "\n",
    "Tal abordagem é importante pois o modelo não é perfeito, e raramente um jogador será perfeitamente classificado como o mais próximo dele mesmo. No entanto, analisando os N mais próximos jogadores e checando a existência do próprio jogador nessa lista, podemos ter uma visão mais detalhada de quão bem o classificar performa na caracterização do estilo de jogo dos atletas estudados.\n",
    "\n",
    "Os conceitos abordados nessa parte do código são tratados principalmente na seção 5.4 do artigo, embora o conceito seja discutido em outras seções, como a 3. Em suma, como dito no próprio artigo, a métrica é crucial para avalair a performance do modelo. Se a maioria dos jogadores aparecer no topo de seus *rankings* de similaridade, então o modelo é satisfatório. Se a maioria dos jogadores não aparece perto do topo de seus próprios *rankings*, o modelo é falho."
   ]
  },
  {
   "cell_type": "code",
   "execution_count": 48,
   "metadata": {
    "collapsed": false
   },
   "outputs": [],
   "source": [
    "matches_1st = {}\n",
    "matches_2nd = {}\n",
    "spadl_1st = {}\n",
    "spadl_2nd = {}\n",
    "season_minutes_1st = {}\n",
    "season_minutes_2nd = {}\n",
    "for league in leagues:\n",
    "    matches[league] = matches[league].sort_values(by=\"dateutc\").reset_index(drop=True)\n",
    "    matches_1st[league] = (\n",
    "        matches[league].loc[: int(len(matches[league]) / 2) - 1, \"wyId\"].values.tolist()\n",
    "    )\n",
    "    matches_2nd[league] = (\n",
    "        matches[league].loc[int(len(matches[league]) / 2) :, \"wyId\"].values.tolist()\n",
    "    )\n",
    "    season_minutes_1st[league] = calculate_minutes_per_season(\n",
    "        game_minutes[league][game_minutes[league][\"game_id\"].isin(matches_1st[league])]\n",
    "    )\n",
    "    season_minutes_2nd[league] = calculate_minutes_per_season(\n",
    "        game_minutes[league][game_minutes[league][\"game_id\"].isin(matches_2nd[league])]\n",
    "    )\n",
    "    season_minutes_1st[league] = season_minutes_1st[league][\n",
    "        season_minutes_1st[league][\"minutes_played\"] >= 900\n",
    "    ]\n",
    "    season_minutes_2nd[league] = season_minutes_2nd[league][\n",
    "        season_minutes_2nd[league][\"minutes_played\"] >= 900\n",
    "    ]\n",
    "    season_minutes_1st[league] = season_minutes_1st[league][\n",
    "        season_minutes_1st[league][\"player_id\"].isin(\n",
    "            season_minutes_2nd[league][\"player_id\"]\n",
    "        )\n",
    "    ]\n",
    "    season_minutes_2nd[league] = season_minutes_2nd[league][\n",
    "        season_minutes_2nd[league][\"player_id\"].isin(\n",
    "            season_minutes_1st[league][\"player_id\"]\n",
    "        )\n",
    "    ]\n",
    "    mask_1st = (spadl[league][\"game_id\"].isin(matches_1st[league])) & (\n",
    "        spadl[league][\"player_id\"].isin(season_minutes_1st[league][\"player_id\"])\n",
    "    )\n",
    "    spadl_1st[league] = spadl[league][mask_1st]\n",
    "    mask_2nd = (spadl[league][\"game_id\"].isin(matches_2nd[league])) & (\n",
    "        spadl[league][\"player_id\"].isin(season_minutes_2nd[league][\"player_id\"])\n",
    "    )\n",
    "    spadl_2nd[league] = spadl[league][mask_2nd]"
   ]
  },
  {
   "cell_type": "code",
   "execution_count": 49,
   "metadata": {
    "collapsed": false
   },
   "outputs": [
    {
     "name": "stderr",
     "output_type": "stream",
     "text": [
      "100%|██████████| 144/144 [00:02<00:00, 66.51it/s]\n",
      "100%|██████████| 144/144 [00:01<00:00, 72.51it/s]\n",
      "100%|██████████| 144/144 [00:02<00:00, 61.15it/s]\n",
      "100%|██████████| 144/144 [00:02<00:00, 63.55it/s]\n",
      "100%|██████████| 144/144 [00:02<00:00, 66.88it/s]\n",
      "100%|██████████| 144/144 [00:01<00:00, 74.16it/s]\n",
      "100%|██████████| 144/144 [00:02<00:00, 68.94it/s]\n",
      "100%|██████████| 144/144 [00:01<00:00, 72.38it/s]\n",
      "100%|██████████| 154/154 [00:02<00:00, 66.32it/s]\n",
      "100%|██████████| 154/154 [00:02<00:00, 73.95it/s]\n",
      "100%|██████████| 154/154 [00:02<00:00, 59.18it/s]\n",
      "100%|██████████| 154/154 [00:02<00:00, 64.78it/s]\n",
      "100%|██████████| 154/154 [00:02<00:00, 68.07it/s]\n",
      "100%|██████████| 154/154 [00:02<00:00, 74.09it/s]\n",
      "100%|██████████| 154/154 [00:02<00:00, 67.34it/s]\n",
      "100%|██████████| 154/154 [00:02<00:00, 74.41it/s]\n"
     ]
    }
   ],
   "source": [
    "heatmaps_1st = {}\n",
    "heatmaps_2nd = {}\n",
    "for league in leagues:\n",
    "    heatmaps_1st[league] = {}\n",
    "    heatmaps_2nd[league] = {}\n",
    "    for at in action_types:\n",
    "        heatmaps_1st[league][at] = construct_heatmaps(\n",
    "            spadl=spadl_1st[league],\n",
    "            season_minutes=season_minutes_1st[league],\n",
    "            action_type=at,\n",
    "        )\n",
    "        heatmaps_2nd[league][at] = construct_heatmaps(\n",
    "            spadl=spadl_2nd[league],\n",
    "            season_minutes=season_minutes_2nd[league],\n",
    "            action_type=at,\n",
    "        )"
   ]
  },
  {
   "cell_type": "code",
   "execution_count": 50,
   "metadata": {
    "collapsed": false
   },
   "outputs": [],
   "source": [
    "vectorized_heatmaps_1st = {}\n",
    "vectorized_heatmaps_2nd = {}\n",
    "for league in leagues:\n",
    "    vectorized_heatmaps_1st[league] = {}\n",
    "    vectorized_heatmaps_2nd[league] = {}\n",
    "    for act_type in action_types:\n",
    "        vectorized_heatmaps_1st[league][act_type] = heatmaps_to_vectors(\n",
    "            heatmaps=heatmaps_1st[league][act_type], action_type=act_type\n",
    "        )\n",
    "        vectorized_heatmaps_2nd[league][act_type] = heatmaps_to_vectors(\n",
    "            heatmaps=heatmaps_2nd[league][act_type], action_type=act_type\n",
    "        )"
   ]
  },
  {
   "cell_type": "code",
   "execution_count": 51,
   "metadata": {
    "collapsed": false
   },
   "outputs": [],
   "source": [
    "def coefficients_transform(vectorized_heatmaps, nmf):\n",
    "    return nmf.transform(vectorized_heatmaps)"
   ]
  },
  {
   "cell_type": "code",
   "execution_count": 52,
   "metadata": {
    "collapsed": false
   },
   "outputs": [],
   "source": [
    "vectorized_coefs_1st = {}\n",
    "vectorized_coefs_2nd = {}\n",
    "for league in leagues:\n",
    "    vectorized_coefs_1st[league] = {}\n",
    "    vectorized_coefs_2nd[league] = {}\n",
    "    for act_type in action_types:\n",
    "        vectorized_coefs_1st[league][act_type] = coefficients_transform(\n",
    "            vectorized_heatmaps=vectorized_heatmaps_1st[league][act_type],\n",
    "            nmf=nmfs[act_type],\n",
    "        )\n",
    "        vectorized_coefs_2nd[league][act_type] = coefficients_transform(\n",
    "            vectorized_heatmaps=vectorized_heatmaps_2nd[league][act_type],\n",
    "            nmf=nmfs[act_type],\n",
    "        )"
   ]
  },
  {
   "cell_type": "code",
   "execution_count": 53,
   "metadata": {
    "collapsed": false
   },
   "outputs": [],
   "source": [
    "player_vectors_1st = {}\n",
    "player_vectors_2nd = {}\n",
    "for league in leagues:\n",
    "    player_vectors_1st[league] = np.concatenate(\n",
    "        [vectorized_coefs_1st[league][act_type] for act_type in action_types], axis=1\n",
    "    )\n",
    "    player_vectors_2nd[league] = np.concatenate(\n",
    "        [vectorized_coefs_2nd[league][act_type] for act_type in action_types], axis=1\n",
    "    )"
   ]
  },
  {
   "cell_type": "code",
   "execution_count": 54,
   "metadata": {
    "collapsed": false
   },
   "outputs": [],
   "source": [
    "player_vectors_1st = np.concatenate([player_vectors_1st[league] for league in leagues])\n",
    "player_vectors_2nd = np.concatenate([player_vectors_2nd[league] for league in leagues])"
   ]
  },
  {
   "cell_type": "code",
   "execution_count": 55,
   "metadata": {
    "collapsed": false
   },
   "outputs": [],
   "source": [
    "player_ids = []\n",
    "for league in leagues:\n",
    "    player_ids += list(heatmaps_1st[league][\"shot\"].keys())"
   ]
  },
  {
   "cell_type": "code",
   "execution_count": 56,
   "metadata": {
    "collapsed": false
   },
   "outputs": [],
   "source": [
    "from sklearn.metrics import pairwise_distances"
   ]
  },
  {
   "cell_type": "code",
   "execution_count": 57,
   "metadata": {
    "collapsed": false
   },
   "outputs": [],
   "source": [
    "D = pairwise_distances(player_vectors_1st, player_vectors_2nd, metric=\"manhattan\")\n",
    "\n",
    "# sort each row\n",
    "# k_d = np.sort(D, axis=1)\n",
    "# sort each row and replace distances by index\n",
    "k_i = np.argsort(D, axis=1)\n",
    "# replace indices by player ids\n",
    "p_i = np.take(player_ids, k_i, axis=0)\n",
    "\n",
    "rs = np.argmax(\n",
    "    np.array([p_i[i, :] == player_ids[i] for i in range(p_i.shape[0])]), axis=1\n",
    ")\n",
    "\n",
    "\n",
    "def mean_reciprocal_rank(rs):\n",
    "    return np.mean(1.0 / (rs + 1))\n",
    "\n",
    "\n",
    "def top_k(rs, k):\n",
    "    return (rs < k).sum() / len(rs)\n",
    "\n",
    "\n",
    "mrr = mean_reciprocal_rank(rs)\n",
    "top1 = top_k(rs, 1)\n",
    "top3 = top_k(rs, 3)\n",
    "top5 = top_k(rs, 5)\n",
    "top10 = top_k(rs, 10)"
   ]
  },
  {
   "cell_type": "code",
   "execution_count": 58,
   "metadata": {
    "collapsed": false
   },
   "outputs": [
    {
     "name": "stdout",
     "output_type": "stream",
     "text": [
      "Top 1 = 38.3%\n",
      "Top 3 = 61.4%\n",
      "Top 5 = 70.5%\n",
      "Top 10 = 82.2%\n",
      "MRR = 0.533\n"
     ]
    }
   ],
   "source": [
    "print(\"Top 1 = {}%\".format(round(top1 * 100, 1)))\n",
    "print(\"Top 3 = {}%\".format(round(top3 * 100, 1)))\n",
    "print(\"Top 5 = {}%\".format(round(top5 * 100, 1)))\n",
    "print(\"Top 10 = {}%\".format(round(top10 * 100, 1)))\n",
    "print(\"MRR = {}\".format(round(mrr, 3)))"
   ]
  },
  {
   "cell_type": "markdown",
   "metadata": {
    "collapsed": false
   },
   "source": [
    "### Explore Similar Players"
   ]
  },
  {
   "attachments": {},
   "cell_type": "markdown",
   "metadata": {},
   "source": [
    "Neste *header*, são calculados os coeficientes e, posteriormente, os *Player Vectors* para cada um dos jogadores desejados. Como definido no artigo, o vetor V de um jogador P é a concatenação dos vetores comprimidos dele (computados durante o processo de fatoração não negativa) para cada uma das ações relevantes para análise. Após essa etapa, são calculadas as distâncias entre os jogadores de acordo com os vetores definidos para cada um deles. A métrica de distância utilizada é a distância *Manhattan*, uma vez que ela se mostrou ter um resultado melhor de classificação.\n",
    "\n",
    "Os cálculos realizados nesta parte são abordados principalmente nas seções 4.3 e 4.4 do artigo, enquanto são discutidas nas seções subsequentes como a seção 5."
   ]
  },
  {
   "cell_type": "code",
   "execution_count": 59,
   "metadata": {
    "collapsed": false
   },
   "outputs": [],
   "source": [
    "vectorized_coefs = {}\n",
    "for league in leagues:\n",
    "    vectorized_coefs[league] = {}\n",
    "    for act_type in action_types:\n",
    "        vectorized_coefs[league][act_type] = coefficients_transform(\n",
    "            vectorized_heatmaps=vectorized_heatmaps[league][act_type],\n",
    "            nmf=nmfs[act_type],\n",
    "        )"
   ]
  },
  {
   "cell_type": "code",
   "execution_count": 60,
   "metadata": {
    "collapsed": false
   },
   "outputs": [],
   "source": [
    "player_vectors = {}\n",
    "for league in leagues:\n",
    "    player_vectors[league] = np.concatenate(\n",
    "        [vectorized_coefs[league][act_type] for act_type in action_types], axis=1\n",
    "    )"
   ]
  },
  {
   "cell_type": "code",
   "execution_count": 61,
   "metadata": {
    "collapsed": false
   },
   "outputs": [],
   "source": [
    "player_vectors = np.concatenate([player_vectors[league] for league in leagues])"
   ]
  },
  {
   "cell_type": "code",
   "execution_count": 62,
   "metadata": {
    "collapsed": false
   },
   "outputs": [],
   "source": [
    "player_ids = []\n",
    "for league in leagues:\n",
    "    player_ids += list(heatmaps[league][\"shot\"].keys())"
   ]
  },
  {
   "cell_type": "code",
   "execution_count": 63,
   "metadata": {
    "collapsed": false
   },
   "outputs": [],
   "source": [
    "D = pairwise_distances(player_vectors, player_vectors, metric=\"manhattan\")\n",
    "# sort each row\n",
    "# k_d = np.sort(D, axis=1)\n",
    "# sort each row and replace distances by index\n",
    "k_i = np.argsort(D, axis=1)\n",
    "# replace indices by player ids\n",
    "p_i = np.take(player_ids, k_i, axis=0)"
   ]
  },
  {
   "cell_type": "code",
   "execution_count": 64,
   "metadata": {
    "collapsed": false
   },
   "outputs": [],
   "source": [
    "similar_players = pd.DataFrame(\n",
    "    data=p_i[:, :11],\n",
    "    columns=[\"player_id\"] + [\"{}th_similar\".format(i) for i in range(1, 11)],\n",
    ")"
   ]
  },
  {
   "cell_type": "code",
   "execution_count": 65,
   "metadata": {
    "collapsed": false
   },
   "outputs": [],
   "source": [
    "players = players[players[\"player_id\"].isin(similar_players[\"player_id\"])].reset_index(\n",
    "    drop=True\n",
    ")"
   ]
  },
  {
   "cell_type": "code",
   "execution_count": 66,
   "metadata": {
    "collapsed": false
   },
   "outputs": [],
   "source": [
    "id_to_name = {}\n",
    "for i in range(len(players)):\n",
    "    id_to_name[players.loc[i, \"player_id\"]] = players.loc[i, \"player_name\"]"
   ]
  },
  {
   "cell_type": "code",
   "execution_count": 67,
   "metadata": {
    "collapsed": false
   },
   "outputs": [],
   "source": [
    "similar_players = similar_players.replace(id_to_name)"
   ]
  },
  {
   "cell_type": "code",
   "execution_count": 74,
   "metadata": {},
   "outputs": [
    {
     "data": {
      "text/html": [
       "<div>\n",
       "<style scoped>\n",
       "    .dataframe tbody tr th:only-of-type {\n",
       "        vertical-align: middle;\n",
       "    }\n",
       "\n",
       "    .dataframe tbody tr th {\n",
       "        vertical-align: top;\n",
       "    }\n",
       "\n",
       "    .dataframe thead th {\n",
       "        text-align: right;\n",
       "    }\n",
       "</style>\n",
       "<table border=\"1\" class=\"dataframe\">\n",
       "  <thead>\n",
       "    <tr style=\"text-align: right;\">\n",
       "      <th></th>\n",
       "      <th>player_id</th>\n",
       "      <th>1th_similar</th>\n",
       "      <th>2th_similar</th>\n",
       "      <th>3th_similar</th>\n",
       "      <th>4th_similar</th>\n",
       "      <th>5th_similar</th>\n",
       "      <th>6th_similar</th>\n",
       "      <th>7th_similar</th>\n",
       "      <th>8th_similar</th>\n",
       "      <th>9th_similar</th>\n",
       "      <th>10th_similar</th>\n",
       "    </tr>\n",
       "  </thead>\n",
       "  <tbody>\n",
       "    <tr>\n",
       "      <th>0</th>\n",
       "      <td>Toby Alderweireld</td>\n",
       "      <td>Aïssa Mandi</td>\n",
       "      <td>David López Silva</td>\n",
       "      <td>Raphaël Varane</td>\n",
       "      <td>Gerard Piqué Bernabéu</td>\n",
       "      <td>Aritz Elustondo Irribaria</td>\n",
       "      <td>Unai Núñez Gestoso</td>\n",
       "      <td>Ezequiel Marcelo Garay</td>\n",
       "      <td>Jack Stephens</td>\n",
       "      <td>Facundo Sebastián Roncaglia</td>\n",
       "      <td>Laurent Koscielny</td>\n",
       "    </tr>\n",
       "    <tr>\n",
       "      <th>1</th>\n",
       "      <td>Jan Vertonghen</td>\n",
       "      <td>Samuel Yves Umtiti</td>\n",
       "      <td>Zouhair Feddal</td>\n",
       "      <td>Íñigo Martínez Berridi</td>\n",
       "      <td>Wesley Hoedt</td>\n",
       "      <td>Clément Lenglet</td>\n",
       "      <td>Aymeric  Laporte</td>\n",
       "      <td>Pedro Bigas Rigo</td>\n",
       "      <td>Anaitz Arbilla Zabala</td>\n",
       "      <td>Sergio Ramos García</td>\n",
       "      <td>Antonio Rüdiger</td>\n",
       "    </tr>\n",
       "    <tr>\n",
       "      <th>2</th>\n",
       "      <td>Christian  Dannemann Eriksen</td>\n",
       "      <td>Mesut Özil</td>\n",
       "      <td>Kevin De Bruyne</td>\n",
       "      <td>Henrikh Mkhitaryan</td>\n",
       "      <td>Jesse Lingard</td>\n",
       "      <td>Francesc Fàbregas i Soler</td>\n",
       "      <td>Joan Jordán Moreno</td>\n",
       "      <td>Aaron Ramsey</td>\n",
       "      <td>Alex  Pritchard</td>\n",
       "      <td>Paul Pogba</td>\n",
       "      <td>Erik Lamela</td>\n",
       "    </tr>\n",
       "    <tr>\n",
       "      <th>3</th>\n",
       "      <td>Ragnar Klavan</td>\n",
       "      <td>Andreu Fontàs Prat</td>\n",
       "      <td>Pedro Bigas Rigo</td>\n",
       "      <td>Thomas Vermaelen</td>\n",
       "      <td>Víctor Ruíz Torre</td>\n",
       "      <td>Sergio Ramos García</td>\n",
       "      <td>Jeison Fabián Murillo Cerón</td>\n",
       "      <td>Alfie Mawson</td>\n",
       "      <td>Clément Lenglet</td>\n",
       "      <td>Zouhair Feddal</td>\n",
       "      <td>Aymeric  Laporte</td>\n",
       "    </tr>\n",
       "    <tr>\n",
       "      <th>4</th>\n",
       "      <td>Johann  Berg Guðmunds­son</td>\n",
       "      <td>Matt Ritchie</td>\n",
       "      <td>Andros Townsend</td>\n",
       "      <td>David Remeseiro Salgueiro</td>\n",
       "      <td>Julián Omar Ramos Suárez</td>\n",
       "      <td>Theo  Walcott</td>\n",
       "      <td>Markel Susaeta Laskurain</td>\n",
       "      <td>Ibai Gómez Pérez</td>\n",
       "      <td>Michail Antonio</td>\n",
       "      <td>Aaron  Lennon</td>\n",
       "      <td>Sergio Gontán Gallardo</td>\n",
       "    </tr>\n",
       "    <tr>\n",
       "      <th>5</th>\n",
       "      <td>Erik Pieters</td>\n",
       "      <td>Antonio Manuel Luna Rodríguez</td>\n",
       "      <td>Rubén Duarte Sánchez</td>\n",
       "      <td>Kieran  Gibbs</td>\n",
       "      <td>Paul Dummett</td>\n",
       "      <td>Charlie Taylor</td>\n",
       "      <td>Markus Suttner</td>\n",
       "      <td>Dani Castellano Betancor</td>\n",
       "      <td>Gaëtan Bong Songo</td>\n",
       "      <td>Enric Saborit Teixidor</td>\n",
       "      <td>Fernando Navarro i Corbacho</td>\n",
       "    </tr>\n",
       "    <tr>\n",
       "      <th>6</th>\n",
       "      <td>Georginio Wijnaldum</td>\n",
       "      <td>Víctor Camarasa Ferrando</td>\n",
       "      <td>Wayne Rooney</td>\n",
       "      <td>Mikel Rico Moreno</td>\n",
       "      <td>Pedro  Mba Obiang Avomo</td>\n",
       "      <td>Mikel Merino Zazón</td>\n",
       "      <td>David Zurutuza Veillet</td>\n",
       "      <td>Grzegorz Krychowiak</td>\n",
       "      <td>Daniel García Carrillo</td>\n",
       "      <td>Idrissa Gana Gueye</td>\n",
       "      <td>Nemanja Radoja</td>\n",
       "    </tr>\n",
       "    <tr>\n",
       "      <th>7</th>\n",
       "      <td>Terence Kongolo</td>\n",
       "      <td>Paul Dummett</td>\n",
       "      <td>Rubén Duarte Sánchez</td>\n",
       "      <td>Fernando Navarro i Corbacho</td>\n",
       "      <td>Raúl García Carnero</td>\n",
       "      <td>Lucas  Hernández Pi</td>\n",
       "      <td>Erik Pieters</td>\n",
       "      <td>Antonio Manuel Luna Rodríguez</td>\n",
       "      <td>Diego González Polanco</td>\n",
       "      <td>Dani Castellano Betancor</td>\n",
       "      <td>Charlie Taylor</td>\n",
       "    </tr>\n",
       "    <tr>\n",
       "      <th>8</th>\n",
       "      <td>Bruno Martins Indi</td>\n",
       "      <td>Guillermo Alfonso Maripán Loaysa</td>\n",
       "      <td>Angelo Obinze Ogbonna</td>\n",
       "      <td>Christopher Schindler</td>\n",
       "      <td>Dimitrios Siovas</td>\n",
       "      <td>Bruno González Cabrera</td>\n",
       "      <td>Christian Kabasele</td>\n",
       "      <td>Ahmed Hegazy</td>\n",
       "      <td>José Manuel Rodríguez Benito</td>\n",
       "      <td>Juan Torres Ruiz</td>\n",
       "      <td>Jonny Evans</td>\n",
       "    </tr>\n",
       "    <tr>\n",
       "      <th>9</th>\n",
       "      <td>Daryl Janmaat</td>\n",
       "      <td>Marc Navarro Ceciliano</td>\n",
       "      <td>Tom Smith</td>\n",
       "      <td>Roberto José Rosales Altuve</td>\n",
       "      <td>Pedro López Muñoz</td>\n",
       "      <td>Joel Ward</td>\n",
       "      <td>Rubén Peña Jiménez</td>\n",
       "      <td>Cédric Ricardo Alves Soares</td>\n",
       "      <td>Pablo Maffeo Becerra</td>\n",
       "      <td>Míchel Macedo Rocha Machado</td>\n",
       "      <td>Javier  López Rodríguez</td>\n",
       "    </tr>\n",
       "  </tbody>\n",
       "</table>\n",
       "</div>"
      ],
      "text/plain": [
       "                      player_id                       1th_similar  \\\n",
       "0             Toby Alderweireld                       Aïssa Mandi   \n",
       "1                Jan Vertonghen                Samuel Yves Umtiti   \n",
       "2  Christian  Dannemann Eriksen                        Mesut Özil   \n",
       "3                 Ragnar Klavan                Andreu Fontàs Prat   \n",
       "4     Johann  Berg Guðmunds­son                      Matt Ritchie   \n",
       "5                  Erik Pieters     Antonio Manuel Luna Rodríguez   \n",
       "6           Georginio Wijnaldum          Víctor Camarasa Ferrando   \n",
       "7               Terence Kongolo                      Paul Dummett   \n",
       "8            Bruno Martins Indi  Guillermo Alfonso Maripán Loaysa   \n",
       "9                 Daryl Janmaat            Marc Navarro Ceciliano   \n",
       "\n",
       "             2th_similar                  3th_similar  \\\n",
       "0      David López Silva               Raphaël Varane   \n",
       "1         Zouhair Feddal       Íñigo Martínez Berridi   \n",
       "2        Kevin De Bruyne           Henrikh Mkhitaryan   \n",
       "3       Pedro Bigas Rigo             Thomas Vermaelen   \n",
       "4        Andros Townsend    David Remeseiro Salgueiro   \n",
       "5   Rubén Duarte Sánchez                Kieran  Gibbs   \n",
       "6           Wayne Rooney            Mikel Rico Moreno   \n",
       "7   Rubén Duarte Sánchez  Fernando Navarro i Corbacho   \n",
       "8  Angelo Obinze Ogbonna        Christopher Schindler   \n",
       "9              Tom Smith  Roberto José Rosales Altuve   \n",
       "\n",
       "                4th_similar                5th_similar  \\\n",
       "0     Gerard Piqué Bernabéu  Aritz Elustondo Irribaria   \n",
       "1              Wesley Hoedt            Clément Lenglet   \n",
       "2             Jesse Lingard  Francesc Fàbregas i Soler   \n",
       "3         Víctor Ruíz Torre        Sergio Ramos García   \n",
       "4  Julián Omar Ramos Suárez              Theo  Walcott   \n",
       "5              Paul Dummett             Charlie Taylor   \n",
       "6   Pedro  Mba Obiang Avomo         Mikel Merino Zazón   \n",
       "7       Raúl García Carnero        Lucas  Hernández Pi   \n",
       "8          Dimitrios Siovas     Bruno González Cabrera   \n",
       "9         Pedro López Muñoz                  Joel Ward   \n",
       "\n",
       "                   6th_similar                    7th_similar  \\\n",
       "0           Unai Núñez Gestoso         Ezequiel Marcelo Garay   \n",
       "1             Aymeric  Laporte               Pedro Bigas Rigo   \n",
       "2           Joan Jordán Moreno                   Aaron Ramsey   \n",
       "3  Jeison Fabián Murillo Cerón                   Alfie Mawson   \n",
       "4     Markel Susaeta Laskurain               Ibai Gómez Pérez   \n",
       "5               Markus Suttner       Dani Castellano Betancor   \n",
       "6       David Zurutuza Veillet            Grzegorz Krychowiak   \n",
       "7                 Erik Pieters  Antonio Manuel Luna Rodríguez   \n",
       "8           Christian Kabasele                   Ahmed Hegazy   \n",
       "9           Rubén Peña Jiménez    Cédric Ricardo Alves Soares   \n",
       "\n",
       "                    8th_similar                  9th_similar  \\\n",
       "0                 Jack Stephens  Facundo Sebastián Roncaglia   \n",
       "1         Anaitz Arbilla Zabala          Sergio Ramos García   \n",
       "2               Alex  Pritchard                   Paul Pogba   \n",
       "3               Clément Lenglet               Zouhair Feddal   \n",
       "4               Michail Antonio                Aaron  Lennon   \n",
       "5             Gaëtan Bong Songo       Enric Saborit Teixidor   \n",
       "6        Daniel García Carrillo           Idrissa Gana Gueye   \n",
       "7        Diego González Polanco     Dani Castellano Betancor   \n",
       "8  José Manuel Rodríguez Benito             Juan Torres Ruiz   \n",
       "9          Pablo Maffeo Becerra  Míchel Macedo Rocha Machado   \n",
       "\n",
       "                  10th_similar  \n",
       "0            Laurent Koscielny  \n",
       "1              Antonio Rüdiger  \n",
       "2                  Erik Lamela  \n",
       "3             Aymeric  Laporte  \n",
       "4       Sergio Gontán Gallardo  \n",
       "5  Fernando Navarro i Corbacho  \n",
       "6               Nemanja Radoja  \n",
       "7               Charlie Taylor  \n",
       "8                  Jonny Evans  \n",
       "9      Javier  López Rodríguez  "
      ]
     },
     "execution_count": 74,
     "metadata": {},
     "output_type": "execute_result"
    }
   ],
   "source": [
    "similar_players.head(10)"
   ]
  }
 ],
 "metadata": {
  "kernelspec": {
   "display_name": "Python 3",
   "language": "python",
   "name": "python3"
  },
  "language_info": {
   "codemirror_mode": {
    "name": "ipython",
    "version": 3
   },
   "file_extension": ".py",
   "mimetype": "text/x-python",
   "name": "python",
   "nbconvert_exporter": "python",
   "pygments_lexer": "ipython3",
   "version": "3.11.0"
  }
 },
 "nbformat": 4,
 "nbformat_minor": 0
}
