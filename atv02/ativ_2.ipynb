{
 "cells": [
  {
   "cell_type": "markdown",
   "metadata": {
    "collapsed": false
   },
   "source": [
    "# [CDAF] Atividade 2"
   ]
  },
  {
   "attachments": {},
   "cell_type": "markdown",
   "metadata": {
    "collapsed": false
   },
   "source": [
    "## Nome e matrícula\n",
    "Nome: Luís Felipe Ramos Ferreira\n",
    "Matrícula: 2019022553"
   ]
  },
  {
   "cell_type": "markdown",
   "metadata": {
    "collapsed": false
   },
   "source": [
    "## Introdução\n",
    "Nesta atividade, vamos revisar os conceitos aprendidos em sala de aula sobre estatísticas agregadas. Para esta atividade, usaremos dados do Brasileirão 2022 do FBRef."
   ]
  },
  {
   "cell_type": "markdown",
   "metadata": {
    "collapsed": false
   },
   "source": [
    "## Questão 1\n",
    "- Baixe o dataset de resultados em https://fbref.com/en/comps/24/2022/schedule/2022-Serie-A-Scores-and-Fixtures\n",
    "- Crie uma média móvel de 5 jogos, para cada equipe, de cada uma das seguintes estatísticas: xG pró, xG contra, e dif. xG.\n",
    "- Escolha 4 times para visualizar a série temporal das estatísticas acima. Uma visualização para cada uma das estatísticas, onde a média geral do campeonato é apresentada com uma linha pontilhada em conjunto com a média móvel dos times escolhidos.\n",
    "- Interprete os resultados. O que isso pode indicar sobre a qualidade ofensiva e defensiva dos times escolhidos?"
   ]
  },
  {
   "cell_type": "code",
   "execution_count": 2,
   "metadata": {
    "collapsed": false
   },
   "outputs": [],
   "source": [
    "import pandas as pd\n",
    "import numpy as np\n",
    "import matplotlib.pyplot as plt\n",
    "import warnings\n",
    "warnings.filterwarnings('ignore')"
   ]
  },
  {
   "cell_type": "code",
   "execution_count": 3,
   "metadata": {},
   "outputs": [
    {
     "data": {
      "text/html": [
       "<div>\n",
       "<style scoped>\n",
       "    .dataframe tbody tr th:only-of-type {\n",
       "        vertical-align: middle;\n",
       "    }\n",
       "\n",
       "    .dataframe tbody tr th {\n",
       "        vertical-align: top;\n",
       "    }\n",
       "\n",
       "    .dataframe thead th {\n",
       "        text-align: right;\n",
       "    }\n",
       "</style>\n",
       "<table border=\"1\" class=\"dataframe\">\n",
       "  <thead>\n",
       "    <tr style=\"text-align: right;\">\n",
       "      <th></th>\n",
       "      <th>Wk</th>\n",
       "      <th>Day</th>\n",
       "      <th>Date</th>\n",
       "      <th>Time</th>\n",
       "      <th>Home</th>\n",
       "      <th>xG_Home</th>\n",
       "      <th>Score</th>\n",
       "      <th>xG_Away</th>\n",
       "      <th>Away</th>\n",
       "      <th>Attendance</th>\n",
       "      <th>Venue</th>\n",
       "      <th>Referee</th>\n",
       "      <th>xG_diff</th>\n",
       "    </tr>\n",
       "  </thead>\n",
       "  <tbody>\n",
       "    <tr>\n",
       "      <th>0</th>\n",
       "      <td>1</td>\n",
       "      <td>Sat</td>\n",
       "      <td>2022-04-09</td>\n",
       "      <td>16:30</td>\n",
       "      <td>Fluminense</td>\n",
       "      <td>1.6</td>\n",
       "      <td>0–0</td>\n",
       "      <td>0.1</td>\n",
       "      <td>Santos</td>\n",
       "      <td>22855.0</td>\n",
       "      <td>Estadio Jornalista Mário Filho</td>\n",
       "      <td>Anderson Daronco</td>\n",
       "      <td>1.5</td>\n",
       "    </tr>\n",
       "    <tr>\n",
       "      <th>1</th>\n",
       "      <td>1</td>\n",
       "      <td>Sat</td>\n",
       "      <td>2022-04-09</td>\n",
       "      <td>19:00</td>\n",
       "      <td>Atl Goianiense</td>\n",
       "      <td>1.4</td>\n",
       "      <td>1–1</td>\n",
       "      <td>1.2</td>\n",
       "      <td>Flamengo</td>\n",
       "      <td>10496.0</td>\n",
       "      <td>Estádio Antônio Accioly</td>\n",
       "      <td>Braulio da Silva Machado</td>\n",
       "      <td>0.2</td>\n",
       "    </tr>\n",
       "    <tr>\n",
       "      <th>2</th>\n",
       "      <td>1</td>\n",
       "      <td>Sun</td>\n",
       "      <td>2022-04-10</td>\n",
       "      <td>11:00</td>\n",
       "      <td>Coritiba</td>\n",
       "      <td>1.7</td>\n",
       "      <td>3–0</td>\n",
       "      <td>0.4</td>\n",
       "      <td>Goiás</td>\n",
       "      <td>17788.0</td>\n",
       "      <td>Estádio Major Antônio Couto Pereira</td>\n",
       "      <td>Raphael Claus</td>\n",
       "      <td>1.3</td>\n",
       "    </tr>\n",
       "    <tr>\n",
       "      <th>3</th>\n",
       "      <td>1</td>\n",
       "      <td>Sun</td>\n",
       "      <td>2022-04-10</td>\n",
       "      <td>16:00</td>\n",
       "      <td>Atlético Mineiro</td>\n",
       "      <td>1.9</td>\n",
       "      <td>2–0</td>\n",
       "      <td>0.6</td>\n",
       "      <td>Internacional</td>\n",
       "      <td>37531.0</td>\n",
       "      <td>Estádio Governador Magalhães Pinto</td>\n",
       "      <td>Bruno Arleu de Araujo</td>\n",
       "      <td>1.3</td>\n",
       "    </tr>\n",
       "    <tr>\n",
       "      <th>4</th>\n",
       "      <td>1</td>\n",
       "      <td>Sun</td>\n",
       "      <td>2022-04-10</td>\n",
       "      <td>16:00</td>\n",
       "      <td>Botafogo (RJ)</td>\n",
       "      <td>1.5</td>\n",
       "      <td>1–3</td>\n",
       "      <td>2.1</td>\n",
       "      <td>Corinthians</td>\n",
       "      <td>36898.0</td>\n",
       "      <td>Estádio Nilton Santos</td>\n",
       "      <td>Wilton Sampaio</td>\n",
       "      <td>-0.6</td>\n",
       "    </tr>\n",
       "    <tr>\n",
       "      <th>...</th>\n",
       "      <td>...</td>\n",
       "      <td>...</td>\n",
       "      <td>...</td>\n",
       "      <td>...</td>\n",
       "      <td>...</td>\n",
       "      <td>...</td>\n",
       "      <td>...</td>\n",
       "      <td>...</td>\n",
       "      <td>...</td>\n",
       "      <td>...</td>\n",
       "      <td>...</td>\n",
       "      <td>...</td>\n",
       "      <td>...</td>\n",
       "    </tr>\n",
       "    <tr>\n",
       "      <th>375</th>\n",
       "      <td>38</td>\n",
       "      <td>Sun</td>\n",
       "      <td>2022-11-13</td>\n",
       "      <td>16:00</td>\n",
       "      <td>Bragantino</td>\n",
       "      <td>0.9</td>\n",
       "      <td>0–1</td>\n",
       "      <td>0.6</td>\n",
       "      <td>Fluminense</td>\n",
       "      <td>NaN</td>\n",
       "      <td>Estádio Nabi Abi Chedid</td>\n",
       "      <td>Bruno Arleu de Araujo</td>\n",
       "      <td>0.3</td>\n",
       "    </tr>\n",
       "    <tr>\n",
       "      <th>376</th>\n",
       "      <td>38</td>\n",
       "      <td>Sun</td>\n",
       "      <td>2022-11-13</td>\n",
       "      <td>16:00</td>\n",
       "      <td>América (MG)</td>\n",
       "      <td>2.1</td>\n",
       "      <td>1–1</td>\n",
       "      <td>0.5</td>\n",
       "      <td>Atl Goianiense</td>\n",
       "      <td>NaN</td>\n",
       "      <td>Estádio Raimundo Sampaio</td>\n",
       "      <td>Leandro Pedro Vuaden</td>\n",
       "      <td>1.6</td>\n",
       "    </tr>\n",
       "    <tr>\n",
       "      <th>377</th>\n",
       "      <td>38</td>\n",
       "      <td>Sun</td>\n",
       "      <td>2022-11-13</td>\n",
       "      <td>16:00</td>\n",
       "      <td>Goiás</td>\n",
       "      <td>0.2</td>\n",
       "      <td>0–4</td>\n",
       "      <td>1.7</td>\n",
       "      <td>São Paulo</td>\n",
       "      <td>NaN</td>\n",
       "      <td>Estádio de Hailé Pinheiro</td>\n",
       "      <td>Marcelo de Lima Henrique</td>\n",
       "      <td>-1.5</td>\n",
       "    </tr>\n",
       "    <tr>\n",
       "      <th>378</th>\n",
       "      <td>38</td>\n",
       "      <td>Sun</td>\n",
       "      <td>2022-11-13</td>\n",
       "      <td>16:00</td>\n",
       "      <td>Internacional</td>\n",
       "      <td>1.4</td>\n",
       "      <td>3–0</td>\n",
       "      <td>1.3</td>\n",
       "      <td>Palmeiras</td>\n",
       "      <td>NaN</td>\n",
       "      <td>Estádio José Pinheiro Borba</td>\n",
       "      <td>Bruno Arleu de Araujo</td>\n",
       "      <td>0.1</td>\n",
       "    </tr>\n",
       "    <tr>\n",
       "      <th>379</th>\n",
       "      <td>38</td>\n",
       "      <td>Sun</td>\n",
       "      <td>2022-11-13</td>\n",
       "      <td>16:00</td>\n",
       "      <td>Atl Paranaense</td>\n",
       "      <td>2.5</td>\n",
       "      <td>3–0</td>\n",
       "      <td>0.9</td>\n",
       "      <td>Botafogo (RJ)</td>\n",
       "      <td>NaN</td>\n",
       "      <td>Estádio Joaquim Américo Guimarães</td>\n",
       "      <td>Anderson Daronco</td>\n",
       "      <td>1.6</td>\n",
       "    </tr>\n",
       "  </tbody>\n",
       "</table>\n",
       "<p>380 rows × 13 columns</p>\n",
       "</div>"
      ],
      "text/plain": [
       "     Wk  Day        Date   Time              Home  xG_Home Score  xG_Away  \\\n",
       "0     1  Sat  2022-04-09  16:30        Fluminense      1.6   0–0      0.1   \n",
       "1     1  Sat  2022-04-09  19:00    Atl Goianiense      1.4   1–1      1.2   \n",
       "2     1  Sun  2022-04-10  11:00          Coritiba      1.7   3–0      0.4   \n",
       "3     1  Sun  2022-04-10  16:00  Atlético Mineiro      1.9   2–0      0.6   \n",
       "4     1  Sun  2022-04-10  16:00     Botafogo (RJ)      1.5   1–3      2.1   \n",
       "..   ..  ...         ...    ...               ...      ...   ...      ...   \n",
       "375  38  Sun  2022-11-13  16:00        Bragantino      0.9   0–1      0.6   \n",
       "376  38  Sun  2022-11-13  16:00      América (MG)      2.1   1–1      0.5   \n",
       "377  38  Sun  2022-11-13  16:00             Goiás      0.2   0–4      1.7   \n",
       "378  38  Sun  2022-11-13  16:00     Internacional      1.4   3–0      1.3   \n",
       "379  38  Sun  2022-11-13  16:00    Atl Paranaense      2.5   3–0      0.9   \n",
       "\n",
       "               Away  Attendance                                Venue  \\\n",
       "0            Santos     22855.0       Estadio Jornalista Mário Filho   \n",
       "1          Flamengo     10496.0              Estádio Antônio Accioly   \n",
       "2             Goiás     17788.0  Estádio Major Antônio Couto Pereira   \n",
       "3     Internacional     37531.0   Estádio Governador Magalhães Pinto   \n",
       "4       Corinthians     36898.0                Estádio Nilton Santos   \n",
       "..              ...         ...                                  ...   \n",
       "375      Fluminense         NaN              Estádio Nabi Abi Chedid   \n",
       "376  Atl Goianiense         NaN             Estádio Raimundo Sampaio   \n",
       "377       São Paulo         NaN            Estádio de Hailé Pinheiro   \n",
       "378       Palmeiras         NaN          Estádio José Pinheiro Borba   \n",
       "379   Botafogo (RJ)         NaN    Estádio Joaquim Américo Guimarães   \n",
       "\n",
       "                      Referee  xG_diff  \n",
       "0            Anderson Daronco      1.5  \n",
       "1    Braulio da Silva Machado      0.2  \n",
       "2               Raphael Claus      1.3  \n",
       "3       Bruno Arleu de Araujo      1.3  \n",
       "4              Wilton Sampaio     -0.6  \n",
       "..                        ...      ...  \n",
       "375     Bruno Arleu de Araujo      0.3  \n",
       "376      Leandro Pedro Vuaden      1.6  \n",
       "377  Marcelo de Lima Henrique     -1.5  \n",
       "378     Bruno Arleu de Araujo      0.1  \n",
       "379          Anderson Daronco      1.6  \n",
       "\n",
       "[380 rows x 13 columns]"
      ]
     },
     "execution_count": 3,
     "metadata": {},
     "output_type": "execute_result"
    }
   ],
   "source": [
    "df: pd.DataFrame = pd.read_csv(\"../data/sportsref.csv\")\n",
    "df.drop(columns=[\"Match Report\", \"Notes\"], inplace=True)\n",
    "df.rename(columns={\"xG\": \"xG_Home\", \"xG.1\": \"xG_Away\"}, inplace=True)\n",
    "df[\"xG_diff\"] = df[\"xG_Home\"] - df[\"xG_Away\"]\n",
    "df"
   ]
  },
  {
   "cell_type": "code",
   "execution_count": 6,
   "metadata": {},
   "outputs": [
    {
     "data": {
      "image/png": "[encoded data removed]",
      "text/plain": [
       "<Figure size 640x480 with 1 Axes>"
      ]
     },
     "metadata": {},
     "output_type": "display_data"
    }
   ],
   "source": [
    "# function to calculate and plot the moving average of a team for xG_pro, xG_against and xG_diff\n",
    "def plot_moving_average(df: pd.DataFrame, team: str, size: int) -> None:\n",
    "    team_df: pd.DataFrame = df[(df[\"Home\"] == team) | (df[\"Away\"] == team)]\n",
    "    team_df[\"xG_pro\"] = np.where(team_df[\"Home\"] == team, team_df[\"xG_Home\"], team_df[\"xG_Away\"])\n",
    "    team_df[\"xG_against\"] = np.where(team_df[\"Home\"] == team, team_df[\"xG_Away\"], team_df[\"xG_Home\"])\n",
    "    xG_pro_moving_avg: np.array = np.convolve(np.array(team_df[\"xG_pro\"]), np.ones(size)) / size\n",
    "    xG_against_moving_avg: np.array = np.convolve(np.array(team_df[\"xG_against\"]), np.ones(size)) / size\n",
    "    xG_diff_moving_avg: np.array = np.convolve(np.array(team_df[\"xG_diff\"]), np.ones(size)) / size\n",
    "    plt.plot(xG_pro_moving_avg,  marker='o', linewidth=1, markersize=3, label=\"Pro\")\n",
    "    plt.plot(xG_against_moving_avg, marker='o', linewidth=1, markersize=3, label=\"Against\")\n",
    "    plt.plot(xG_diff_moving_avg,  marker='o', linewidth=1, markersize=3, label=\"Difference\")\n",
    "    plt.title(f\"{team} moving averages\")\n",
    "    plt.xlabel(\"Week\")\n",
    "    plt.legend()\n",
    "    plt.show()\n",
    "plot_moving_average(df=df, team=\"Internacional\", size=5)\n"
   ]
  },
  {
   "cell_type": "code",
   "execution_count": null,
   "metadata": {},
   "outputs": [],
   "source": []
  },
  {
   "cell_type": "markdown",
   "metadata": {
    "collapsed": false
   },
   "source": [
    "## Questão 2\n",
    "- Agora repita a questão 1, plotando as séries temporais dos mesmos times, mas para uma janela móvel de 10 jogos.\n",
    "- Quais as diferenças entre as séries temporais de 5 e 10 jogos? Em quais situações pode ser vantajoso escolher uma janela à outra?"
   ]
  },
  {
   "cell_type": "code",
   "execution_count": null,
   "metadata": {
    "collapsed": false
   },
   "outputs": [],
   "source": []
  },
  {
   "cell_type": "markdown",
   "metadata": {
    "collapsed": false
   },
   "source": [
    "## Questão 3\n",
    "- Vá para o link\n",
    "-- https://fbref.com/en/comps/24/2022/stats/2022-Serie-A-Stats\n",
    "- Nesta seção de estatísticas, é possível navegar por estatísticas específicas para diferentes aspectos do jogo (finalização, passe, defesa, etc.). Para todos exercícios à partir deste, você terá que selecionar aquelas que julgar mais relevantes para responder as questões.\n",
    "- Monte um radar plot com 6 atributos relevantes para atacantes e compare 3 jogadores de sua escolha. Justifique a escolha de cada um dos atributos, a escolha da escala dos radares e o tipo de normalização. Interprete os resultados dos radares em termos das qualidades e limitações dos jogadores.\n",
    "- Ref Soccermatics:\n",
    "-- https://soccermatics.readthedocs.io/en/latest/lesson3/ScoutingPlayers.html\n",
    "-- https://soccermatics.readthedocs.io/en/latest/gallery/lesson3/plot_RadarPlot.html"
   ]
  },
  {
   "cell_type": "code",
   "execution_count": null,
   "metadata": {
    "collapsed": false
   },
   "outputs": [],
   "source": []
  },
  {
   "cell_type": "markdown",
   "metadata": {
    "collapsed": false
   },
   "source": [
    "## Questão 4\n",
    "- Faça o mesmo que na questão 3, mas para meio campistas."
   ]
  },
  {
   "cell_type": "code",
   "execution_count": null,
   "metadata": {
    "collapsed": false
   },
   "outputs": [],
   "source": []
  },
  {
   "cell_type": "markdown",
   "metadata": {
    "collapsed": false
   },
   "source": [
    "## Questão 5\n",
    "- Faça o mesmo que na questão 3, mas para zagueiros."
   ]
  },
  {
   "cell_type": "code",
   "execution_count": null,
   "metadata": {
    "collapsed": false
   },
   "outputs": [],
   "source": []
  },
  {
   "cell_type": "markdown",
   "metadata": {
    "collapsed": false
   },
   "source": [
    "## Questão 6\n",
    "- Discuta as diferenças entre os radares das questões 3, 4 e 5. Quais são as principais diferenças entre os atributos relevantes para cada posição? Quais são as principais semelhanças? A impressão subjetiva que você tinha dos jogadores se comprovou pelos radares? Se não, por quê? Quais posições são mais difíceis de serem avaliadas por estatísticas?"
   ]
  }
 ],
 "metadata": {
  "kernelspec": {
   "display_name": "Python 3",
   "language": "python",
   "name": "python3"
  },
  "language_info": {
   "codemirror_mode": {
    "name": "ipython",
    "version": 3
   },
   "file_extension": ".py",
   "mimetype": "text/x-python",
   "name": "python",
   "nbconvert_exporter": "python",
   "pygments_lexer": "ipython3",
   "version": "3.11.2"
  }
 },
 "nbformat": 4,
 "nbformat_minor": 0
}
