{
 "cells": [
  {
   "cell_type": "markdown",
   "metadata": {
    "collapsed": false
   },
   "source": [
    "# [CDAF] Atividade 5"
   ]
  },
  {
   "attachments": {},
   "cell_type": "markdown",
   "metadata": {
    "collapsed": false
   },
   "source": [
    "## Nome e matrícula\n",
    "Nome: Luís Felipe Ramos Ferreira\n",
    "Matrícula: 2019022553"
   ]
  },
  {
   "cell_type": "markdown",
   "metadata": {
    "collapsed": false
   },
   "source": [
    "## Objetivos\n",
    "- Nessa atividade, estou entregando a pipeline inteira do VAEP implementada para os dados do Wyscout das Top 5 ligas.\n",
    "- Para cada subtítulo abaixo, vocês devem explicar o que foi feito e à qual seção/subseção/equação do paper \"Actions Speak Louder than Goals: Valuing Actions by Estimating Probabilities\" ela corresponde. Justifique suas respostas.\n",
    "- Além disso, após algumas partes do código haverão perguntas que vocês devem responder, possivelmente explorando minimamente o que já está pronto.\n",
    "- Por fim, vocês devem montar um diagrama do fluxo de funções/tarefas de toda a pipeline do VAEP abaixo. Esse diagrama deve ser enviado como arquivo na submissão do Moodle, para além deste notebook."
   ]
  },
  {
   "cell_type": "markdown",
   "metadata": {
    "collapsed": false
   },
   "source": [
    "## Referências\n",
    "- [1] https://tomdecroos.github.io/reports/kdd19_tomd.pdf\n",
    "- [2] https://socceraction.readthedocs.io/en/latest/api/vaep.html"
   ]
  },
  {
   "cell_type": "markdown",
   "metadata": {
    "collapsed": false
   },
   "source": [
    "### Carregando os dados"
   ]
  },
  {
   "cell_type": "code",
   "execution_count": 45,
   "metadata": {
    "collapsed": false
   },
   "outputs": [],
   "source": [
    "import numpy as np\n",
    "import pandas as pd"
   ]
  },
  {
   "cell_type": "code",
   "execution_count": 46,
   "metadata": {
    "collapsed": false
   },
   "outputs": [],
   "source": [
    "def load_matches(path):\n",
    "    matches = pd.read_json(path_or_buf=path)\n",
    "    # as informações dos times de cada partida estão em um dicionário dentro da coluna 'teamsData', então vamos separar essas informações\n",
    "    team_matches = []\n",
    "    for i in range(len(matches)):\n",
    "        match = pd.DataFrame(matches.loc[i, \"teamsData\"]).T\n",
    "        match[\"matchId\"] = matches.loc[i, \"wyId\"]\n",
    "        team_matches.append(match)\n",
    "    team_matches = pd.concat(team_matches).reset_index(drop=True)\n",
    "\n",
    "    return team_matches"
   ]
  },
  {
   "cell_type": "code",
   "execution_count": 47,
   "metadata": {
    "collapsed": false
   },
   "outputs": [],
   "source": [
    "def load_players(path):\n",
    "    players = pd.read_json(path_or_buf=path)\n",
    "    players[\"player_name\"] = players[\"firstName\"] + ' ' + players[\"lastName\"]\n",
    "    players = players[[\"wyId\", \"player_name\"]].rename(columns={\"wyId\": \"player_id\"})\n",
    "\n",
    "    return players"
   ]
  },
  {
   "cell_type": "code",
   "execution_count": 48,
   "metadata": {
    "collapsed": false
   },
   "outputs": [],
   "source": [
    "def load_events(path):\n",
    "    events = pd.read_json(path_or_buf=path)\n",
    "    # pré processamento em colunas da tabela de eventos para facilitar a conversão p/ SPADL\n",
    "    events = events.rename(columns={\n",
    "        \"id\": \"event_id\",\n",
    "        \"eventId\": \"type_id\",\n",
    "        \"subEventId\": \"subtype_id\",\n",
    "        \"teamId\": \"team_id\",\n",
    "        \"playerId\": \"player_id\",\n",
    "        \"matchId\": \"game_id\"\n",
    "    })\n",
    "    events[\"milliseconds\"] = events[\"eventSec\"] * 1000\n",
    "    events[\"period_id\"] = events[\"matchPeriod\"].replace({\"1H\": 1, \"2H\": 2})\n",
    "\n",
    "    return events"
   ]
  },
  {
   "cell_type": "code",
   "execution_count": 49,
   "metadata": {
    "collapsed": false
   },
   "outputs": [],
   "source": [
    "def load_minutes_played_per_game(path):\n",
    "    minutes = pd.read_json(path_or_buf=path)\n",
    "    minutes = minutes.rename(columns={\n",
    "        \"playerId\": \"player_id\",\n",
    "        \"matchId\": \"game_id\",\n",
    "        \"teamId\": \"team_id\",\n",
    "        \"minutesPlayed\": \"minutes_played\"\n",
    "    })\n",
    "    minutes = minutes.drop([\"shortName\", \"teamName\", \"red_card\"], axis=1)\n",
    "\n",
    "    return minutes"
   ]
  },
  {
   "cell_type": "code",
   "execution_count": 50,
   "metadata": {
    "collapsed": false
   },
   "outputs": [],
   "source": [
    "leagues = [\"England\", \"Spain\"]\n",
    "events = {}\n",
    "matches = {}\n",
    "minutes = {}\n",
    "for league in leagues:\n",
    "    path = f\"../data/atv03/matches/matches_{league}.json\"\n",
    "    matches[league] = load_matches(path)\n",
    "    path = f\"../data/atv03/events/events_{league}.json\"\n",
    "    events[league] = load_events(path)\n",
    "    path = f\"../data/atv03/minutes_played/minutes_played_per_game_{league}.json\"\n",
    "    minutes[league] = load_minutes_played_per_game(path)"
   ]
  },
  {
   "cell_type": "code",
   "execution_count": 51,
   "metadata": {
    "collapsed": false
   },
   "outputs": [],
   "source": [
    "path = \"../data/atv03/players/players.json\"\n",
    "players = load_players(path)\n",
    "players[\"player_name\"] = players[\"player_name\"].str.decode(\"unicode-escape\")"
   ]
  },
  {
   "cell_type": "markdown",
   "metadata": {
    "collapsed": false
   },
   "source": [
    "### SPADL"
   ]
  },
  {
   "cell_type": "code",
   "execution_count": 52,
   "metadata": {
    "collapsed": false
   },
   "outputs": [],
   "source": [
    "from tqdm import tqdm\n",
    "import socceraction.spadl as spd"
   ]
  },
  {
   "cell_type": "code",
   "execution_count": 53,
   "metadata": {
    "collapsed": false
   },
   "outputs": [],
   "source": [
    "def spadl_transform(events, matches):\n",
    "    spadl = []\n",
    "    game_ids = events.game_id.unique().tolist()\n",
    "    for g in tqdm(game_ids):\n",
    "        match_events = events.loc[events.game_id == g]\n",
    "        match_home_id = matches.loc[(matches.matchId == g) & (matches.side == \"home\"), \"teamId\"].values[0]\n",
    "        match_actions = spd.wyscout.convert_to_actions(events=match_events, home_team_id=match_home_id)\n",
    "        match_actions = spd.play_left_to_right(actions=match_actions, home_team_id=match_home_id)\n",
    "        match_actions = spd.add_names(match_actions)\n",
    "        spadl.append(match_actions)\n",
    "    spadl = pd.concat(spadl).reset_index(drop=True)\n",
    "\n",
    "    return spadl"
   ]
  },
  {
   "cell_type": "code",
   "execution_count": 54,
   "metadata": {
    "collapsed": false
   },
   "outputs": [
    {
     "data": {
      "text/plain": [
       "' for league in leagues:\\n    spadl[league] = spadl_transform(events=events[league], matches=matches[league]) '"
      ]
     },
     "execution_count": 54,
     "metadata": {},
     "output_type": "execute_result"
    }
   ],
   "source": [
    "spadl = {}\n",
    "\"\"\" for league in leagues:\n",
    "    spadl[league] = spadl_transform(events=events[league], matches=matches[league]) \"\"\""
   ]
  },
  {
   "cell_type": "code",
   "execution_count": 55,
   "metadata": {},
   "outputs": [],
   "source": [
    "spadl[\"England\"] = pd.read_json(\"../data/atv05/spadl_England.json\")\n",
    "spadl[\"Spain\"] = pd.read_json(\"../data/atv05/spadl_Spain.json\")"
   ]
  },
  {
   "cell_type": "markdown",
   "metadata": {
    "collapsed": false
   },
   "source": [
    "### Features"
   ]
  },
  {
   "cell_type": "code",
   "execution_count": 56,
   "metadata": {
    "collapsed": false
   },
   "outputs": [],
   "source": [
    "from socceraction.vaep import features as ft"
   ]
  },
  {
   "cell_type": "code",
   "execution_count": 57,
   "metadata": {
    "collapsed": false
   },
   "outputs": [],
   "source": [
    "def features_transform(spadl):\n",
    "    spadl.loc[spadl.result_id.isin([2, 3]), [\"result_id\"]] = 0\n",
    "    spadl.loc[spadl.result_name.isin([\"offside\", \"owngoal\"]), [\"result_name\"]] = \"fail\"\n",
    "\n",
    "    xfns = [\n",
    "        ft.actiontype_onehot,\n",
    "        ft.bodypart_onehot,\n",
    "        ft.result_onehot,\n",
    "        ft.goalscore,\n",
    "        ft.startlocation,\n",
    "        ft.endlocation,\n",
    "        ft.team,\n",
    "        ft.time,\n",
    "        ft.time_delta\n",
    "    ]\n",
    "\n",
    "    features = []\n",
    "    for game in tqdm(np.unique(spadl.game_id).tolist()):\n",
    "        match_actions = spadl.loc[spadl.game_id == game].reset_index(drop=True)\n",
    "        match_states = ft.gamestates(actions=match_actions)\n",
    "        match_feats = pd.concat([fn(match_states) for fn in xfns], axis=1)\n",
    "        features.append(match_feats)\n",
    "    features = pd.concat(features).reset_index(drop=True)\n",
    "\n",
    "    return features"
   ]
  },
  {
   "cell_type": "markdown",
   "metadata": {
    "collapsed": false
   },
   "source": [
    "1- O que a primeira e a segunda linhas da função acima fazem? Qual sua hipótese sobre intuito dessas transformações? Como você acha que isso pode impactar o modelo final?"
   ]
  },
  {
   "cell_type": "code",
   "execution_count": 58,
   "metadata": {
    "collapsed": false
   },
   "outputs": [
    {
     "name": "stderr",
     "output_type": "stream",
     "text": [
      "100%|██████████| 380/380 [00:06<00:00, 54.82it/s]\n",
      "100%|██████████| 380/380 [00:06<00:00, 55.32it/s]\n"
     ]
    }
   ],
   "source": [
    "features = {}\n",
    "for league in [\"England\", \"Spain\"]:\n",
    "    features[league] = features_transform(spadl[league])"
   ]
  },
  {
   "cell_type": "markdown",
   "metadata": {
    "collapsed": false
   },
   "source": [
    "### Labels"
   ]
  },
  {
   "cell_type": "code",
   "execution_count": 59,
   "metadata": {
    "collapsed": false
   },
   "outputs": [],
   "source": [
    "import socceraction.vaep.labels as lab"
   ]
  },
  {
   "cell_type": "code",
   "execution_count": 60,
   "metadata": {
    "collapsed": false
   },
   "outputs": [],
   "source": [
    "def labels_transform(spadl):\n",
    "    yfns = [lab.scores, lab.concedes]\n",
    "\n",
    "    labels = []\n",
    "    for game in tqdm(np.unique(spadl.game_id).tolist()):\n",
    "        match_actions = spadl.loc[spadl.game_id == game].reset_index(drop=True)\n",
    "        labels.append(pd.concat([fn(actions=match_actions) for fn in yfns], axis=1))\n",
    "\n",
    "    labels = pd.concat(labels).reset_index(drop=True)\n",
    "\n",
    "    return labels"
   ]
  },
  {
   "cell_type": "code",
   "execution_count": 61,
   "metadata": {
    "collapsed": false
   },
   "outputs": [
    {
     "name": "stderr",
     "output_type": "stream",
     "text": [
      "100%|██████████| 380/380 [00:09<00:00, 41.42it/s]\n",
      "100%|██████████| 380/380 [00:09<00:00, 41.93it/s]\n"
     ]
    }
   ],
   "source": [
    "labels = {}\n",
    "for league in [\"England\", \"Spain\"]:\n",
    "    labels[league] = labels_transform(spadl[league])"
   ]
  },
  {
   "cell_type": "code",
   "execution_count": 62,
   "metadata": {
    "collapsed": false
   },
   "outputs": [
    {
     "data": {
      "text/plain": [
       "7553"
      ]
     },
     "execution_count": 62,
     "metadata": {},
     "output_type": "execute_result"
    }
   ],
   "source": [
    "labels[\"England\"][\"scores\"].sum()"
   ]
  },
  {
   "cell_type": "code",
   "execution_count": 63,
   "metadata": {
    "collapsed": false
   },
   "outputs": [
    {
     "data": {
      "text/plain": [
       "2313"
      ]
     },
     "execution_count": 63,
     "metadata": {},
     "output_type": "execute_result"
    }
   ],
   "source": [
    "labels[\"England\"][\"concedes\"].sum()"
   ]
  },
  {
   "cell_type": "markdown",
   "metadata": {
    "collapsed": false
   },
   "source": [
    "2- Explique o por que da quantidade de labels positivos do tipo scores ser muito maior que do concedes. Como você acha que isso pode impactar o modelo final?"
   ]
  },
  {
   "cell_type": "markdown",
   "metadata": {
    "collapsed": false
   },
   "source": [
    "### Training Model"
   ]
  },
  {
   "cell_type": "code",
   "execution_count": 64,
   "metadata": {
    "collapsed": false
   },
   "outputs": [],
   "source": [
    "import xgboost as xgb\n",
    "import sklearn.metrics as mt"
   ]
  },
  {
   "cell_type": "code",
   "execution_count": 65,
   "metadata": {
    "collapsed": false
   },
   "outputs": [],
   "source": [
    "def train_vaep(X_train, y_train, X_test, y_test):\n",
    "    models = {}\n",
    "    for m in [\"scores\", \"concedes\"]:\n",
    "        models[m] = xgb.XGBClassifier(random_state=0, n_estimators=50, max_depth=3)\n",
    "\n",
    "        print(\"training \" + m + \" model\")\n",
    "        models[m].fit(X_train, y_train[m])\n",
    "\n",
    "        p = sum(y_train[m]) / len(y_train[m])\n",
    "        base = [p] * len(y_train[m])\n",
    "        y_train_pred = models[m].predict_proba(X_train)[:, 1]\n",
    "        train_brier = mt.brier_score_loss(y_train[m], y_train_pred) / mt.brier_score_loss(y_train[m], base)\n",
    "        print(m + \" Train NBS: \" + str(train_brier))\n",
    "        print()\n",
    "\n",
    "        p = sum(y_test[m]) / len(y_test[m])\n",
    "        base = [p] * len(y_test[m])\n",
    "        y_test_pred = models[m].predict_proba(X_test)[:, 1]\n",
    "        test_brier = mt.brier_score_loss(y_test[m], y_test_pred) / mt.brier_score_loss(y_test[m], base)\n",
    "        print(m + \" Test NBS: \" + str(test_brier))\n",
    "        print()\n",
    "\n",
    "        print(\"----------------------------------------\")\n",
    "\n",
    "    return models"
   ]
  },
  {
   "cell_type": "code",
   "execution_count": 66,
   "metadata": {
    "collapsed": false
   },
   "outputs": [
    {
     "name": "stdout",
     "output_type": "stream",
     "text": [
      "training scores model\n",
      "scores Train NBS: 0.8452154331687597\n",
      "\n",
      "scores Test NBS: 0.850366923253325\n",
      "\n",
      "----------------------------------------\n",
      "training concedes model\n",
      "concedes Train NBS: 0.964463215550682\n",
      "\n",
      "concedes Test NBS: 0.9745272575372074\n",
      "\n",
      "----------------------------------------\n"
     ]
    }
   ],
   "source": [
    "models = train_vaep(X_train=features[\"England\"], y_train=labels[\"England\"], X_test=features[\"Spain\"], y_test=labels[\"Spain\"])"
   ]
  },
  {
   "cell_type": "markdown",
   "metadata": {
    "collapsed": false
   },
   "source": [
    "3- Por que treinamos dois modelos diferentes? Por que a performance dos dois é diferente?"
   ]
  },
  {
   "cell_type": "markdown",
   "metadata": {
    "collapsed": false
   },
   "source": [
    "### Predictions"
   ]
  },
  {
   "cell_type": "code",
   "execution_count": 67,
   "metadata": {
    "collapsed": false
   },
   "outputs": [],
   "source": [
    "def generate_predictions(features, models):\n",
    "    preds = {}\n",
    "    for m in [\"scores\", \"concedes\"]:\n",
    "        preds[m] = models[m].predict_proba(features)[:, 1]\n",
    "    preds = pd.DataFrame(preds)\n",
    "\n",
    "    return preds"
   ]
  },
  {
   "cell_type": "code",
   "execution_count": 68,
   "metadata": {
    "collapsed": false
   },
   "outputs": [
    {
     "data": {
      "text/plain": [
       "{'England':           scores  concedes\n",
       " 0       0.002992  0.000412\n",
       " 1       0.003928  0.000329\n",
       " 2       0.002779  0.000345\n",
       " 3       0.002234  0.000298\n",
       " 4       0.005827  0.000308\n",
       " ...          ...       ...\n",
       " 482896  0.076417  0.001592\n",
       " 482897  0.023226  0.003552\n",
       " 482898  0.005620  0.068251\n",
       " 482899  0.082877  0.003011\n",
       " 482900  0.034658  0.003071\n",
       " \n",
       " [482901 rows x 2 columns]}"
      ]
     },
     "execution_count": 68,
     "metadata": {},
     "output_type": "execute_result"
    }
   ],
   "source": [
    "preds = {}\n",
    "preds[\"England\"] = generate_predictions(features=features[\"England\"], models=models)\n",
    "preds"
   ]
  },
  {
   "cell_type": "markdown",
   "metadata": {
    "collapsed": false
   },
   "source": [
    "### Action Values"
   ]
  },
  {
   "cell_type": "code",
   "execution_count": 69,
   "metadata": {
    "collapsed": false
   },
   "outputs": [],
   "source": [
    "import socceraction.vaep.formula as fm"
   ]
  },
  {
   "cell_type": "code",
   "execution_count": 70,
   "metadata": {
    "collapsed": false
   },
   "outputs": [],
   "source": [
    "def calculate_action_values(spadl, predictions):\n",
    "    action_values = fm.value(actions=spadl, Pscores=predictions[\"scores\"], Pconcedes=predictions[\"concedes\"])\n",
    "    action_values = pd.concat([\n",
    "        spadl[[\"original_event_id\", \"player_id\", \"action_id\", \"game_id\", \"start_x\", \"start_y\", \"end_x\", \"end_y\", \"type_name\", \"result_name\"]],\n",
    "        predictions.rename(columns={\"scores\": \"Pscores\", \"concedes\": \"Pconcedes\"}),\n",
    "        action_values\n",
    "    ], axis=1)\n",
    "\n",
    "    return action_values"
   ]
  },
  {
   "cell_type": "code",
   "execution_count": 71,
   "metadata": {
    "collapsed": false
   },
   "outputs": [
    {
     "data": {
      "text/html": [
       "<div>\n",
       "<style scoped>\n",
       "    .dataframe tbody tr th:only-of-type {\n",
       "        vertical-align: middle;\n",
       "    }\n",
       "\n",
       "    .dataframe tbody tr th {\n",
       "        vertical-align: top;\n",
       "    }\n",
       "\n",
       "    .dataframe thead th {\n",
       "        text-align: right;\n",
       "    }\n",
       "</style>\n",
       "<table border=\"1\" class=\"dataframe\">\n",
       "  <thead>\n",
       "    <tr style=\"text-align: right;\">\n",
       "      <th></th>\n",
       "      <th>original_event_id</th>\n",
       "      <th>player_id</th>\n",
       "      <th>action_id</th>\n",
       "      <th>game_id</th>\n",
       "      <th>start_x</th>\n",
       "      <th>start_y</th>\n",
       "      <th>end_x</th>\n",
       "      <th>end_y</th>\n",
       "      <th>type_name</th>\n",
       "      <th>result_name</th>\n",
       "      <th>Pscores</th>\n",
       "      <th>Pconcedes</th>\n",
       "      <th>offensive_value</th>\n",
       "      <th>defensive_value</th>\n",
       "      <th>vaep_value</th>\n",
       "    </tr>\n",
       "  </thead>\n",
       "  <tbody>\n",
       "    <tr>\n",
       "      <th>0</th>\n",
       "      <td>177959171.0</td>\n",
       "      <td>25413</td>\n",
       "      <td>0</td>\n",
       "      <td>2499719</td>\n",
       "      <td>51.45</td>\n",
       "      <td>34.68</td>\n",
       "      <td>32.55</td>\n",
       "      <td>14.96</td>\n",
       "      <td>pass</td>\n",
       "      <td>success</td>\n",
       "      <td>0.002992</td>\n",
       "      <td>0.000412</td>\n",
       "      <td>0.000000</td>\n",
       "      <td>-0.000000</td>\n",
       "      <td>0.000000</td>\n",
       "    </tr>\n",
       "    <tr>\n",
       "      <th>1</th>\n",
       "      <td>177959172.0</td>\n",
       "      <td>370224</td>\n",
       "      <td>1</td>\n",
       "      <td>2499719</td>\n",
       "      <td>32.55</td>\n",
       "      <td>14.96</td>\n",
       "      <td>53.55</td>\n",
       "      <td>17.00</td>\n",
       "      <td>pass</td>\n",
       "      <td>success</td>\n",
       "      <td>0.003928</td>\n",
       "      <td>0.000329</td>\n",
       "      <td>0.000935</td>\n",
       "      <td>0.000083</td>\n",
       "      <td>0.001018</td>\n",
       "    </tr>\n",
       "    <tr>\n",
       "      <th>2</th>\n",
       "      <td>177959173.0</td>\n",
       "      <td>3319</td>\n",
       "      <td>2</td>\n",
       "      <td>2499719</td>\n",
       "      <td>53.55</td>\n",
       "      <td>17.00</td>\n",
       "      <td>36.75</td>\n",
       "      <td>19.72</td>\n",
       "      <td>pass</td>\n",
       "      <td>success</td>\n",
       "      <td>0.002779</td>\n",
       "      <td>0.000345</td>\n",
       "      <td>-0.001149</td>\n",
       "      <td>-0.000016</td>\n",
       "      <td>-0.001164</td>\n",
       "    </tr>\n",
       "    <tr>\n",
       "      <th>3</th>\n",
       "      <td>177959174.0</td>\n",
       "      <td>120339</td>\n",
       "      <td>3</td>\n",
       "      <td>2499719</td>\n",
       "      <td>36.75</td>\n",
       "      <td>19.72</td>\n",
       "      <td>43.05</td>\n",
       "      <td>3.40</td>\n",
       "      <td>pass</td>\n",
       "      <td>success</td>\n",
       "      <td>0.002234</td>\n",
       "      <td>0.000298</td>\n",
       "      <td>-0.000545</td>\n",
       "      <td>0.000047</td>\n",
       "      <td>-0.000498</td>\n",
       "    </tr>\n",
       "    <tr>\n",
       "      <th>4</th>\n",
       "      <td>177959175.0</td>\n",
       "      <td>167145</td>\n",
       "      <td>4</td>\n",
       "      <td>2499719</td>\n",
       "      <td>43.05</td>\n",
       "      <td>3.40</td>\n",
       "      <td>75.60</td>\n",
       "      <td>8.16</td>\n",
       "      <td>pass</td>\n",
       "      <td>success</td>\n",
       "      <td>0.005827</td>\n",
       "      <td>0.000308</td>\n",
       "      <td>0.003593</td>\n",
       "      <td>-0.000010</td>\n",
       "      <td>0.003583</td>\n",
       "    </tr>\n",
       "    <tr>\n",
       "      <th>...</th>\n",
       "      <td>...</td>\n",
       "      <td>...</td>\n",
       "      <td>...</td>\n",
       "      <td>...</td>\n",
       "      <td>...</td>\n",
       "      <td>...</td>\n",
       "      <td>...</td>\n",
       "      <td>...</td>\n",
       "      <td>...</td>\n",
       "      <td>...</td>\n",
       "      <td>...</td>\n",
       "      <td>...</td>\n",
       "      <td>...</td>\n",
       "      <td>...</td>\n",
       "      <td>...</td>\n",
       "    </tr>\n",
       "    <tr>\n",
       "      <th>482896</th>\n",
       "      <td>251596226.0</td>\n",
       "      <td>20620</td>\n",
       "      <td>1139</td>\n",
       "      <td>2500098</td>\n",
       "      <td>55.65</td>\n",
       "      <td>7.48</td>\n",
       "      <td>103.95</td>\n",
       "      <td>19.04</td>\n",
       "      <td>pass</td>\n",
       "      <td>success</td>\n",
       "      <td>0.076417</td>\n",
       "      <td>0.001592</td>\n",
       "      <td>0.066197</td>\n",
       "      <td>0.000381</td>\n",
       "      <td>0.066578</td>\n",
       "    </tr>\n",
       "    <tr>\n",
       "      <th>482897</th>\n",
       "      <td>251596229.0</td>\n",
       "      <td>14703</td>\n",
       "      <td>1140</td>\n",
       "      <td>2500098</td>\n",
       "      <td>103.95</td>\n",
       "      <td>19.04</td>\n",
       "      <td>103.95</td>\n",
       "      <td>19.04</td>\n",
       "      <td>cross</td>\n",
       "      <td>fail</td>\n",
       "      <td>0.023226</td>\n",
       "      <td>0.003552</td>\n",
       "      <td>-0.053191</td>\n",
       "      <td>-0.001960</td>\n",
       "      <td>-0.055151</td>\n",
       "    </tr>\n",
       "    <tr>\n",
       "      <th>482898</th>\n",
       "      <td>251596408.0</td>\n",
       "      <td>8239</td>\n",
       "      <td>1141</td>\n",
       "      <td>2500098</td>\n",
       "      <td>2.10</td>\n",
       "      <td>46.92</td>\n",
       "      <td>0.00</td>\n",
       "      <td>46.24</td>\n",
       "      <td>interception</td>\n",
       "      <td>success</td>\n",
       "      <td>0.005620</td>\n",
       "      <td>0.068251</td>\n",
       "      <td>0.002068</td>\n",
       "      <td>-0.045026</td>\n",
       "      <td>-0.042958</td>\n",
       "    </tr>\n",
       "    <tr>\n",
       "      <th>482899</th>\n",
       "      <td>251596232.0</td>\n",
       "      <td>70965</td>\n",
       "      <td>1142</td>\n",
       "      <td>2500098</td>\n",
       "      <td>105.00</td>\n",
       "      <td>0.00</td>\n",
       "      <td>92.40</td>\n",
       "      <td>36.04</td>\n",
       "      <td>corner_crossed</td>\n",
       "      <td>success</td>\n",
       "      <td>0.082877</td>\n",
       "      <td>0.003011</td>\n",
       "      <td>0.036377</td>\n",
       "      <td>-0.003011</td>\n",
       "      <td>0.033366</td>\n",
       "    </tr>\n",
       "    <tr>\n",
       "      <th>482900</th>\n",
       "      <td>251596236.0</td>\n",
       "      <td>8005</td>\n",
       "      <td>1143</td>\n",
       "      <td>2500098</td>\n",
       "      <td>90.30</td>\n",
       "      <td>34.00</td>\n",
       "      <td>105.00</td>\n",
       "      <td>27.20</td>\n",
       "      <td>shot</td>\n",
       "      <td>fail</td>\n",
       "      <td>0.034658</td>\n",
       "      <td>0.003071</td>\n",
       "      <td>-0.048219</td>\n",
       "      <td>-0.000061</td>\n",
       "      <td>-0.048279</td>\n",
       "    </tr>\n",
       "  </tbody>\n",
       "</table>\n",
       "<p>482901 rows × 15 columns</p>\n",
       "</div>"
      ],
      "text/plain": [
       "        original_event_id  player_id  action_id  game_id  start_x  start_y  \\\n",
       "0             177959171.0      25413          0  2499719    51.45    34.68   \n",
       "1             177959172.0     370224          1  2499719    32.55    14.96   \n",
       "2             177959173.0       3319          2  2499719    53.55    17.00   \n",
       "3             177959174.0     120339          3  2499719    36.75    19.72   \n",
       "4             177959175.0     167145          4  2499719    43.05     3.40   \n",
       "...                   ...        ...        ...      ...      ...      ...   \n",
       "482896        251596226.0      20620       1139  2500098    55.65     7.48   \n",
       "482897        251596229.0      14703       1140  2500098   103.95    19.04   \n",
       "482898        251596408.0       8239       1141  2500098     2.10    46.92   \n",
       "482899        251596232.0      70965       1142  2500098   105.00     0.00   \n",
       "482900        251596236.0       8005       1143  2500098    90.30    34.00   \n",
       "\n",
       "         end_x  end_y       type_name result_name   Pscores  Pconcedes  \\\n",
       "0        32.55  14.96            pass     success  0.002992   0.000412   \n",
       "1        53.55  17.00            pass     success  0.003928   0.000329   \n",
       "2        36.75  19.72            pass     success  0.002779   0.000345   \n",
       "3        43.05   3.40            pass     success  0.002234   0.000298   \n",
       "4        75.60   8.16            pass     success  0.005827   0.000308   \n",
       "...        ...    ...             ...         ...       ...        ...   \n",
       "482896  103.95  19.04            pass     success  0.076417   0.001592   \n",
       "482897  103.95  19.04           cross        fail  0.023226   0.003552   \n",
       "482898    0.00  46.24    interception     success  0.005620   0.068251   \n",
       "482899   92.40  36.04  corner_crossed     success  0.082877   0.003011   \n",
       "482900  105.00  27.20            shot        fail  0.034658   0.003071   \n",
       "\n",
       "        offensive_value  defensive_value  vaep_value  \n",
       "0              0.000000        -0.000000    0.000000  \n",
       "1              0.000935         0.000083    0.001018  \n",
       "2             -0.001149        -0.000016   -0.001164  \n",
       "3             -0.000545         0.000047   -0.000498  \n",
       "4              0.003593        -0.000010    0.003583  \n",
       "...                 ...              ...         ...  \n",
       "482896         0.066197         0.000381    0.066578  \n",
       "482897        -0.053191        -0.001960   -0.055151  \n",
       "482898         0.002068        -0.045026   -0.042958  \n",
       "482899         0.036377        -0.003011    0.033366  \n",
       "482900        -0.048219        -0.000061   -0.048279  \n",
       "\n",
       "[482901 rows x 15 columns]"
      ]
     },
     "execution_count": 71,
     "metadata": {},
     "output_type": "execute_result"
    }
   ],
   "source": [
    "action_values = {}\n",
    "action_values[\"England\"] = calculate_action_values(spadl=spadl[\"England\"], predictions=preds[\"England\"])\n",
    "action_values[\"England\"]"
   ]
  },
  {
   "cell_type": "markdown",
   "metadata": {
    "collapsed": false
   },
   "source": [
    "4- Explore as ações com Pscores >= 0.95. Por que elas tem um valor tão alto? As compare com ações do mesmo tipo e resultado opostado. Será que o modelo aprende que essa combinação de tipo de ação e resultado está diretamente relacionado à variável y que estamos tentando prever?\n",
    "\n",
    "5- Qual formula do paper corresponde à coluna 'offensive_value' do dataframe action_values? E a coluna 'defensive_value'?"
   ]
  },
  {
   "cell_type": "markdown",
   "metadata": {
    "collapsed": false
   },
   "source": [
    "### Player Ratings"
   ]
  },
  {
   "cell_type": "code",
   "execution_count": 72,
   "metadata": {
    "collapsed": false
   },
   "outputs": [],
   "source": [
    "def calculate_minutes_per_season(minutes_per_game):\n",
    "    minutes_per_season = minutes_per_game.groupby(\"player_id\", as_index=False)[\"minutes_played\"].sum()\n",
    "\n",
    "    return minutes_per_season"
   ]
  },
  {
   "cell_type": "code",
   "execution_count": 73,
   "metadata": {
    "collapsed": false
   },
   "outputs": [
    {
     "data": {
      "text/html": [
       "<div>\n",
       "<style scoped>\n",
       "    .dataframe tbody tr th:only-of-type {\n",
       "        vertical-align: middle;\n",
       "    }\n",
       "\n",
       "    .dataframe tbody tr th {\n",
       "        vertical-align: top;\n",
       "    }\n",
       "\n",
       "    .dataframe thead th {\n",
       "        text-align: right;\n",
       "    }\n",
       "</style>\n",
       "<table border=\"1\" class=\"dataframe\">\n",
       "  <thead>\n",
       "    <tr style=\"text-align: right;\">\n",
       "      <th></th>\n",
       "      <th>player_id</th>\n",
       "      <th>minutes_played</th>\n",
       "    </tr>\n",
       "  </thead>\n",
       "  <tbody>\n",
       "    <tr>\n",
       "      <th>0</th>\n",
       "      <td>36</td>\n",
       "      <td>1238</td>\n",
       "    </tr>\n",
       "    <tr>\n",
       "      <th>1</th>\n",
       "      <td>38</td>\n",
       "      <td>382</td>\n",
       "    </tr>\n",
       "    <tr>\n",
       "      <th>2</th>\n",
       "      <td>48</td>\n",
       "      <td>3343</td>\n",
       "    </tr>\n",
       "    <tr>\n",
       "      <th>3</th>\n",
       "      <td>54</td>\n",
       "      <td>3348</td>\n",
       "    </tr>\n",
       "    <tr>\n",
       "      <th>4</th>\n",
       "      <td>56</td>\n",
       "      <td>266</td>\n",
       "    </tr>\n",
       "    <tr>\n",
       "      <th>...</th>\n",
       "      <td>...</td>\n",
       "      <td>...</td>\n",
       "    </tr>\n",
       "    <tr>\n",
       "      <th>510</th>\n",
       "      <td>448708</td>\n",
       "      <td>21</td>\n",
       "    </tr>\n",
       "    <tr>\n",
       "      <th>511</th>\n",
       "      <td>450826</td>\n",
       "      <td>35</td>\n",
       "    </tr>\n",
       "    <tr>\n",
       "      <th>512</th>\n",
       "      <td>486252</td>\n",
       "      <td>649</td>\n",
       "    </tr>\n",
       "    <tr>\n",
       "      <th>513</th>\n",
       "      <td>531655</td>\n",
       "      <td>28</td>\n",
       "    </tr>\n",
       "    <tr>\n",
       "      <th>514</th>\n",
       "      <td>532949</td>\n",
       "      <td>1</td>\n",
       "    </tr>\n",
       "  </tbody>\n",
       "</table>\n",
       "<p>515 rows × 2 columns</p>\n",
       "</div>"
      ],
      "text/plain": [
       "     player_id  minutes_played\n",
       "0           36            1238\n",
       "1           38             382\n",
       "2           48            3343\n",
       "3           54            3348\n",
       "4           56             266\n",
       "..         ...             ...\n",
       "510     448708              21\n",
       "511     450826              35\n",
       "512     486252             649\n",
       "513     531655              28\n",
       "514     532949               1\n",
       "\n",
       "[515 rows x 2 columns]"
      ]
     },
     "execution_count": 73,
     "metadata": {},
     "output_type": "execute_result"
    }
   ],
   "source": [
    "minutes_per_season = {}\n",
    "minutes_per_season[\"England\"] = calculate_minutes_per_season(minutes[\"England\"])\n",
    "minutes_per_season[\"England\"]"
   ]
  },
  {
   "cell_type": "code",
   "execution_count": 74,
   "metadata": {
    "collapsed": false
   },
   "outputs": [],
   "source": [
    "def calculate_player_ratings(action_values, minutes_per_season, players):\n",
    "    player_ratings = action_values.groupby(by=\"player_id\", as_index=False).agg({\"vaep_value\": \"sum\"}).rename(columns={\"vaep_value\": \"vaep_total\"})\n",
    "    player_ratings = player_ratings.merge(minutes_per_season, on=[\"player_id\"], how=\"left\")\n",
    "    player_ratings[\"vaep_p90\"] = player_ratings[\"vaep_total\"] / player_ratings[\"minutes_played\"] * 90\n",
    "    player_ratings = player_ratings[player_ratings[\"minutes_played\"] >= 600].sort_values(by=\"vaep_p90\", ascending=False).reset_index(drop=True)\n",
    "    player_ratings = player_ratings.merge(players, on=[\"player_id\"], how=\"left\")\n",
    "    player_ratings = player_ratings[[\"player_id\", \"player_name\", \"minutes_played\", \"vaep_total\", \"vaep_p90\"]]\n",
    "\n",
    "    return player_ratings"
   ]
  },
  {
   "cell_type": "code",
   "execution_count": 75,
   "metadata": {
    "collapsed": false
   },
   "outputs": [
    {
     "data": {
      "text/html": [
       "<div>\n",
       "<style scoped>\n",
       "    .dataframe tbody tr th:only-of-type {\n",
       "        vertical-align: middle;\n",
       "    }\n",
       "\n",
       "    .dataframe tbody tr th {\n",
       "        vertical-align: top;\n",
       "    }\n",
       "\n",
       "    .dataframe thead th {\n",
       "        text-align: right;\n",
       "    }\n",
       "</style>\n",
       "<table border=\"1\" class=\"dataframe\">\n",
       "  <thead>\n",
       "    <tr style=\"text-align: right;\">\n",
       "      <th></th>\n",
       "      <th>player_id</th>\n",
       "      <th>player_name</th>\n",
       "      <th>minutes_played</th>\n",
       "      <th>vaep_total</th>\n",
       "      <th>vaep_p90</th>\n",
       "    </tr>\n",
       "  </thead>\n",
       "  <tbody>\n",
       "    <tr>\n",
       "      <th>0</th>\n",
       "      <td>120353</td>\n",
       "      <td>Mohamed  Salah Ghaly</td>\n",
       "      <td>2995.0</td>\n",
       "      <td>28.516333</td>\n",
       "      <td>0.856918</td>\n",
       "    </tr>\n",
       "    <tr>\n",
       "      <th>1</th>\n",
       "      <td>3802</td>\n",
       "      <td>Philippe Coutinho Correia</td>\n",
       "      <td>1134.0</td>\n",
       "      <td>8.896437</td>\n",
       "      <td>0.706066</td>\n",
       "    </tr>\n",
       "    <tr>\n",
       "      <th>2</th>\n",
       "      <td>8325</td>\n",
       "      <td>Sergio Leonel Agüero del Castillo</td>\n",
       "      <td>2038.0</td>\n",
       "      <td>14.206033</td>\n",
       "      <td>0.627352</td>\n",
       "    </tr>\n",
       "    <tr>\n",
       "      <th>3</th>\n",
       "      <td>8717</td>\n",
       "      <td>Harry Kane</td>\n",
       "      <td>3201.0</td>\n",
       "      <td>20.985924</td>\n",
       "      <td>0.590045</td>\n",
       "    </tr>\n",
       "    <tr>\n",
       "      <th>4</th>\n",
       "      <td>25867</td>\n",
       "      <td>Pierre-Emerick Aubameyang</td>\n",
       "      <td>1098.0</td>\n",
       "      <td>7.095187</td>\n",
       "      <td>0.581573</td>\n",
       "    </tr>\n",
       "    <tr>\n",
       "      <th>...</th>\n",
       "      <td>...</td>\n",
       "      <td>...</td>\n",
       "      <td>...</td>\n",
       "      <td>...</td>\n",
       "      <td>...</td>\n",
       "    </tr>\n",
       "    <tr>\n",
       "      <th>366</th>\n",
       "      <td>8391</td>\n",
       "      <td>Julián Speroni</td>\n",
       "      <td>1041.0</td>\n",
       "      <td>0.371623</td>\n",
       "      <td>0.032129</td>\n",
       "    </tr>\n",
       "    <tr>\n",
       "      <th>367</th>\n",
       "      <td>8242</td>\n",
       "      <td>Shane Duffy</td>\n",
       "      <td>3411.0</td>\n",
       "      <td>1.149650</td>\n",
       "      <td>0.030334</td>\n",
       "    </tr>\n",
       "    <tr>\n",
       "      <th>368</th>\n",
       "      <td>8903</td>\n",
       "      <td>Troy Deeney</td>\n",
       "      <td>1940.0</td>\n",
       "      <td>0.609467</td>\n",
       "      <td>0.028274</td>\n",
       "    </tr>\n",
       "    <tr>\n",
       "      <th>369</th>\n",
       "      <td>38031</td>\n",
       "      <td>Christian Benteke Liolo</td>\n",
       "      <td>2344.0</td>\n",
       "      <td>-0.403160</td>\n",
       "      <td>-0.015480</td>\n",
       "    </tr>\n",
       "    <tr>\n",
       "      <th>370</th>\n",
       "      <td>286831</td>\n",
       "      <td>Dominic Solanke</td>\n",
       "      <td>647.0</td>\n",
       "      <td>-0.135948</td>\n",
       "      <td>-0.018911</td>\n",
       "    </tr>\n",
       "  </tbody>\n",
       "</table>\n",
       "<p>371 rows × 5 columns</p>\n",
       "</div>"
      ],
      "text/plain": [
       "     player_id                        player_name  minutes_played  vaep_total  \\\n",
       "0       120353               Mohamed  Salah Ghaly          2995.0   28.516333   \n",
       "1         3802          Philippe Coutinho Correia          1134.0    8.896437   \n",
       "2         8325  Sergio Leonel Agüero del Castillo          2038.0   14.206033   \n",
       "3         8717                         Harry Kane          3201.0   20.985924   \n",
       "4        25867          Pierre-Emerick Aubameyang          1098.0    7.095187   \n",
       "..         ...                                ...             ...         ...   \n",
       "366       8391                     Julián Speroni          1041.0    0.371623   \n",
       "367       8242                        Shane Duffy          3411.0    1.149650   \n",
       "368       8903                        Troy Deeney          1940.0    0.609467   \n",
       "369      38031            Christian Benteke Liolo          2344.0   -0.403160   \n",
       "370     286831                    Dominic Solanke           647.0   -0.135948   \n",
       "\n",
       "     vaep_p90  \n",
       "0    0.856918  \n",
       "1    0.706066  \n",
       "2    0.627352  \n",
       "3    0.590045  \n",
       "4    0.581573  \n",
       "..        ...  \n",
       "366  0.032129  \n",
       "367  0.030334  \n",
       "368  0.028274  \n",
       "369 -0.015480  \n",
       "370 -0.018911  \n",
       "\n",
       "[371 rows x 5 columns]"
      ]
     },
     "execution_count": 75,
     "metadata": {},
     "output_type": "execute_result"
    }
   ],
   "source": [
    "player_ratings = {}\n",
    "player_ratings[\"England\"] = calculate_player_ratings(action_values=action_values[\"England\"], minutes_per_season=minutes_per_season[\"England\"], players=players)\n",
    "player_ratings[\"England\"]"
   ]
  },
  {
   "cell_type": "markdown",
   "metadata": {
    "collapsed": false
   },
   "source": [
    "6- Acha que o Top 5 da lista é bem representativo? Compare esse ranqueamento do VAEP com o do xT da Atividade 4. Qual você acha que é mais representativo?"
   ]
  }
 ],
 "metadata": {
  "kernelspec": {
   "display_name": "Python 3",
   "language": "python",
   "name": "python3"
  },
  "language_info": {
   "codemirror_mode": {
    "name": "ipython",
    "version": 3
   },
   "file_extension": ".py",
   "mimetype": "text/x-python",
   "name": "python",
   "nbconvert_exporter": "python",
   "pygments_lexer": "ipython3",
   "version": "3.11.0"
  }
 },
 "nbformat": 4,
 "nbformat_minor": 0
}
