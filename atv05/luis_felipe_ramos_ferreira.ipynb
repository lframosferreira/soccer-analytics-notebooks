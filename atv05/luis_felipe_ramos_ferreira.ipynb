{
 "cells": [
  {
   "cell_type": "markdown",
   "metadata": {
    "collapsed": false
   },
   "source": [
    "# [CDAF] Atividade 5"
   ]
  },
  {
   "attachments": {},
   "cell_type": "markdown",
   "metadata": {
    "collapsed": false
   },
   "source": [
    "## Nome e matrícula\n",
    "Nome: Luís Felipe Ramos Ferreira\n",
    "Matrícula: 2019022553"
   ]
  },
  {
   "cell_type": "markdown",
   "metadata": {
    "collapsed": false
   },
   "source": [
    "## Objetivos\n",
    "- Nessa atividade, estou entregando a pipeline inteira do VAEP implementada para os dados do Wyscout das Top 5 ligas.\n",
    "- Para cada subtítulo abaixo, vocês devem explicar o que foi feito e à qual seção/subseção/equação do paper \"Actions Speak Louder than Goals: Valuing Actions by Estimating Probabilities\" ela corresponde. Justifique suas respostas.\n",
    "- Além disso, após algumas partes do código haverão perguntas que vocês devem responder, possivelmente explorando minimamente o que já está pronto.\n",
    "- Por fim, vocês devem montar um diagrama do fluxo de funções/tarefas de toda a pipeline do VAEP abaixo. Esse diagrama deve ser enviado como arquivo na submissão do Moodle, para além deste notebook."
   ]
  },
  {
   "cell_type": "markdown",
   "metadata": {
    "collapsed": false
   },
   "source": [
    "## Referências\n",
    "- [1] https://tomdecroos.github.io/reports/kdd19_tomd.pdf\n",
    "- [2] https://socceraction.readthedocs.io/en/latest/api/vaep.html"
   ]
  },
  {
   "cell_type": "markdown",
   "metadata": {
    "collapsed": false
   },
   "source": [
    "### Carregando os dados"
   ]
  },
  {
   "attachments": {},
   "cell_type": "markdown",
   "metadata": {},
   "source": [
    "Nesa seção, basicamente são carregados para memória os dados de evento, das partidas e dos jogadores referentes às ligas da Espanha e da Inglaterra da temporada 2017/1018, disponibilizadas gratuitamente pela empresa Wyscout. \n",
    "\n",
    "De maneira geral, esse carregamento tenta fazer alguns pré processamentos para facilitar a conversão dos dados em questão para o formato SPADL, então o subtítulo se refere principalmente à seção 2 do artigo, que trata da linguagem de descrição de ações de jogadores SPADL e de suas diferenças com os outros formatos de dados disponibilizados pelas grandes empresas de analytics no ramo de futebol."
   ]
  },
  {
   "cell_type": "code",
   "execution_count": 1,
   "metadata": {
    "collapsed": false
   },
   "outputs": [],
   "source": [
    "import numpy as np\n",
    "import pandas as pd"
   ]
  },
  {
   "cell_type": "code",
   "execution_count": 2,
   "metadata": {
    "collapsed": false
   },
   "outputs": [],
   "source": [
    "def load_matches(path):\n",
    "    matches = pd.read_json(path_or_buf=path)\n",
    "    # as informações dos times de cada partida estão em um dicionário dentro da coluna 'teamsData', então vamos separar essas informações\n",
    "    team_matches = []\n",
    "    for i in range(len(matches)):\n",
    "        match = pd.DataFrame(matches.loc[i, \"teamsData\"]).T\n",
    "        match[\"matchId\"] = matches.loc[i, \"wyId\"]\n",
    "        team_matches.append(match)\n",
    "    team_matches = pd.concat(team_matches).reset_index(drop=True)\n",
    "\n",
    "    return team_matches"
   ]
  },
  {
   "cell_type": "code",
   "execution_count": 3,
   "metadata": {
    "collapsed": false
   },
   "outputs": [],
   "source": [
    "def load_players(path):\n",
    "    players = pd.read_json(path_or_buf=path)\n",
    "    players[\"player_name\"] = players[\"firstName\"] + ' ' + players[\"lastName\"]\n",
    "    players = players[[\"wyId\", \"player_name\"]].rename(columns={\"wyId\": \"player_id\"})\n",
    "\n",
    "    return players"
   ]
  },
  {
   "cell_type": "code",
   "execution_count": 4,
   "metadata": {
    "collapsed": false
   },
   "outputs": [],
   "source": [
    "def load_events(path):\n",
    "    events = pd.read_json(path_or_buf=path)\n",
    "    # pré processamento em colunas da tabela de eventos para facilitar a conversão p/ SPADL\n",
    "    events = events.rename(columns={\n",
    "        \"id\": \"event_id\",\n",
    "        \"eventId\": \"type_id\",\n",
    "        \"subEventId\": \"subtype_id\",\n",
    "        \"teamId\": \"team_id\",\n",
    "        \"playerId\": \"player_id\",\n",
    "        \"matchId\": \"game_id\"\n",
    "    })\n",
    "    events[\"milliseconds\"] = events[\"eventSec\"] * 1000\n",
    "    events[\"period_id\"] = events[\"matchPeriod\"].replace({\"1H\": 1, \"2H\": 2})\n",
    "\n",
    "    return events"
   ]
  },
  {
   "cell_type": "code",
   "execution_count": 5,
   "metadata": {
    "collapsed": false
   },
   "outputs": [],
   "source": [
    "def load_minutes_played_per_game(path):\n",
    "    minutes = pd.read_json(path_or_buf=path)\n",
    "    minutes = minutes.rename(columns={\n",
    "        \"playerId\": \"player_id\",\n",
    "        \"matchId\": \"game_id\",\n",
    "        \"teamId\": \"team_id\",\n",
    "        \"minutesPlayed\": \"minutes_played\"\n",
    "    })\n",
    "    minutes = minutes.drop([\"shortName\", \"teamName\", \"red_card\"], axis=1)\n",
    "\n",
    "    return minutes"
   ]
  },
  {
   "cell_type": "code",
   "execution_count": 6,
   "metadata": {
    "collapsed": false
   },
   "outputs": [],
   "source": [
    "leagues = [\"England\", \"Spain\"]\n",
    "events = {}\n",
    "matches = {}\n",
    "minutes = {}\n",
    "for league in leagues:\n",
    "    path = f\"../data/atv03/matches/matches_{league}.json\"\n",
    "    matches[league] = load_matches(path)\n",
    "    path = f\"../data/atv03/events/events_{league}.json\"\n",
    "    events[league] = load_events(path)\n",
    "    path = f\"../data/atv03/minutes_played/minutes_played_per_game_{league}.json\"\n",
    "    minutes[league] = load_minutes_played_per_game(path)"
   ]
  },
  {
   "cell_type": "code",
   "execution_count": 7,
   "metadata": {
    "collapsed": false
   },
   "outputs": [],
   "source": [
    "path = \"../data/atv03/players/players.json\"\n",
    "players = load_players(path)\n",
    "players[\"player_name\"] = players[\"player_name\"].str.decode(\"unicode-escape\")"
   ]
  },
  {
   "cell_type": "markdown",
   "metadata": {
    "collapsed": false
   },
   "source": [
    "### SPADL"
   ]
  },
  {
   "attachments": {},
   "cell_type": "markdown",
   "metadata": {},
   "source": [
    "Neste subtítulo, é utilizada a biblioteca *socceraction* para converter os dados carregados anteriormente para o formato SPADL, com o objetivo de facilitar o uso do framework VAEP.\n",
    "\n",
    "Assim como no último caso, essa parte se refere à seção 2 do artigo, mais especificamente a seção 2.2."
   ]
  },
  {
   "cell_type": "code",
   "execution_count": 8,
   "metadata": {
    "collapsed": false
   },
   "outputs": [],
   "source": [
    "from tqdm import tqdm\n",
    "import socceraction.spadl as spd"
   ]
  },
  {
   "cell_type": "code",
   "execution_count": 9,
   "metadata": {
    "collapsed": false
   },
   "outputs": [],
   "source": [
    "def spadl_transform(events, matches):\n",
    "    spadl = []\n",
    "    game_ids = events.game_id.unique().tolist()\n",
    "    for g in tqdm(game_ids):\n",
    "        match_events = events.loc[events.game_id == g]\n",
    "        match_home_id = matches.loc[(matches.matchId == g) & (matches.side == \"home\"), \"teamId\"].values[0]\n",
    "        match_actions = spd.wyscout.convert_to_actions(events=match_events, home_team_id=match_home_id)\n",
    "        match_actions = spd.play_left_to_right(actions=match_actions, home_team_id=match_home_id)\n",
    "        match_actions = spd.add_names(match_actions)\n",
    "        spadl.append(match_actions)\n",
    "    spadl = pd.concat(spadl).reset_index(drop=True)\n",
    "\n",
    "    return spadl"
   ]
  },
  {
   "cell_type": "code",
   "execution_count": 10,
   "metadata": {
    "collapsed": false
   },
   "outputs": [
    {
     "data": {
      "text/plain": [
       "' for league in leagues:\\n    spadl[league] = spadl_transform(events=events[league], matches=matches[league])\\nspadl[\"England\"].to_json(\"../data/atv05/spadl_England.json\", orient=\"records\")\\nspadl[\"Spain\"].to_json(\"../data/atv05/spadl_Spain.json\", orient=\"records\") '"
      ]
     },
     "execution_count": 10,
     "metadata": {},
     "output_type": "execute_result"
    }
   ],
   "source": [
    "spadl = {}\n",
    "\"\"\" for league in leagues:\n",
    "    spadl[league] = spadl_transform(events=events[league], matches=matches[league])\n",
    "spadl[\"England\"].to_json(\"../data/atv05/spadl_England.json\", orient=\"records\")\n",
    "spadl[\"Spain\"].to_json(\"../data/atv05/spadl_Spain.json\", orient=\"records\") \"\"\""
   ]
  },
  {
   "cell_type": "code",
   "execution_count": 11,
   "metadata": {},
   "outputs": [],
   "source": [
    "spadl[\"England\"] = pd.read_json(\"../data/atv05/spadl_England.json\")\n",
    "spadl[\"Spain\"] = pd.read_json(\"../data/atv05/spadl_Spain.json\")"
   ]
  },
  {
   "cell_type": "markdown",
   "metadata": {
    "collapsed": false
   },
   "source": [
    "### Features"
   ]
  },
  {
   "attachments": {},
   "cell_type": "markdown",
   "metadata": {},
   "source": [
    "Neste subtítulo, é utilizada novamente a biblioteca *socceraction* para extração das *features* desejadas para cálculo da VAEP. \n",
    "\n",
    "Como descrito na seção 4 do artigo, o *framework* da VAEP é feito em cima de descrições de *features* relacionadas às ações dos jogadores. Na subseção 4.2, mais especificamente, é descrito como construir as *features* desejadas para obter maior performance no modelo proposto.\n",
    "\n",
    "Na função implementada *features_transform*, podemos ver o uso da biblioteca *socceraction* para calcular as *features* desejadas para cada partida no conjunto de dados passado como parâmetro da função.\n"
   ]
  },
  {
   "cell_type": "code",
   "execution_count": 12,
   "metadata": {
    "collapsed": false
   },
   "outputs": [],
   "source": [
    "from socceraction.vaep import features as ft"
   ]
  },
  {
   "cell_type": "code",
   "execution_count": 13,
   "metadata": {
    "collapsed": false
   },
   "outputs": [],
   "source": [
    "def features_transform(spadl):\n",
    "    spadl.loc[spadl.result_id.isin([2, 3]), [\"result_id\"]] = 0\n",
    "    spadl.loc[spadl.result_name.isin([\"offside\", \"owngoal\"]), [\"result_name\"]] = \"fail\"\n",
    "\n",
    "    xfns = [\n",
    "        ft.actiontype_onehot,\n",
    "        ft.bodypart_onehot,\n",
    "        ft.result_onehot,\n",
    "        ft.goalscore,\n",
    "        ft.startlocation,\n",
    "        ft.endlocation,\n",
    "        ft.team,\n",
    "        ft.time,\n",
    "        ft.time_delta\n",
    "    ]\n",
    "\n",
    "    features = []\n",
    "    for game in tqdm(np.unique(spadl.game_id).tolist()):\n",
    "        match_actions = spadl.loc[spadl.game_id == game].reset_index(drop=True)\n",
    "        match_states = ft.gamestates(actions=match_actions)\n",
    "        match_feats = pd.concat([fn(match_states) for fn in xfns], axis=1)\n",
    "        features.append(match_feats)\n",
    "    features = pd.concat(features).reset_index(drop=True)\n",
    "\n",
    "    return features"
   ]
  },
  {
   "cell_type": "markdown",
   "metadata": {
    "collapsed": false
   },
   "source": [
    "1- O que a primeira e a segunda linhas da função acima fazem? Qual sua hipótese sobre intuito dessas transformações? Como você acha que isso pode impactar o modelo final?"
   ]
  },
  {
   "attachments": {},
   "cell_type": "markdown",
   "metadata": {},
   "source": [
    "A primeira e a segunda linha da função mudam o *id* do resultados de ações que foram impedimento ou gol contra para 0, ao invés de 2 e 3, respectivamente, assim como mudam o nome do resultado deste tipo de ação para *fail*. Em suma, as linhas manipulam o conjunto de dados de modo a considerar ações que resultaram em impedimento ou gol contra como ações que falharam.\n",
    "\n",
    "O intuito dessas transofrmações é simplificar o modelo de modo que possamos olhar o resultado de ações de uma forma binária. Ou seu resultado foi sucesso, ou seu resultado foi fracasso. Podemos caracterizar isso dessa maneira pois lances que levaram a impedimentos ou gols contra intuitivamente podem ser vistos como lances que falharam.\n",
    "\n",
    "Como gols contra são lances raros, acredito que essa mudança de caracterização não gere grande impacto no modelo. Em relação a impedimentos, no entanto, enxergo que em algumas situações isso possa prejudicar a classificação. Podemos imaginar cenários em que os times construíram uma boa jogada e devido a uma pequena diferença de posicionamento entre jogadores o impedimento foi marcado e o resultado classificado como falha, quando no panorama geral a construção da jogada possa ser classificada como positiva.\n",
    "\n",
    "No entanto, creio que o impacto causado por estes detalhes também não seja tão grande, e que a VAEP ainda gere resultados muito interessantes mesmo após a caracterização descrita na função."
   ]
  },
  {
   "cell_type": "code",
   "execution_count": 14,
   "metadata": {
    "collapsed": false
   },
   "outputs": [
    {
     "name": "stderr",
     "output_type": "stream",
     "text": [
      "100%|██████████| 380/380 [00:06<00:00, 59.02it/s]\n",
      "100%|██████████| 380/380 [00:06<00:00, 56.03it/s]\n"
     ]
    }
   ],
   "source": [
    "features = {}\n",
    "for league in [\"England\", \"Spain\"]:\n",
    "    features[league] = features_transform(spadl[league])"
   ]
  },
  {
   "cell_type": "markdown",
   "metadata": {
    "collapsed": false
   },
   "source": [
    "### Labels"
   ]
  },
  {
   "attachments": {},
   "cell_type": "markdown",
   "metadata": {},
   "source": [
    "Neste subtítulo, assim como no anterior, são tratados temas relacionados à seção 4 do artigo. Mais especificamente, sobre a subseção 4.1, que trata da construção de *labels*.\n",
    "\n",
    "A função *labels_transform* faz também uso da biblioteca *socceraction* para calcular as *labels* das partidas desejadas, sejam as *labels* de marcar um gol ou de conceder um gol. Por padrão da biblioteca, é utilizado um número de ações vistas no futuro igual a 10 para classificar um estado S como 1 ou como 0."
   ]
  },
  {
   "cell_type": "code",
   "execution_count": 15,
   "metadata": {
    "collapsed": false
   },
   "outputs": [],
   "source": [
    "import socceraction.vaep.labels as lab"
   ]
  },
  {
   "cell_type": "code",
   "execution_count": 16,
   "metadata": {
    "collapsed": false
   },
   "outputs": [],
   "source": [
    "def labels_transform(spadl):\n",
    "    yfns = [lab.scores, lab.concedes]\n",
    "\n",
    "    labels = []\n",
    "    for game in tqdm(np.unique(spadl.game_id).tolist()):\n",
    "        match_actions = spadl.loc[spadl.game_id == game].reset_index(drop=True)\n",
    "        labels.append(pd.concat([fn(actions=match_actions) for fn in yfns], axis=1))\n",
    "\n",
    "    labels = pd.concat(labels).reset_index(drop=True)\n",
    "\n",
    "    return labels"
   ]
  },
  {
   "cell_type": "code",
   "execution_count": 17,
   "metadata": {
    "collapsed": false
   },
   "outputs": [
    {
     "name": "stderr",
     "output_type": "stream",
     "text": [
      "100%|██████████| 380/380 [00:08<00:00, 42.43it/s]\n",
      "100%|██████████| 380/380 [00:08<00:00, 43.63it/s]\n"
     ]
    }
   ],
   "source": [
    "labels = {}\n",
    "for league in [\"England\", \"Spain\"]:\n",
    "    labels[league] = labels_transform(spadl[league])"
   ]
  },
  {
   "cell_type": "code",
   "execution_count": 18,
   "metadata": {
    "collapsed": false
   },
   "outputs": [
    {
     "data": {
      "text/plain": [
       "7553"
      ]
     },
     "execution_count": 18,
     "metadata": {},
     "output_type": "execute_result"
    }
   ],
   "source": [
    "labels[\"England\"][\"scores\"].sum()"
   ]
  },
  {
   "cell_type": "code",
   "execution_count": 19,
   "metadata": {
    "collapsed": false
   },
   "outputs": [
    {
     "data": {
      "text/plain": [
       "2313"
      ]
     },
     "execution_count": 19,
     "metadata": {},
     "output_type": "execute_result"
    }
   ],
   "source": [
    "labels[\"England\"][\"concedes\"].sum()"
   ]
  },
  {
   "cell_type": "markdown",
   "metadata": {
    "collapsed": false
   },
   "source": [
    "2- Explique o por que da quantidade de labels positivos do tipo scores ser muito maior que do concedes. Como você acha que isso pode impactar o modelo final?"
   ]
  },
  {
   "attachments": {},
   "cell_type": "markdown",
   "metadata": {},
   "source": [
    "NAO SEI EXPLICAR"
   ]
  },
  {
   "cell_type": "markdown",
   "metadata": {
    "collapsed": false
   },
   "source": [
    "### Training Model"
   ]
  },
  {
   "attachments": {},
   "cell_type": "markdown",
   "metadata": {},
   "source": [
    "Neste subtítulo, utilizamos o treino do modelo da VAEP, utilizando os dados do campeonato ingês como treino e os dados do campeonato espanhol como teste. Foram criados modelos para classificar as probabilidades de se marcar gol e de se conceder um gol a partir de cada ação.\n",
    "\n",
    "O classificador utilizado foi o *XGBoost* (no artigo, é destacado o uso de *CatBoost*), e, para avaliação dos resultados, foi utilizada a métrica *brier_score_loss*. Essa parte corresponde principalmente à seção 3 do artigo, em que é definida a maneira como o framework classifica as ações e calcula seus valores, além de mostrar como converter probabilidades de conceder ou marcar gols nessa métrica de valor por ação. Na seção 4 do artigo, além da construção de *labels* e *features*, também é discutida a estimativa das capacidades de marcar e conceder gols, utilizadas aqui, então esta seção do artigo também é correspondente ao que foi implementado nos treinos."
   ]
  },
  {
   "cell_type": "code",
   "execution_count": 20,
   "metadata": {
    "collapsed": false
   },
   "outputs": [],
   "source": [
    "import xgboost as xgb\n",
    "import sklearn.metrics as mt"
   ]
  },
  {
   "cell_type": "code",
   "execution_count": 21,
   "metadata": {
    "collapsed": false
   },
   "outputs": [],
   "source": [
    "def train_vaep(X_train, y_train, X_test, y_test):\n",
    "    models = {}\n",
    "    for m in [\"scores\", \"concedes\"]:\n",
    "        models[m] = xgb.XGBClassifier(random_state=0, n_estimators=50, max_depth=3)\n",
    "\n",
    "        print(\"training \" + m + \" model\")\n",
    "        models[m].fit(X_train, y_train[m])\n",
    "\n",
    "        p = sum(y_train[m]) / len(y_train[m])\n",
    "        base = [p] * len(y_train[m])\n",
    "        y_train_pred = models[m].predict_proba(X_train)[:, 1]\n",
    "        train_brier = mt.brier_score_loss(y_train[m], y_train_pred) / mt.brier_score_loss(y_train[m], base)\n",
    "        print(m + \" Train NBS: \" + str(train_brier))\n",
    "        print()\n",
    "\n",
    "        p = sum(y_test[m]) / len(y_test[m])\n",
    "        base = [p] * len(y_test[m])\n",
    "        y_test_pred = models[m].predict_proba(X_test)[:, 1]\n",
    "        test_brier = mt.brier_score_loss(y_test[m], y_test_pred) / mt.brier_score_loss(y_test[m], base)\n",
    "        print(m + \" Test NBS: \" + str(test_brier))\n",
    "        print()\n",
    "\n",
    "        print(\"----------------------------------------\")\n",
    "\n",
    "    return models"
   ]
  },
  {
   "cell_type": "code",
   "execution_count": 22,
   "metadata": {
    "collapsed": false
   },
   "outputs": [
    {
     "name": "stdout",
     "output_type": "stream",
     "text": [
      "training scores model\n",
      "scores Train NBS: 0.8452154331687597\n",
      "\n",
      "scores Test NBS: 0.850366923253325\n",
      "\n",
      "----------------------------------------\n",
      "training concedes model\n",
      "concedes Train NBS: 0.964463215550682\n",
      "\n",
      "concedes Test NBS: 0.9745272575372074\n",
      "\n",
      "----------------------------------------\n"
     ]
    }
   ],
   "source": [
    "models = train_vaep(X_train=features[\"England\"], y_train=labels[\"England\"], X_test=features[\"Spain\"], y_test=labels[\"Spain\"])"
   ]
  },
  {
   "cell_type": "markdown",
   "metadata": {
    "collapsed": false
   },
   "source": [
    "3- Por que treinamos dois modelos diferentes? Por que a performance dos dois é diferente?"
   ]
  },
  {
   "attachments": {},
   "cell_type": "markdown",
   "metadata": {},
   "source": [
    "Dois modelos diferentes foram treinados pois um deles se refere à um modelo para classificar a probabilidade de se marcar um gol dada uma determinada ação e outro para classificar a probabilidade de se conceder um gol dada determinada ação. É importante ressaltar como essas duas probabilidades não são complementares, ou seja, a probabilidade de se marcar um gol não é igual a um menos a probabilidade de se conceder um gol.\n",
    "\n",
    "Por esse motivo, podemos ver uma performance distinta para os classificadores. Ademais, podemos ver que o *concedes* teve uma performance superior por que NAO SEI"
   ]
  },
  {
   "cell_type": "markdown",
   "metadata": {
    "collapsed": false
   },
   "source": [
    "### Predictions"
   ]
  },
  {
   "attachments": {},
   "cell_type": "markdown",
   "metadata": {},
   "source": [
    "Neste subtítulo, são utilizados os modelos construídos previamente para calcular as probabilidades de se marcar ou conceder gols para cada estado de jogo desejado. O cálculo dessas probabilidades é utilizado para o cálculo do valor das ações dos jogadores. No artigo, o uso e cálculo das probabilidades de se marcar um gol estão descritas principalmente nas seções 3 e 4, além da seção 5, onde são analisados os experimentos feitos utilizadno essa métrica."
   ]
  },
  {
   "cell_type": "code",
   "execution_count": 23,
   "metadata": {
    "collapsed": false
   },
   "outputs": [],
   "source": [
    "def generate_predictions(features, models):\n",
    "    preds = {}\n",
    "    for m in [\"scores\", \"concedes\"]:\n",
    "        preds[m] = models[m].predict_proba(features)[:, 1]\n",
    "    preds = pd.DataFrame(preds)\n",
    "\n",
    "    return preds"
   ]
  },
  {
   "cell_type": "code",
   "execution_count": 24,
   "metadata": {
    "collapsed": false
   },
   "outputs": [
    {
     "data": {
      "text/html": [
       "<div>\n",
       "<style scoped>\n",
       "    .dataframe tbody tr th:only-of-type {\n",
       "        vertical-align: middle;\n",
       "    }\n",
       "\n",
       "    .dataframe tbody tr th {\n",
       "        vertical-align: top;\n",
       "    }\n",
       "\n",
       "    .dataframe thead th {\n",
       "        text-align: right;\n",
       "    }\n",
       "</style>\n",
       "<table border=\"1\" class=\"dataframe\">\n",
       "  <thead>\n",
       "    <tr style=\"text-align: right;\">\n",
       "      <th></th>\n",
       "      <th>scores</th>\n",
       "      <th>concedes</th>\n",
       "    </tr>\n",
       "  </thead>\n",
       "  <tbody>\n",
       "    <tr>\n",
       "      <th>0</th>\n",
       "      <td>0.002992</td>\n",
       "      <td>0.000412</td>\n",
       "    </tr>\n",
       "    <tr>\n",
       "      <th>1</th>\n",
       "      <td>0.003928</td>\n",
       "      <td>0.000329</td>\n",
       "    </tr>\n",
       "    <tr>\n",
       "      <th>2</th>\n",
       "      <td>0.002779</td>\n",
       "      <td>0.000345</td>\n",
       "    </tr>\n",
       "    <tr>\n",
       "      <th>3</th>\n",
       "      <td>0.002234</td>\n",
       "      <td>0.000298</td>\n",
       "    </tr>\n",
       "    <tr>\n",
       "      <th>4</th>\n",
       "      <td>0.005827</td>\n",
       "      <td>0.000308</td>\n",
       "    </tr>\n",
       "    <tr>\n",
       "      <th>...</th>\n",
       "      <td>...</td>\n",
       "      <td>...</td>\n",
       "    </tr>\n",
       "    <tr>\n",
       "      <th>482896</th>\n",
       "      <td>0.076417</td>\n",
       "      <td>0.001592</td>\n",
       "    </tr>\n",
       "    <tr>\n",
       "      <th>482897</th>\n",
       "      <td>0.023226</td>\n",
       "      <td>0.003552</td>\n",
       "    </tr>\n",
       "    <tr>\n",
       "      <th>482898</th>\n",
       "      <td>0.005620</td>\n",
       "      <td>0.068251</td>\n",
       "    </tr>\n",
       "    <tr>\n",
       "      <th>482899</th>\n",
       "      <td>0.082877</td>\n",
       "      <td>0.003011</td>\n",
       "    </tr>\n",
       "    <tr>\n",
       "      <th>482900</th>\n",
       "      <td>0.034658</td>\n",
       "      <td>0.003071</td>\n",
       "    </tr>\n",
       "  </tbody>\n",
       "</table>\n",
       "<p>482901 rows × 2 columns</p>\n",
       "</div>"
      ],
      "text/plain": [
       "          scores  concedes\n",
       "0       0.002992  0.000412\n",
       "1       0.003928  0.000329\n",
       "2       0.002779  0.000345\n",
       "3       0.002234  0.000298\n",
       "4       0.005827  0.000308\n",
       "...          ...       ...\n",
       "482896  0.076417  0.001592\n",
       "482897  0.023226  0.003552\n",
       "482898  0.005620  0.068251\n",
       "482899  0.082877  0.003011\n",
       "482900  0.034658  0.003071\n",
       "\n",
       "[482901 rows x 2 columns]"
      ]
     },
     "execution_count": 24,
     "metadata": {},
     "output_type": "execute_result"
    }
   ],
   "source": [
    "preds = {}\n",
    "preds[\"England\"] = generate_predictions(features=features[\"England\"], models=models)\n",
    "preds[\"England\"]"
   ]
  },
  {
   "cell_type": "markdown",
   "metadata": {
    "collapsed": false
   },
   "source": [
    "### Action Values"
   ]
  },
  {
   "attachments": {},
   "cell_type": "markdown",
   "metadata": {},
   "source": [
    "Nesta parte do código, a biblioteca *socceraction* é utilizada mais uma vez para calcular o valor de cada uma das ações desejadas, fazendo uso das predições de probabilidade feitas previamente. As definições deste cálculo estão descritos na seção 3 do artigo, mais especificamente na seção 3.1."
   ]
  },
  {
   "cell_type": "code",
   "execution_count": 25,
   "metadata": {
    "collapsed": false
   },
   "outputs": [],
   "source": [
    "import socceraction.vaep.formula as fm"
   ]
  },
  {
   "cell_type": "code",
   "execution_count": 26,
   "metadata": {
    "collapsed": false
   },
   "outputs": [],
   "source": [
    "def calculate_action_values(spadl, predictions):\n",
    "    action_values = fm.value(actions=spadl, Pscores=predictions[\"scores\"], Pconcedes=predictions[\"concedes\"])\n",
    "    action_values = pd.concat([\n",
    "        spadl[[\"original_event_id\", \"player_id\", \"action_id\", \"game_id\", \"start_x\", \"start_y\", \"end_x\", \"end_y\", \"type_name\", \"result_name\"]],\n",
    "        predictions.rename(columns={\"scores\": \"Pscores\", \"concedes\": \"Pconcedes\"}),\n",
    "        action_values\n",
    "    ], axis=1)\n",
    "\n",
    "    return action_values"
   ]
  },
  {
   "cell_type": "code",
   "execution_count": 57,
   "metadata": {
    "collapsed": false
   },
   "outputs": [
    {
     "data": {
      "text/html": [
       "<div>\n",
       "<style scoped>\n",
       "    .dataframe tbody tr th:only-of-type {\n",
       "        vertical-align: middle;\n",
       "    }\n",
       "\n",
       "    .dataframe tbody tr th {\n",
       "        vertical-align: top;\n",
       "    }\n",
       "\n",
       "    .dataframe thead th {\n",
       "        text-align: right;\n",
       "    }\n",
       "</style>\n",
       "<table border=\"1\" class=\"dataframe\">\n",
       "  <thead>\n",
       "    <tr style=\"text-align: right;\">\n",
       "      <th></th>\n",
       "      <th>original_event_id</th>\n",
       "      <th>player_id</th>\n",
       "      <th>action_id</th>\n",
       "      <th>game_id</th>\n",
       "      <th>start_x</th>\n",
       "      <th>start_y</th>\n",
       "      <th>end_x</th>\n",
       "      <th>end_y</th>\n",
       "      <th>type_name</th>\n",
       "      <th>result_name</th>\n",
       "      <th>Pscores</th>\n",
       "      <th>Pconcedes</th>\n",
       "      <th>offensive_value</th>\n",
       "      <th>defensive_value</th>\n",
       "      <th>vaep_value</th>\n",
       "    </tr>\n",
       "  </thead>\n",
       "  <tbody>\n",
       "    <tr>\n",
       "      <th>0</th>\n",
       "      <td>177959171.0</td>\n",
       "      <td>25413</td>\n",
       "      <td>0</td>\n",
       "      <td>2499719</td>\n",
       "      <td>51.45</td>\n",
       "      <td>34.68</td>\n",
       "      <td>32.55</td>\n",
       "      <td>14.96</td>\n",
       "      <td>pass</td>\n",
       "      <td>success</td>\n",
       "      <td>0.002992</td>\n",
       "      <td>0.000412</td>\n",
       "      <td>0.000000</td>\n",
       "      <td>-0.000000</td>\n",
       "      <td>0.000000</td>\n",
       "    </tr>\n",
       "    <tr>\n",
       "      <th>1</th>\n",
       "      <td>177959172.0</td>\n",
       "      <td>370224</td>\n",
       "      <td>1</td>\n",
       "      <td>2499719</td>\n",
       "      <td>32.55</td>\n",
       "      <td>14.96</td>\n",
       "      <td>53.55</td>\n",
       "      <td>17.00</td>\n",
       "      <td>pass</td>\n",
       "      <td>success</td>\n",
       "      <td>0.003928</td>\n",
       "      <td>0.000329</td>\n",
       "      <td>0.000935</td>\n",
       "      <td>0.000083</td>\n",
       "      <td>0.001018</td>\n",
       "    </tr>\n",
       "    <tr>\n",
       "      <th>2</th>\n",
       "      <td>177959173.0</td>\n",
       "      <td>3319</td>\n",
       "      <td>2</td>\n",
       "      <td>2499719</td>\n",
       "      <td>53.55</td>\n",
       "      <td>17.00</td>\n",
       "      <td>36.75</td>\n",
       "      <td>19.72</td>\n",
       "      <td>pass</td>\n",
       "      <td>success</td>\n",
       "      <td>0.002779</td>\n",
       "      <td>0.000345</td>\n",
       "      <td>-0.001149</td>\n",
       "      <td>-0.000016</td>\n",
       "      <td>-0.001164</td>\n",
       "    </tr>\n",
       "    <tr>\n",
       "      <th>3</th>\n",
       "      <td>177959174.0</td>\n",
       "      <td>120339</td>\n",
       "      <td>3</td>\n",
       "      <td>2499719</td>\n",
       "      <td>36.75</td>\n",
       "      <td>19.72</td>\n",
       "      <td>43.05</td>\n",
       "      <td>3.40</td>\n",
       "      <td>pass</td>\n",
       "      <td>success</td>\n",
       "      <td>0.002234</td>\n",
       "      <td>0.000298</td>\n",
       "      <td>-0.000545</td>\n",
       "      <td>0.000047</td>\n",
       "      <td>-0.000498</td>\n",
       "    </tr>\n",
       "    <tr>\n",
       "      <th>4</th>\n",
       "      <td>177959175.0</td>\n",
       "      <td>167145</td>\n",
       "      <td>4</td>\n",
       "      <td>2499719</td>\n",
       "      <td>43.05</td>\n",
       "      <td>3.40</td>\n",
       "      <td>75.60</td>\n",
       "      <td>8.16</td>\n",
       "      <td>pass</td>\n",
       "      <td>success</td>\n",
       "      <td>0.005827</td>\n",
       "      <td>0.000308</td>\n",
       "      <td>0.003593</td>\n",
       "      <td>-0.000010</td>\n",
       "      <td>0.003583</td>\n",
       "    </tr>\n",
       "    <tr>\n",
       "      <th>...</th>\n",
       "      <td>...</td>\n",
       "      <td>...</td>\n",
       "      <td>...</td>\n",
       "      <td>...</td>\n",
       "      <td>...</td>\n",
       "      <td>...</td>\n",
       "      <td>...</td>\n",
       "      <td>...</td>\n",
       "      <td>...</td>\n",
       "      <td>...</td>\n",
       "      <td>...</td>\n",
       "      <td>...</td>\n",
       "      <td>...</td>\n",
       "      <td>...</td>\n",
       "      <td>...</td>\n",
       "    </tr>\n",
       "    <tr>\n",
       "      <th>482896</th>\n",
       "      <td>251596226.0</td>\n",
       "      <td>20620</td>\n",
       "      <td>1139</td>\n",
       "      <td>2500098</td>\n",
       "      <td>55.65</td>\n",
       "      <td>7.48</td>\n",
       "      <td>103.95</td>\n",
       "      <td>19.04</td>\n",
       "      <td>pass</td>\n",
       "      <td>success</td>\n",
       "      <td>0.076417</td>\n",
       "      <td>0.001592</td>\n",
       "      <td>0.066197</td>\n",
       "      <td>0.000381</td>\n",
       "      <td>0.066578</td>\n",
       "    </tr>\n",
       "    <tr>\n",
       "      <th>482897</th>\n",
       "      <td>251596229.0</td>\n",
       "      <td>14703</td>\n",
       "      <td>1140</td>\n",
       "      <td>2500098</td>\n",
       "      <td>103.95</td>\n",
       "      <td>19.04</td>\n",
       "      <td>103.95</td>\n",
       "      <td>19.04</td>\n",
       "      <td>cross</td>\n",
       "      <td>fail</td>\n",
       "      <td>0.023226</td>\n",
       "      <td>0.003552</td>\n",
       "      <td>-0.053191</td>\n",
       "      <td>-0.001960</td>\n",
       "      <td>-0.055151</td>\n",
       "    </tr>\n",
       "    <tr>\n",
       "      <th>482898</th>\n",
       "      <td>251596408.0</td>\n",
       "      <td>8239</td>\n",
       "      <td>1141</td>\n",
       "      <td>2500098</td>\n",
       "      <td>2.10</td>\n",
       "      <td>46.92</td>\n",
       "      <td>0.00</td>\n",
       "      <td>46.24</td>\n",
       "      <td>interception</td>\n",
       "      <td>success</td>\n",
       "      <td>0.005620</td>\n",
       "      <td>0.068251</td>\n",
       "      <td>0.002068</td>\n",
       "      <td>-0.045026</td>\n",
       "      <td>-0.042958</td>\n",
       "    </tr>\n",
       "    <tr>\n",
       "      <th>482899</th>\n",
       "      <td>251596232.0</td>\n",
       "      <td>70965</td>\n",
       "      <td>1142</td>\n",
       "      <td>2500098</td>\n",
       "      <td>105.00</td>\n",
       "      <td>0.00</td>\n",
       "      <td>92.40</td>\n",
       "      <td>36.04</td>\n",
       "      <td>corner_crossed</td>\n",
       "      <td>success</td>\n",
       "      <td>0.082877</td>\n",
       "      <td>0.003011</td>\n",
       "      <td>0.036377</td>\n",
       "      <td>-0.003011</td>\n",
       "      <td>0.033366</td>\n",
       "    </tr>\n",
       "    <tr>\n",
       "      <th>482900</th>\n",
       "      <td>251596236.0</td>\n",
       "      <td>8005</td>\n",
       "      <td>1143</td>\n",
       "      <td>2500098</td>\n",
       "      <td>90.30</td>\n",
       "      <td>34.00</td>\n",
       "      <td>105.00</td>\n",
       "      <td>27.20</td>\n",
       "      <td>shot</td>\n",
       "      <td>fail</td>\n",
       "      <td>0.034658</td>\n",
       "      <td>0.003071</td>\n",
       "      <td>-0.048219</td>\n",
       "      <td>-0.000061</td>\n",
       "      <td>-0.048279</td>\n",
       "    </tr>\n",
       "  </tbody>\n",
       "</table>\n",
       "<p>482901 rows × 15 columns</p>\n",
       "</div>"
      ],
      "text/plain": [
       "        original_event_id  player_id  action_id  game_id  start_x  start_y  \\\n",
       "0             177959171.0      25413          0  2499719    51.45    34.68   \n",
       "1             177959172.0     370224          1  2499719    32.55    14.96   \n",
       "2             177959173.0       3319          2  2499719    53.55    17.00   \n",
       "3             177959174.0     120339          3  2499719    36.75    19.72   \n",
       "4             177959175.0     167145          4  2499719    43.05     3.40   \n",
       "...                   ...        ...        ...      ...      ...      ...   \n",
       "482896        251596226.0      20620       1139  2500098    55.65     7.48   \n",
       "482897        251596229.0      14703       1140  2500098   103.95    19.04   \n",
       "482898        251596408.0       8239       1141  2500098     2.10    46.92   \n",
       "482899        251596232.0      70965       1142  2500098   105.00     0.00   \n",
       "482900        251596236.0       8005       1143  2500098    90.30    34.00   \n",
       "\n",
       "         end_x  end_y       type_name result_name   Pscores  Pconcedes  \\\n",
       "0        32.55  14.96            pass     success  0.002992   0.000412   \n",
       "1        53.55  17.00            pass     success  0.003928   0.000329   \n",
       "2        36.75  19.72            pass     success  0.002779   0.000345   \n",
       "3        43.05   3.40            pass     success  0.002234   0.000298   \n",
       "4        75.60   8.16            pass     success  0.005827   0.000308   \n",
       "...        ...    ...             ...         ...       ...        ...   \n",
       "482896  103.95  19.04            pass     success  0.076417   0.001592   \n",
       "482897  103.95  19.04           cross        fail  0.023226   0.003552   \n",
       "482898    0.00  46.24    interception     success  0.005620   0.068251   \n",
       "482899   92.40  36.04  corner_crossed     success  0.082877   0.003011   \n",
       "482900  105.00  27.20            shot        fail  0.034658   0.003071   \n",
       "\n",
       "        offensive_value  defensive_value  vaep_value  \n",
       "0              0.000000        -0.000000    0.000000  \n",
       "1              0.000935         0.000083    0.001018  \n",
       "2             -0.001149        -0.000016   -0.001164  \n",
       "3             -0.000545         0.000047   -0.000498  \n",
       "4              0.003593        -0.000010    0.003583  \n",
       "...                 ...              ...         ...  \n",
       "482896         0.066197         0.000381    0.066578  \n",
       "482897        -0.053191        -0.001960   -0.055151  \n",
       "482898         0.002068        -0.045026   -0.042958  \n",
       "482899         0.036377        -0.003011    0.033366  \n",
       "482900        -0.048219        -0.000061   -0.048279  \n",
       "\n",
       "[482901 rows x 15 columns]"
      ]
     },
     "execution_count": 57,
     "metadata": {},
     "output_type": "execute_result"
    }
   ],
   "source": [
    "action_values = {}\n",
    "action_values[\"England\"] = calculate_action_values(spadl=spadl[\"England\"], predictions=preds[\"England\"])\n",
    "action_values[\"England\"]"
   ]
  },
  {
   "attachments": {},
   "cell_type": "markdown",
   "metadata": {
    "collapsed": false
   },
   "source": [
    "4- Explore as ações com Pscores >= 0.95. Por que elas tem um valor tão alto? As compare com ações do mesmo tipo e resultado opostado. Será que o modelo aprende que essa combinação de tipo de ação e resultado está diretamente relacionado à variável y que estamos tentando prever?"
   ]
  },
  {
   "cell_type": "code",
   "execution_count": 58,
   "metadata": {},
   "outputs": [
    {
     "data": {
      "text/html": [
       "<div>\n",
       "<style scoped>\n",
       "    .dataframe tbody tr th:only-of-type {\n",
       "        vertical-align: middle;\n",
       "    }\n",
       "\n",
       "    .dataframe tbody tr th {\n",
       "        vertical-align: top;\n",
       "    }\n",
       "\n",
       "    .dataframe thead th {\n",
       "        text-align: right;\n",
       "    }\n",
       "</style>\n",
       "<table border=\"1\" class=\"dataframe\">\n",
       "  <thead>\n",
       "    <tr style=\"text-align: right;\">\n",
       "      <th></th>\n",
       "      <th>original_event_id</th>\n",
       "      <th>player_id</th>\n",
       "      <th>action_id</th>\n",
       "      <th>game_id</th>\n",
       "      <th>start_x</th>\n",
       "      <th>start_y</th>\n",
       "      <th>end_x</th>\n",
       "      <th>end_y</th>\n",
       "      <th>type_name</th>\n",
       "      <th>result_name</th>\n",
       "      <th>Pscores</th>\n",
       "      <th>Pconcedes</th>\n",
       "      <th>offensive_value</th>\n",
       "      <th>defensive_value</th>\n",
       "      <th>vaep_value</th>\n",
       "    </tr>\n",
       "  </thead>\n",
       "  <tbody>\n",
       "    <tr>\n",
       "      <th>34</th>\n",
       "      <td>177959212.0</td>\n",
       "      <td>25413</td>\n",
       "      <td>34</td>\n",
       "      <td>2499719</td>\n",
       "      <td>92.40</td>\n",
       "      <td>40.12</td>\n",
       "      <td>105.0</td>\n",
       "      <td>37.4</td>\n",
       "      <td>shot</td>\n",
       "      <td>success</td>\n",
       "      <td>0.978621</td>\n",
       "      <td>0.001997</td>\n",
       "      <td>0.906938</td>\n",
       "      <td>-0.001233</td>\n",
       "      <td>0.905705</td>\n",
       "    </tr>\n",
       "    <tr>\n",
       "      <th>60</th>\n",
       "      <td>177959280.0</td>\n",
       "      <td>14763</td>\n",
       "      <td>60</td>\n",
       "      <td>2499719</td>\n",
       "      <td>100.80</td>\n",
       "      <td>32.64</td>\n",
       "      <td>105.0</td>\n",
       "      <td>34.0</td>\n",
       "      <td>shot</td>\n",
       "      <td>success</td>\n",
       "      <td>0.987080</td>\n",
       "      <td>0.003912</td>\n",
       "      <td>0.781600</td>\n",
       "      <td>-0.000663</td>\n",
       "      <td>0.780937</td>\n",
       "    </tr>\n",
       "    <tr>\n",
       "      <th>421</th>\n",
       "      <td>177959759.0</td>\n",
       "      <td>12829</td>\n",
       "      <td>421</td>\n",
       "      <td>2499719</td>\n",
       "      <td>98.70</td>\n",
       "      <td>31.28</td>\n",
       "      <td>105.0</td>\n",
       "      <td>34.0</td>\n",
       "      <td>shot</td>\n",
       "      <td>success</td>\n",
       "      <td>0.982079</td>\n",
       "      <td>0.002473</td>\n",
       "      <td>0.846244</td>\n",
       "      <td>-0.000405</td>\n",
       "      <td>0.845839</td>\n",
       "    </tr>\n",
       "    <tr>\n",
       "      <th>677</th>\n",
       "      <td>177960130.0</td>\n",
       "      <td>7945</td>\n",
       "      <td>677</td>\n",
       "      <td>2499719</td>\n",
       "      <td>96.60</td>\n",
       "      <td>34.00</td>\n",
       "      <td>105.0</td>\n",
       "      <td>34.0</td>\n",
       "      <td>shot</td>\n",
       "      <td>success</td>\n",
       "      <td>0.985336</td>\n",
       "      <td>0.005580</td>\n",
       "      <td>0.851441</td>\n",
       "      <td>0.002292</td>\n",
       "      <td>0.853733</td>\n",
       "    </tr>\n",
       "    <tr>\n",
       "      <th>820</th>\n",
       "      <td>177960379.0</td>\n",
       "      <td>12829</td>\n",
       "      <td>820</td>\n",
       "      <td>2499719</td>\n",
       "      <td>96.60</td>\n",
       "      <td>31.28</td>\n",
       "      <td>105.0</td>\n",
       "      <td>37.4</td>\n",
       "      <td>shot</td>\n",
       "      <td>success</td>\n",
       "      <td>0.982742</td>\n",
       "      <td>0.002357</td>\n",
       "      <td>0.901592</td>\n",
       "      <td>0.001012</td>\n",
       "      <td>0.902604</td>\n",
       "    </tr>\n",
       "    <tr>\n",
       "      <th>1157</th>\n",
       "      <td>177960849.0</td>\n",
       "      <td>7870</td>\n",
       "      <td>1157</td>\n",
       "      <td>2499719</td>\n",
       "      <td>98.70</td>\n",
       "      <td>25.16</td>\n",
       "      <td>105.0</td>\n",
       "      <td>37.4</td>\n",
       "      <td>shot</td>\n",
       "      <td>success</td>\n",
       "      <td>0.985336</td>\n",
       "      <td>0.003204</td>\n",
       "      <td>0.881998</td>\n",
       "      <td>0.001642</td>\n",
       "      <td>0.883640</td>\n",
       "    </tr>\n",
       "    <tr>\n",
       "      <th>1187</th>\n",
       "      <td>177960902.0</td>\n",
       "      <td>26010</td>\n",
       "      <td>1187</td>\n",
       "      <td>2499719</td>\n",
       "      <td>95.55</td>\n",
       "      <td>38.08</td>\n",
       "      <td>105.0</td>\n",
       "      <td>37.4</td>\n",
       "      <td>shot</td>\n",
       "      <td>success</td>\n",
       "      <td>0.984085</td>\n",
       "      <td>0.002321</td>\n",
       "      <td>0.884413</td>\n",
       "      <td>0.000996</td>\n",
       "      <td>0.885409</td>\n",
       "    </tr>\n",
       "    <tr>\n",
       "      <th>2259</th>\n",
       "      <td>178148575.0</td>\n",
       "      <td>8325</td>\n",
       "      <td>971</td>\n",
       "      <td>2499720</td>\n",
       "      <td>93.45</td>\n",
       "      <td>30.60</td>\n",
       "      <td>105.0</td>\n",
       "      <td>34.0</td>\n",
       "      <td>shot</td>\n",
       "      <td>success</td>\n",
       "      <td>0.984568</td>\n",
       "      <td>0.002237</td>\n",
       "      <td>0.899141</td>\n",
       "      <td>-0.000248</td>\n",
       "      <td>0.898893</td>\n",
       "    </tr>\n",
       "    <tr>\n",
       "      <th>2879</th>\n",
       "      <td>178122511.0</td>\n",
       "      <td>9127</td>\n",
       "      <td>315</td>\n",
       "      <td>2499721</td>\n",
       "      <td>91.35</td>\n",
       "      <td>32.64</td>\n",
       "      <td>105.0</td>\n",
       "      <td>37.4</td>\n",
       "      <td>shot</td>\n",
       "      <td>success</td>\n",
       "      <td>0.980534</td>\n",
       "      <td>0.001895</td>\n",
       "      <td>0.911810</td>\n",
       "      <td>0.000018</td>\n",
       "      <td>0.911828</td>\n",
       "    </tr>\n",
       "    <tr>\n",
       "      <th>3151</th>\n",
       "      <td>178122911.0</td>\n",
       "      <td>8433</td>\n",
       "      <td>587</td>\n",
       "      <td>2499721</td>\n",
       "      <td>95.55</td>\n",
       "      <td>51.68</td>\n",
       "      <td>105.0</td>\n",
       "      <td>30.6</td>\n",
       "      <td>shot</td>\n",
       "      <td>success</td>\n",
       "      <td>0.984178</td>\n",
       "      <td>0.001700</td>\n",
       "      <td>0.919819</td>\n",
       "      <td>0.000284</td>\n",
       "      <td>0.920103</td>\n",
       "    </tr>\n",
       "  </tbody>\n",
       "</table>\n",
       "</div>"
      ],
      "text/plain": [
       "      original_event_id  player_id  action_id  game_id  start_x  start_y  \\\n",
       "34          177959212.0      25413         34  2499719    92.40    40.12   \n",
       "60          177959280.0      14763         60  2499719   100.80    32.64   \n",
       "421         177959759.0      12829        421  2499719    98.70    31.28   \n",
       "677         177960130.0       7945        677  2499719    96.60    34.00   \n",
       "820         177960379.0      12829        820  2499719    96.60    31.28   \n",
       "1157        177960849.0       7870       1157  2499719    98.70    25.16   \n",
       "1187        177960902.0      26010       1187  2499719    95.55    38.08   \n",
       "2259        178148575.0       8325        971  2499720    93.45    30.60   \n",
       "2879        178122511.0       9127        315  2499721    91.35    32.64   \n",
       "3151        178122911.0       8433        587  2499721    95.55    51.68   \n",
       "\n",
       "      end_x  end_y type_name result_name   Pscores  Pconcedes  \\\n",
       "34    105.0   37.4      shot     success  0.978621   0.001997   \n",
       "60    105.0   34.0      shot     success  0.987080   0.003912   \n",
       "421   105.0   34.0      shot     success  0.982079   0.002473   \n",
       "677   105.0   34.0      shot     success  0.985336   0.005580   \n",
       "820   105.0   37.4      shot     success  0.982742   0.002357   \n",
       "1157  105.0   37.4      shot     success  0.985336   0.003204   \n",
       "1187  105.0   37.4      shot     success  0.984085   0.002321   \n",
       "2259  105.0   34.0      shot     success  0.984568   0.002237   \n",
       "2879  105.0   37.4      shot     success  0.980534   0.001895   \n",
       "3151  105.0   30.6      shot     success  0.984178   0.001700   \n",
       "\n",
       "      offensive_value  defensive_value  vaep_value  \n",
       "34           0.906938        -0.001233    0.905705  \n",
       "60           0.781600        -0.000663    0.780937  \n",
       "421          0.846244        -0.000405    0.845839  \n",
       "677          0.851441         0.002292    0.853733  \n",
       "820          0.901592         0.001012    0.902604  \n",
       "1157         0.881998         0.001642    0.883640  \n",
       "1187         0.884413         0.000996    0.885409  \n",
       "2259         0.899141        -0.000248    0.898893  \n",
       "2879         0.911810         0.000018    0.911828  \n",
       "3151         0.919819         0.000284    0.920103  "
      ]
     },
     "execution_count": 58,
     "metadata": {},
     "output_type": "execute_result"
    }
   ],
   "source": [
    "action_values[\"England\"].query(\"Pscores > 0.95\").head(10)"
   ]
  },
  {
   "cell_type": "code",
   "execution_count": 68,
   "metadata": {},
   "outputs": [
    {
     "data": {
      "text/html": [
       "<div>\n",
       "<style scoped>\n",
       "    .dataframe tbody tr th:only-of-type {\n",
       "        vertical-align: middle;\n",
       "    }\n",
       "\n",
       "    .dataframe tbody tr th {\n",
       "        vertical-align: top;\n",
       "    }\n",
       "\n",
       "    .dataframe thead th {\n",
       "        text-align: right;\n",
       "    }\n",
       "</style>\n",
       "<table border=\"1\" class=\"dataframe\">\n",
       "  <thead>\n",
       "    <tr style=\"text-align: right;\">\n",
       "      <th></th>\n",
       "      <th>start_x</th>\n",
       "      <th>start_y</th>\n",
       "    </tr>\n",
       "  </thead>\n",
       "  <tbody>\n",
       "    <tr>\n",
       "      <th>count</th>\n",
       "      <td>914.000000</td>\n",
       "      <td>914.000000</td>\n",
       "    </tr>\n",
       "    <tr>\n",
       "      <th>mean</th>\n",
       "      <td>94.768818</td>\n",
       "      <td>34.364551</td>\n",
       "    </tr>\n",
       "    <tr>\n",
       "      <th>std</th>\n",
       "      <td>6.172598</td>\n",
       "      <td>6.644241</td>\n",
       "    </tr>\n",
       "    <tr>\n",
       "      <th>min</th>\n",
       "      <td>46.200000</td>\n",
       "      <td>7.480000</td>\n",
       "    </tr>\n",
       "    <tr>\n",
       "      <th>25%</th>\n",
       "      <td>92.400000</td>\n",
       "      <td>29.920000</td>\n",
       "    </tr>\n",
       "    <tr>\n",
       "      <th>50%</th>\n",
       "      <td>95.550000</td>\n",
       "      <td>34.000000</td>\n",
       "    </tr>\n",
       "    <tr>\n",
       "      <th>75%</th>\n",
       "      <td>98.700000</td>\n",
       "      <td>38.760000</td>\n",
       "    </tr>\n",
       "    <tr>\n",
       "      <th>max</th>\n",
       "      <td>105.000000</td>\n",
       "      <td>58.480000</td>\n",
       "    </tr>\n",
       "  </tbody>\n",
       "</table>\n",
       "</div>"
      ],
      "text/plain": [
       "          start_x     start_y\n",
       "count  914.000000  914.000000\n",
       "mean    94.768818   34.364551\n",
       "std      6.172598    6.644241\n",
       "min     46.200000    7.480000\n",
       "25%     92.400000   29.920000\n",
       "50%     95.550000   34.000000\n",
       "75%     98.700000   38.760000\n",
       "max    105.000000   58.480000"
      ]
     },
     "execution_count": 68,
     "metadata": {},
     "output_type": "execute_result"
    }
   ],
   "source": [
    "action_values[\"England\"].query(\"Pscores > 0.95\").describe()[[\"start_x\", \"start_y\"]]"
   ]
  },
  {
   "cell_type": "code",
   "execution_count": 69,
   "metadata": {},
   "outputs": [
    {
     "data": {
      "text/plain": [
       "array(['shot'], dtype=object)"
      ]
     },
     "execution_count": 69,
     "metadata": {},
     "output_type": "execute_result"
    }
   ],
   "source": [
    "action_values[\"England\"].query(\"Pscores > 0.95\").type_name.unique()"
   ]
  },
  {
   "attachments": {},
   "cell_type": "markdown",
   "metadata": {},
   "source": [
    "Ao filtrar o *DataFrame* para analisar apenas as ações com *Pscores* maior que 0.95, podemos ver que a esmagadora maioria dessas ações ocorreram em pontos no campo muito próximos ao gol adversário. Mais especificamente, se olharmos a descrição dos valores de *start_x* e *start_y*, vamos notar que a média deles para estas ações é de aproximadamente 94.7 e 34.3, respectivamente, com um desvio padrão de aproximadamente 6 para cada um. Considerando que o centro do gol adversário está na coordenada (105, 68), nota-se que as ações analisadas ocorreram muito próximas ao gol, o que explica o por quê do valor de *Pscores* para elas ser tão alto. Seguindo a mesma linha de raciocínio, nota-se que TODAS as ações em questão foram do tipo chute, o que mais uma vez não é nenhuma surpresa, dado a posição em que ocorreram."
   ]
  },
  {
   "cell_type": "code",
   "execution_count": 70,
   "metadata": {},
   "outputs": [
    {
     "data": {
      "text/html": [
       "<div>\n",
       "<style scoped>\n",
       "    .dataframe tbody tr th:only-of-type {\n",
       "        vertical-align: middle;\n",
       "    }\n",
       "\n",
       "    .dataframe tbody tr th {\n",
       "        vertical-align: top;\n",
       "    }\n",
       "\n",
       "    .dataframe thead th {\n",
       "        text-align: right;\n",
       "    }\n",
       "</style>\n",
       "<table border=\"1\" class=\"dataframe\">\n",
       "  <thead>\n",
       "    <tr style=\"text-align: right;\">\n",
       "      <th></th>\n",
       "      <th>original_event_id</th>\n",
       "      <th>player_id</th>\n",
       "      <th>action_id</th>\n",
       "      <th>game_id</th>\n",
       "      <th>start_x</th>\n",
       "      <th>start_y</th>\n",
       "      <th>end_x</th>\n",
       "      <th>end_y</th>\n",
       "      <th>type_name</th>\n",
       "      <th>result_name</th>\n",
       "      <th>Pscores</th>\n",
       "      <th>Pconcedes</th>\n",
       "      <th>offensive_value</th>\n",
       "      <th>defensive_value</th>\n",
       "      <th>vaep_value</th>\n",
       "    </tr>\n",
       "  </thead>\n",
       "  <tbody>\n",
       "    <tr>\n",
       "      <th>0</th>\n",
       "      <td>177959171.0</td>\n",
       "      <td>25413</td>\n",
       "      <td>0</td>\n",
       "      <td>2499719</td>\n",
       "      <td>51.45</td>\n",
       "      <td>34.68</td>\n",
       "      <td>32.55</td>\n",
       "      <td>14.96</td>\n",
       "      <td>pass</td>\n",
       "      <td>success</td>\n",
       "      <td>0.002992</td>\n",
       "      <td>0.000412</td>\n",
       "      <td>0.000000</td>\n",
       "      <td>-0.000000</td>\n",
       "      <td>0.000000</td>\n",
       "    </tr>\n",
       "    <tr>\n",
       "      <th>1</th>\n",
       "      <td>177959172.0</td>\n",
       "      <td>370224</td>\n",
       "      <td>1</td>\n",
       "      <td>2499719</td>\n",
       "      <td>32.55</td>\n",
       "      <td>14.96</td>\n",
       "      <td>53.55</td>\n",
       "      <td>17.00</td>\n",
       "      <td>pass</td>\n",
       "      <td>success</td>\n",
       "      <td>0.003928</td>\n",
       "      <td>0.000329</td>\n",
       "      <td>0.000935</td>\n",
       "      <td>0.000083</td>\n",
       "      <td>0.001018</td>\n",
       "    </tr>\n",
       "    <tr>\n",
       "      <th>2</th>\n",
       "      <td>177959173.0</td>\n",
       "      <td>3319</td>\n",
       "      <td>2</td>\n",
       "      <td>2499719</td>\n",
       "      <td>53.55</td>\n",
       "      <td>17.00</td>\n",
       "      <td>36.75</td>\n",
       "      <td>19.72</td>\n",
       "      <td>pass</td>\n",
       "      <td>success</td>\n",
       "      <td>0.002779</td>\n",
       "      <td>0.000345</td>\n",
       "      <td>-0.001149</td>\n",
       "      <td>-0.000016</td>\n",
       "      <td>-0.001164</td>\n",
       "    </tr>\n",
       "    <tr>\n",
       "      <th>3</th>\n",
       "      <td>177959174.0</td>\n",
       "      <td>120339</td>\n",
       "      <td>3</td>\n",
       "      <td>2499719</td>\n",
       "      <td>36.75</td>\n",
       "      <td>19.72</td>\n",
       "      <td>43.05</td>\n",
       "      <td>3.40</td>\n",
       "      <td>pass</td>\n",
       "      <td>success</td>\n",
       "      <td>0.002234</td>\n",
       "      <td>0.000298</td>\n",
       "      <td>-0.000545</td>\n",
       "      <td>0.000047</td>\n",
       "      <td>-0.000498</td>\n",
       "    </tr>\n",
       "    <tr>\n",
       "      <th>4</th>\n",
       "      <td>177959175.0</td>\n",
       "      <td>167145</td>\n",
       "      <td>4</td>\n",
       "      <td>2499719</td>\n",
       "      <td>43.05</td>\n",
       "      <td>3.40</td>\n",
       "      <td>75.60</td>\n",
       "      <td>8.16</td>\n",
       "      <td>pass</td>\n",
       "      <td>success</td>\n",
       "      <td>0.005827</td>\n",
       "      <td>0.000308</td>\n",
       "      <td>0.003593</td>\n",
       "      <td>-0.000010</td>\n",
       "      <td>0.003583</td>\n",
       "    </tr>\n",
       "  </tbody>\n",
       "</table>\n",
       "</div>"
      ],
      "text/plain": [
       "   original_event_id  player_id  action_id  game_id  start_x  start_y  end_x  \\\n",
       "0        177959171.0      25413          0  2499719    51.45    34.68  32.55   \n",
       "1        177959172.0     370224          1  2499719    32.55    14.96  53.55   \n",
       "2        177959173.0       3319          2  2499719    53.55    17.00  36.75   \n",
       "3        177959174.0     120339          3  2499719    36.75    19.72  43.05   \n",
       "4        177959175.0     167145          4  2499719    43.05     3.40  75.60   \n",
       "\n",
       "   end_y type_name result_name   Pscores  Pconcedes  offensive_value  \\\n",
       "0  14.96      pass     success  0.002992   0.000412         0.000000   \n",
       "1  17.00      pass     success  0.003928   0.000329         0.000935   \n",
       "2  19.72      pass     success  0.002779   0.000345        -0.001149   \n",
       "3   3.40      pass     success  0.002234   0.000298        -0.000545   \n",
       "4   8.16      pass     success  0.005827   0.000308         0.003593   \n",
       "\n",
       "   defensive_value  vaep_value  \n",
       "0        -0.000000    0.000000  \n",
       "1         0.000083    0.001018  \n",
       "2        -0.000016   -0.001164  \n",
       "3         0.000047   -0.000498  \n",
       "4        -0.000010    0.003583  "
      ]
     },
     "execution_count": 70,
     "metadata": {},
     "output_type": "execute_result"
    }
   ],
   "source": [
    "action_values[\"England\"].query(\"Pscores < 0.05\").head()"
   ]
  },
  {
   "cell_type": "code",
   "execution_count": 71,
   "metadata": {},
   "outputs": [
    {
     "data": {
      "text/html": [
       "<div>\n",
       "<style scoped>\n",
       "    .dataframe tbody tr th:only-of-type {\n",
       "        vertical-align: middle;\n",
       "    }\n",
       "\n",
       "    .dataframe tbody tr th {\n",
       "        vertical-align: top;\n",
       "    }\n",
       "\n",
       "    .dataframe thead th {\n",
       "        text-align: right;\n",
       "    }\n",
       "</style>\n",
       "<table border=\"1\" class=\"dataframe\">\n",
       "  <thead>\n",
       "    <tr style=\"text-align: right;\">\n",
       "      <th></th>\n",
       "      <th>start_x</th>\n",
       "      <th>start_y</th>\n",
       "    </tr>\n",
       "  </thead>\n",
       "  <tbody>\n",
       "    <tr>\n",
       "      <th>count</th>\n",
       "      <td>464550.000000</td>\n",
       "      <td>464550.000000</td>\n",
       "    </tr>\n",
       "    <tr>\n",
       "      <th>mean</th>\n",
       "      <td>49.342134</td>\n",
       "      <td>34.136328</td>\n",
       "    </tr>\n",
       "    <tr>\n",
       "      <th>std</th>\n",
       "      <td>24.933160</td>\n",
       "      <td>20.142960</td>\n",
       "    </tr>\n",
       "    <tr>\n",
       "      <th>min</th>\n",
       "      <td>0.000000</td>\n",
       "      <td>0.000000</td>\n",
       "    </tr>\n",
       "    <tr>\n",
       "      <th>25%</th>\n",
       "      <td>30.450000</td>\n",
       "      <td>17.000000</td>\n",
       "    </tr>\n",
       "    <tr>\n",
       "      <th>50%</th>\n",
       "      <td>48.300000</td>\n",
       "      <td>34.000000</td>\n",
       "    </tr>\n",
       "    <tr>\n",
       "      <th>75%</th>\n",
       "      <td>69.300000</td>\n",
       "      <td>51.680000</td>\n",
       "    </tr>\n",
       "    <tr>\n",
       "      <th>max</th>\n",
       "      <td>105.000000</td>\n",
       "      <td>68.000000</td>\n",
       "    </tr>\n",
       "  </tbody>\n",
       "</table>\n",
       "</div>"
      ],
      "text/plain": [
       "             start_x        start_y\n",
       "count  464550.000000  464550.000000\n",
       "mean       49.342134      34.136328\n",
       "std        24.933160      20.142960\n",
       "min         0.000000       0.000000\n",
       "25%        30.450000      17.000000\n",
       "50%        48.300000      34.000000\n",
       "75%        69.300000      51.680000\n",
       "max       105.000000      68.000000"
      ]
     },
     "execution_count": 71,
     "metadata": {},
     "output_type": "execute_result"
    }
   ],
   "source": [
    "action_values[\"England\"].query(\"Pscores < 0.05\").describe()[[\"start_x\", \"start_y\"]]"
   ]
  },
  {
   "cell_type": "code",
   "execution_count": 73,
   "metadata": {},
   "outputs": [
    {
     "data": {
      "text/plain": [
       "pass                318050\n",
       "dribble              35323\n",
       "interception         26784\n",
       "throw_in             16893\n",
       "clearance            11770\n",
       "cross                 9084\n",
       "take_on               8951\n",
       "foul                  7806\n",
       "freekick_short        7227\n",
       "shot                  7199\n",
       "goalkick              6061\n",
       "tackle                3339\n",
       "keeper_save           2301\n",
       "corner_crossed        1552\n",
       "freekick_crossed      1123\n",
       "corner_short           737\n",
       "shot_freekick          321\n",
       "bad_touch               29\n",
       "Name: type_name, dtype: int64"
      ]
     },
     "execution_count": 73,
     "metadata": {},
     "output_type": "execute_result"
    }
   ],
   "source": [
    "action_values[\"England\"].query(\"Pscores < 0.05\").type_name.value_counts()"
   ]
  },
  {
   "attachments": {},
   "cell_type": "markdown",
   "metadata": {},
   "source": [
    "Podemos ver que ações com *PScores* menor do que 0.05 são ações que ocorreram em pontos no campo muito longes do gol adversário. Além disso, nota-se que se tratam de ações sem tentativas diretas de ataque ao gol adversário, já que a esmagadora maioria delas se tratam de passes em regiões centrais do campo.\n",
    "\n",
    "Eu diria que o modelo aprende sim a lidar com essa combinação de tipo de ação."
   ]
  },
  {
   "attachments": {},
   "cell_type": "markdown",
   "metadata": {},
   "source": [
    "5- Qual formula do paper corresponde à coluna 'offensive_value' do dataframe action_values? E a coluna 'defensive_value'?"
   ]
  },
  {
   "attachments": {},
   "cell_type": "markdown",
   "metadata": {},
   "source": [
    "A coluna *offensive_value* se refere à equação (1) descrita na seção 3.1 do artigo. A coluna *defensive_value*, por sua vez, se refere à equação (2) da mesma sessão, só que sua negação, devido ao fato de que toda ação deve tentar decrementar a probabilidade de se conceder um gol."
   ]
  },
  {
   "cell_type": "markdown",
   "metadata": {
    "collapsed": false
   },
   "source": [
    "### Player Ratings"
   ]
  },
  {
   "attachments": {},
   "cell_type": "markdown",
   "metadata": {},
   "source": [
    "Nese subtítulo, é calculado o *rating* de cada jogador com base nos valores de ações encontrados anteriormente. Como descrito  na seção 3.2 no artigo, podemos encontra uma soma dos valores de todas as ações dos jogadores, mas é mais interessante encontrar um valor de *rating* para cada 90 minutos (partida) jogadas. Na seção 5, de maneira geral, a fórmula de *rating* proposta é utilizada para caracterizar diversos jogadores e tais resultados analisados como forma de estudo."
   ]
  },
  {
   "cell_type": "code",
   "execution_count": 64,
   "metadata": {
    "collapsed": false
   },
   "outputs": [],
   "source": [
    "def calculate_minutes_per_season(minutes_per_game):\n",
    "    minutes_per_season = minutes_per_game.groupby(\"player_id\", as_index=False)[\"minutes_played\"].sum()\n",
    "\n",
    "    return minutes_per_season"
   ]
  },
  {
   "cell_type": "code",
   "execution_count": 65,
   "metadata": {
    "collapsed": false
   },
   "outputs": [
    {
     "data": {
      "text/html": [
       "<div>\n",
       "<style scoped>\n",
       "    .dataframe tbody tr th:only-of-type {\n",
       "        vertical-align: middle;\n",
       "    }\n",
       "\n",
       "    .dataframe tbody tr th {\n",
       "        vertical-align: top;\n",
       "    }\n",
       "\n",
       "    .dataframe thead th {\n",
       "        text-align: right;\n",
       "    }\n",
       "</style>\n",
       "<table border=\"1\" class=\"dataframe\">\n",
       "  <thead>\n",
       "    <tr style=\"text-align: right;\">\n",
       "      <th></th>\n",
       "      <th>player_id</th>\n",
       "      <th>minutes_played</th>\n",
       "    </tr>\n",
       "  </thead>\n",
       "  <tbody>\n",
       "    <tr>\n",
       "      <th>0</th>\n",
       "      <td>36</td>\n",
       "      <td>1238</td>\n",
       "    </tr>\n",
       "    <tr>\n",
       "      <th>1</th>\n",
       "      <td>38</td>\n",
       "      <td>382</td>\n",
       "    </tr>\n",
       "    <tr>\n",
       "      <th>2</th>\n",
       "      <td>48</td>\n",
       "      <td>3343</td>\n",
       "    </tr>\n",
       "    <tr>\n",
       "      <th>3</th>\n",
       "      <td>54</td>\n",
       "      <td>3348</td>\n",
       "    </tr>\n",
       "    <tr>\n",
       "      <th>4</th>\n",
       "      <td>56</td>\n",
       "      <td>266</td>\n",
       "    </tr>\n",
       "    <tr>\n",
       "      <th>...</th>\n",
       "      <td>...</td>\n",
       "      <td>...</td>\n",
       "    </tr>\n",
       "    <tr>\n",
       "      <th>510</th>\n",
       "      <td>448708</td>\n",
       "      <td>21</td>\n",
       "    </tr>\n",
       "    <tr>\n",
       "      <th>511</th>\n",
       "      <td>450826</td>\n",
       "      <td>35</td>\n",
       "    </tr>\n",
       "    <tr>\n",
       "      <th>512</th>\n",
       "      <td>486252</td>\n",
       "      <td>649</td>\n",
       "    </tr>\n",
       "    <tr>\n",
       "      <th>513</th>\n",
       "      <td>531655</td>\n",
       "      <td>28</td>\n",
       "    </tr>\n",
       "    <tr>\n",
       "      <th>514</th>\n",
       "      <td>532949</td>\n",
       "      <td>1</td>\n",
       "    </tr>\n",
       "  </tbody>\n",
       "</table>\n",
       "<p>515 rows × 2 columns</p>\n",
       "</div>"
      ],
      "text/plain": [
       "     player_id  minutes_played\n",
       "0           36            1238\n",
       "1           38             382\n",
       "2           48            3343\n",
       "3           54            3348\n",
       "4           56             266\n",
       "..         ...             ...\n",
       "510     448708              21\n",
       "511     450826              35\n",
       "512     486252             649\n",
       "513     531655              28\n",
       "514     532949               1\n",
       "\n",
       "[515 rows x 2 columns]"
      ]
     },
     "execution_count": 65,
     "metadata": {},
     "output_type": "execute_result"
    }
   ],
   "source": [
    "minutes_per_season = {}\n",
    "minutes_per_season[\"England\"] = calculate_minutes_per_season(minutes[\"England\"])\n",
    "minutes_per_season[\"England\"]"
   ]
  },
  {
   "cell_type": "code",
   "execution_count": 66,
   "metadata": {
    "collapsed": false
   },
   "outputs": [],
   "source": [
    "def calculate_player_ratings(action_values, minutes_per_season, players):\n",
    "    player_ratings = action_values.groupby(by=\"player_id\", as_index=False).agg({\"vaep_value\": \"sum\"}).rename(columns={\"vaep_value\": \"vaep_total\"})\n",
    "    player_ratings = player_ratings.merge(minutes_per_season, on=[\"player_id\"], how=\"left\")\n",
    "    player_ratings[\"vaep_p90\"] = player_ratings[\"vaep_total\"] / player_ratings[\"minutes_played\"] * 90\n",
    "    player_ratings = player_ratings[player_ratings[\"minutes_played\"] >= 600].sort_values(by=\"vaep_p90\", ascending=False).reset_index(drop=True)\n",
    "    player_ratings = player_ratings.merge(players, on=[\"player_id\"], how=\"left\")\n",
    "    player_ratings = player_ratings[[\"player_id\", \"player_name\", \"minutes_played\", \"vaep_total\", \"vaep_p90\"]]\n",
    "\n",
    "    return player_ratings"
   ]
  },
  {
   "cell_type": "code",
   "execution_count": 67,
   "metadata": {
    "collapsed": false
   },
   "outputs": [
    {
     "data": {
      "text/html": [
       "<div>\n",
       "<style scoped>\n",
       "    .dataframe tbody tr th:only-of-type {\n",
       "        vertical-align: middle;\n",
       "    }\n",
       "\n",
       "    .dataframe tbody tr th {\n",
       "        vertical-align: top;\n",
       "    }\n",
       "\n",
       "    .dataframe thead th {\n",
       "        text-align: right;\n",
       "    }\n",
       "</style>\n",
       "<table border=\"1\" class=\"dataframe\">\n",
       "  <thead>\n",
       "    <tr style=\"text-align: right;\">\n",
       "      <th></th>\n",
       "      <th>player_id</th>\n",
       "      <th>player_name</th>\n",
       "      <th>minutes_played</th>\n",
       "      <th>vaep_total</th>\n",
       "      <th>vaep_p90</th>\n",
       "    </tr>\n",
       "  </thead>\n",
       "  <tbody>\n",
       "    <tr>\n",
       "      <th>0</th>\n",
       "      <td>120353</td>\n",
       "      <td>Mohamed  Salah Ghaly</td>\n",
       "      <td>2995.0</td>\n",
       "      <td>28.516333</td>\n",
       "      <td>0.856918</td>\n",
       "    </tr>\n",
       "    <tr>\n",
       "      <th>1</th>\n",
       "      <td>3802</td>\n",
       "      <td>Philippe Coutinho Correia</td>\n",
       "      <td>1134.0</td>\n",
       "      <td>8.896437</td>\n",
       "      <td>0.706066</td>\n",
       "    </tr>\n",
       "    <tr>\n",
       "      <th>2</th>\n",
       "      <td>8325</td>\n",
       "      <td>Sergio Leonel Agüero del Castillo</td>\n",
       "      <td>2038.0</td>\n",
       "      <td>14.206033</td>\n",
       "      <td>0.627352</td>\n",
       "    </tr>\n",
       "    <tr>\n",
       "      <th>3</th>\n",
       "      <td>8717</td>\n",
       "      <td>Harry Kane</td>\n",
       "      <td>3201.0</td>\n",
       "      <td>20.985924</td>\n",
       "      <td>0.590045</td>\n",
       "    </tr>\n",
       "    <tr>\n",
       "      <th>4</th>\n",
       "      <td>25867</td>\n",
       "      <td>Pierre-Emerick Aubameyang</td>\n",
       "      <td>1098.0</td>\n",
       "      <td>7.095187</td>\n",
       "      <td>0.581573</td>\n",
       "    </tr>\n",
       "    <tr>\n",
       "      <th>5</th>\n",
       "      <td>25707</td>\n",
       "      <td>Eden Hazard</td>\n",
       "      <td>2504.0</td>\n",
       "      <td>16.074993</td>\n",
       "      <td>0.577775</td>\n",
       "    </tr>\n",
       "    <tr>\n",
       "      <th>6</th>\n",
       "      <td>8249</td>\n",
       "      <td>Marouane Fellaini-Bakkioui</td>\n",
       "      <td>693.0</td>\n",
       "      <td>4.240451</td>\n",
       "      <td>0.550708</td>\n",
       "    </tr>\n",
       "    <tr>\n",
       "      <th>7</th>\n",
       "      <td>26150</td>\n",
       "      <td>Riyad Mahrez</td>\n",
       "      <td>3063.0</td>\n",
       "      <td>18.054569</td>\n",
       "      <td>0.530497</td>\n",
       "    </tr>\n",
       "    <tr>\n",
       "      <th>8</th>\n",
       "      <td>8317</td>\n",
       "      <td>David Josué Jiménez Silva</td>\n",
       "      <td>2519.0</td>\n",
       "      <td>13.998504</td>\n",
       "      <td>0.500145</td>\n",
       "    </tr>\n",
       "    <tr>\n",
       "      <th>9</th>\n",
       "      <td>3319</td>\n",
       "      <td>Mesut Özil</td>\n",
       "      <td>2253.0</td>\n",
       "      <td>12.424434</td>\n",
       "      <td>0.496316</td>\n",
       "    </tr>\n",
       "    <tr>\n",
       "      <th>10</th>\n",
       "      <td>11066</td>\n",
       "      <td>Raheem Shaquille Sterling</td>\n",
       "      <td>2697.0</td>\n",
       "      <td>14.583854</td>\n",
       "      <td>0.486669</td>\n",
       "    </tr>\n",
       "    <tr>\n",
       "      <th>11</th>\n",
       "      <td>14911</td>\n",
       "      <td>Heung-Min Son</td>\n",
       "      <td>2383.0</td>\n",
       "      <td>12.866082</td>\n",
       "      <td>0.485920</td>\n",
       "    </tr>\n",
       "    <tr>\n",
       "      <th>12</th>\n",
       "      <td>134513</td>\n",
       "      <td>Anthony Martial</td>\n",
       "      <td>1650.0</td>\n",
       "      <td>8.820550</td>\n",
       "      <td>0.481121</td>\n",
       "    </tr>\n",
       "    <tr>\n",
       "      <th>13</th>\n",
       "      <td>38021</td>\n",
       "      <td>Kevin De Bruyne</td>\n",
       "      <td>3190.0</td>\n",
       "      <td>16.754573</td>\n",
       "      <td>0.472700</td>\n",
       "    </tr>\n",
       "    <tr>\n",
       "      <th>14</th>\n",
       "      <td>54</td>\n",
       "      <td>Christian  Dannemann Eriksen</td>\n",
       "      <td>3348.0</td>\n",
       "      <td>17.168349</td>\n",
       "      <td>0.461515</td>\n",
       "    </tr>\n",
       "  </tbody>\n",
       "</table>\n",
       "</div>"
      ],
      "text/plain": [
       "    player_id                        player_name  minutes_played  vaep_total  \\\n",
       "0      120353               Mohamed  Salah Ghaly          2995.0   28.516333   \n",
       "1        3802          Philippe Coutinho Correia          1134.0    8.896437   \n",
       "2        8325  Sergio Leonel Agüero del Castillo          2038.0   14.206033   \n",
       "3        8717                         Harry Kane          3201.0   20.985924   \n",
       "4       25867          Pierre-Emerick Aubameyang          1098.0    7.095187   \n",
       "5       25707                        Eden Hazard          2504.0   16.074993   \n",
       "6        8249         Marouane Fellaini-Bakkioui           693.0    4.240451   \n",
       "7       26150                       Riyad Mahrez          3063.0   18.054569   \n",
       "8        8317          David Josué Jiménez Silva          2519.0   13.998504   \n",
       "9        3319                         Mesut Özil          2253.0   12.424434   \n",
       "10      11066          Raheem Shaquille Sterling          2697.0   14.583854   \n",
       "11      14911                      Heung-Min Son          2383.0   12.866082   \n",
       "12     134513                    Anthony Martial          1650.0    8.820550   \n",
       "13      38021                    Kevin De Bruyne          3190.0   16.754573   \n",
       "14         54       Christian  Dannemann Eriksen          3348.0   17.168349   \n",
       "\n",
       "    vaep_p90  \n",
       "0   0.856918  \n",
       "1   0.706066  \n",
       "2   0.627352  \n",
       "3   0.590045  \n",
       "4   0.581573  \n",
       "5   0.577775  \n",
       "6   0.550708  \n",
       "7   0.530497  \n",
       "8   0.500145  \n",
       "9   0.496316  \n",
       "10  0.486669  \n",
       "11  0.485920  \n",
       "12  0.481121  \n",
       "13  0.472700  \n",
       "14  0.461515  "
      ]
     },
     "execution_count": 67,
     "metadata": {},
     "output_type": "execute_result"
    }
   ],
   "source": [
    "player_ratings = {}\n",
    "player_ratings[\"England\"] = calculate_player_ratings(action_values=action_values[\"England\"], minutes_per_season=minutes_per_season[\"England\"], players=players)\n",
    "player_ratings[\"England\"].head(15)"
   ]
  },
  {
   "cell_type": "markdown",
   "metadata": {
    "collapsed": false
   },
   "source": [
    "6- Acha que o Top 5 da lista é bem representativo? Compare esse ranqueamento do VAEP com o do xT da Atividade 4. Qual você acha que é mais representativo?"
   ]
  },
  {
   "attachments": {},
   "cell_type": "markdown",
   "metadata": {},
   "source": [
    "O top 5 gerada é definitivamente bem representativo. Todos os 5 são jogadores excepcionais que foram/são grandes referências para suas equipes. \n",
    "\n",
    "É interessante analisar como, no entanto, o top 5 gerado com a VAEP é totalmente diferente do top 5 gerado na atividade 4 com a métrica de xT. Isso no entanto deve ser visto como uma diferença técnica entre as métricas, isto é, como elas analisam/interpretam lances de maneiras diferentes, e não necessariamente ruins/erradas. Não existe uma verdade absoluta.\n",
    "\n",
    "Acredito, no entanto, que a VAEP traga informações mais completas acerca da performance dos jogadores, devido a sua definição. Dessa maneira, a VAEP seria um top 5 mais representativo. Me surpreende, no entanto, o nome de Kevin De Bruyne aparecer apenas na 14º posição. O top 15 de forma geral contêm jogadores que poderiam facilmente estar entre os 5 com as maiores pontuações, mas pelo meu ponto de vista De bruyne é um dos mais mereciam estar. De qualquer forma, o top 5 gerado é sim muito representativo, e a métrica da VAEP propôs uma excelente forma de ranquear os jogadores da Premier League."
   ]
  }
 ],
 "metadata": {
  "kernelspec": {
   "display_name": "Python 3",
   "language": "python",
   "name": "python3"
  },
  "language_info": {
   "codemirror_mode": {
    "name": "ipython",
    "version": 3
   },
   "file_extension": ".py",
   "mimetype": "text/x-python",
   "name": "python",
   "nbconvert_exporter": "python",
   "pygments_lexer": "ipython3",
   "version": "3.11.0"
  }
 },
 "nbformat": 4,
 "nbformat_minor": 0
}
