{
 "cells": [
  {
   "cell_type": "markdown",
   "metadata": {
    "collapsed": false
   },
   "source": [
    "# [CDAF] Atividade 3"
   ]
  },
  {
   "attachments": {},
   "cell_type": "markdown",
   "metadata": {
    "collapsed": false
   },
   "source": [
    "## Nome e matrícula\n",
    "Nome: Luís Felipe Ramos Ferreira\n",
    "Matrícula: 2019022553"
   ]
  },
  {
   "cell_type": "markdown",
   "metadata": {
    "collapsed": false
   },
   "source": [
    "## Referências\n",
    "- [1] https://figshare.com/collections/Soccer_match_event_dataset/4415000\n",
    "- [2] https://socceraction.readthedocs.io/en/latest/api/generated/socceraction.spadl.wyscout.convert_to_actions.html\n",
    "- [3] https://github.com/TomDecroos/matplotsoccer\n",
    "- [4] https://soccermatics.readthedocs.io/en/latest/gallery/lesson1/plot_PlottingShots.html\n",
    "- [5] https://soccermatics.readthedocs.io/en/latest/gallery/lesson1/plot_PlottingPasses.html\n",
    "- [6] https://soccermatics.readthedocs.io/en/latest/gallery/lesson1/plot_PassNetworks.html"
   ]
  },
  {
   "cell_type": "markdown",
   "metadata": {
    "collapsed": false
   },
   "source": [
    "## Questão 1\n",
    "- Baixe o dataset 'Wyscout Europa Top 5 2017/2018' em [1].\n",
    "- Escolha uma partida e carregue os dados de eventos em um dataframe do pandas.\n",
    "- Converta os dados de eventos para SPADL [2]."
   ]
  },
  {
   "cell_type": "code",
   "execution_count": 1,
   "metadata": {},
   "outputs": [],
   "source": [
    "import pandas as pd\n",
    "import numpy as np\n",
    "import matplotlib.pyplot as plt\n",
    "import warnings\n",
    "from socceraction import spadl\n",
    "warnings.filterwarnings('ignore')"
   ]
  },
  {
   "cell_type": "code",
   "execution_count": 8,
   "metadata": {
    "collapsed": false
   },
   "outputs": [
    {
     "data": {
      "text/html": [
       "<div>\n",
       "<style scoped>\n",
       "    .dataframe tbody tr th:only-of-type {\n",
       "        vertical-align: middle;\n",
       "    }\n",
       "\n",
       "    .dataframe tbody tr th {\n",
       "        vertical-align: top;\n",
       "    }\n",
       "\n",
       "    .dataframe thead th {\n",
       "        text-align: right;\n",
       "    }\n",
       "</style>\n",
       "<table border=\"1\" class=\"dataframe\">\n",
       "  <thead>\n",
       "    <tr style=\"text-align: right;\">\n",
       "      <th></th>\n",
       "      <th>type_id</th>\n",
       "      <th>subEventName</th>\n",
       "      <th>tags</th>\n",
       "      <th>player_id</th>\n",
       "      <th>positions</th>\n",
       "      <th>event_id</th>\n",
       "      <th>eventName</th>\n",
       "      <th>team_id</th>\n",
       "      <th>period_id</th>\n",
       "      <th>milliseconds</th>\n",
       "      <th>subtype_id</th>\n",
       "      <th>id</th>\n",
       "    </tr>\n",
       "  </thead>\n",
       "  <tbody>\n",
       "    <tr>\n",
       "      <th>593455</th>\n",
       "      <td>8</td>\n",
       "      <td>Simple pass</td>\n",
       "      <td>[{'id': 1801}]</td>\n",
       "      <td>3321</td>\n",
       "      <td>[{'y': 49, 'x': 50}, {'y': 40, 'x': 37}]</td>\n",
       "      <td>2565907</td>\n",
       "      <td>Pass</td>\n",
       "      <td>675</td>\n",
       "      <td>1H</td>\n",
       "      <td>3.274992</td>\n",
       "      <td>85</td>\n",
       "      <td>249644096</td>\n",
       "    </tr>\n",
       "    <tr>\n",
       "      <th>593456</th>\n",
       "      <td>8</td>\n",
       "      <td>Simple pass</td>\n",
       "      <td>[{'id': 1801}]</td>\n",
       "      <td>14723</td>\n",
       "      <td>[{'y': 40, 'x': 37}, {'y': 23, 'x': 30}]</td>\n",
       "      <td>2565907</td>\n",
       "      <td>Pass</td>\n",
       "      <td>675</td>\n",
       "      <td>1H</td>\n",
       "      <td>5.109197</td>\n",
       "      <td>85</td>\n",
       "      <td>249644097</td>\n",
       "    </tr>\n",
       "    <tr>\n",
       "      <th>593457</th>\n",
       "      <td>8</td>\n",
       "      <td>Simple pass</td>\n",
       "      <td>[{'id': 1801}]</td>\n",
       "      <td>3306</td>\n",
       "      <td>[{'y': 23, 'x': 30}, {'y': 57, 'x': 26}]</td>\n",
       "      <td>2565907</td>\n",
       "      <td>Pass</td>\n",
       "      <td>675</td>\n",
       "      <td>1H</td>\n",
       "      <td>7.109958</td>\n",
       "      <td>85</td>\n",
       "      <td>249644098</td>\n",
       "    </tr>\n",
       "    <tr>\n",
       "      <th>593458</th>\n",
       "      <td>8</td>\n",
       "      <td>Simple pass</td>\n",
       "      <td>[{'id': 1801}]</td>\n",
       "      <td>3309</td>\n",
       "      <td>[{'y': 57, 'x': 26}, {'y': 40, 'x': 8}]</td>\n",
       "      <td>2565907</td>\n",
       "      <td>Pass</td>\n",
       "      <td>675</td>\n",
       "      <td>1H</td>\n",
       "      <td>8.912297</td>\n",
       "      <td>85</td>\n",
       "      <td>249644099</td>\n",
       "    </tr>\n",
       "    <tr>\n",
       "      <th>593459</th>\n",
       "      <td>8</td>\n",
       "      <td>Simple pass</td>\n",
       "      <td>[{'id': 1801}]</td>\n",
       "      <td>3915</td>\n",
       "      <td>[{'y': 40, 'x': 8}, {'y': 14, 'x': 11}]</td>\n",
       "      <td>2565907</td>\n",
       "      <td>Pass</td>\n",
       "      <td>675</td>\n",
       "      <td>1H</td>\n",
       "      <td>11.290220</td>\n",
       "      <td>85</td>\n",
       "      <td>249644100</td>\n",
       "    </tr>\n",
       "  </tbody>\n",
       "</table>\n",
       "</div>"
      ],
      "text/plain": [
       "        type_id subEventName            tags  player_id  \\\n",
       "593455        8  Simple pass  [{'id': 1801}]       3321   \n",
       "593456        8  Simple pass  [{'id': 1801}]      14723   \n",
       "593457        8  Simple pass  [{'id': 1801}]       3306   \n",
       "593458        8  Simple pass  [{'id': 1801}]       3309   \n",
       "593459        8  Simple pass  [{'id': 1801}]       3915   \n",
       "\n",
       "                                       positions  event_id eventName  team_id  \\\n",
       "593455  [{'y': 49, 'x': 50}, {'y': 40, 'x': 37}]   2565907      Pass      675   \n",
       "593456  [{'y': 40, 'x': 37}, {'y': 23, 'x': 30}]   2565907      Pass      675   \n",
       "593457  [{'y': 23, 'x': 30}, {'y': 57, 'x': 26}]   2565907      Pass      675   \n",
       "593458   [{'y': 57, 'x': 26}, {'y': 40, 'x': 8}]   2565907      Pass      675   \n",
       "593459   [{'y': 40, 'x': 8}, {'y': 14, 'x': 11}]   2565907      Pass      675   \n",
       "\n",
       "       period_id  milliseconds subtype_id         id  \n",
       "593455        1H      3.274992         85  249644096  \n",
       "593456        1H      5.109197         85  249644097  \n",
       "593457        1H      7.109958         85  249644098  \n",
       "593458        1H      8.912297         85  249644099  \n",
       "593459        1H     11.290220         85  249644100  "
      ]
     },
     "execution_count": 8,
     "metadata": {},
     "output_type": "execute_result"
    }
   ],
   "source": [
    "BARCELONA_VS_REAL_MADRID_ID: int = 2565907\n",
    "BARCELONA_ID: int = 676 # home team id\n",
    "spain_df: pd.DataFrame = pd.read_json(\"../data/atv03/events/events_Spain.json\")\n",
    "match_df: pd.DataFrame = spain_df[spain_df[\"matchId\"] == BARCELONA_VS_REAL_MADRID_ID]"
   ]
  },
  {
   "cell_type": "code",
   "execution_count": 10,
   "metadata": {},
   "outputs": [
    {
     "data": {
      "text/html": [
       "<div>\n",
       "<style scoped>\n",
       "    .dataframe tbody tr th:only-of-type {\n",
       "        vertical-align: middle;\n",
       "    }\n",
       "\n",
       "    .dataframe tbody tr th {\n",
       "        vertical-align: top;\n",
       "    }\n",
       "\n",
       "    .dataframe thead th {\n",
       "        text-align: right;\n",
       "    }\n",
       "</style>\n",
       "<table border=\"1\" class=\"dataframe\">\n",
       "  <thead>\n",
       "    <tr style=\"text-align: right;\">\n",
       "      <th></th>\n",
       "      <th>type_id</th>\n",
       "      <th>subEventName</th>\n",
       "      <th>tags</th>\n",
       "      <th>player_id</th>\n",
       "      <th>positions</th>\n",
       "      <th>event_id</th>\n",
       "      <th>eventName</th>\n",
       "      <th>team_id</th>\n",
       "      <th>period_id</th>\n",
       "      <th>milliseconds</th>\n",
       "      <th>subtype_id</th>\n",
       "      <th>id</th>\n",
       "    </tr>\n",
       "  </thead>\n",
       "  <tbody>\n",
       "    <tr>\n",
       "      <th>593455</th>\n",
       "      <td>8</td>\n",
       "      <td>Simple pass</td>\n",
       "      <td>[{'id': 1801}]</td>\n",
       "      <td>3321</td>\n",
       "      <td>[{'y': 49, 'x': 50}, {'y': 40, 'x': 37}]</td>\n",
       "      <td>2565907</td>\n",
       "      <td>Pass</td>\n",
       "      <td>675</td>\n",
       "      <td>1H</td>\n",
       "      <td>3.274992</td>\n",
       "      <td>85</td>\n",
       "      <td>249644096</td>\n",
       "    </tr>\n",
       "    <tr>\n",
       "      <th>593456</th>\n",
       "      <td>8</td>\n",
       "      <td>Simple pass</td>\n",
       "      <td>[{'id': 1801}]</td>\n",
       "      <td>14723</td>\n",
       "      <td>[{'y': 40, 'x': 37}, {'y': 23, 'x': 30}]</td>\n",
       "      <td>2565907</td>\n",
       "      <td>Pass</td>\n",
       "      <td>675</td>\n",
       "      <td>1H</td>\n",
       "      <td>5.109197</td>\n",
       "      <td>85</td>\n",
       "      <td>249644097</td>\n",
       "    </tr>\n",
       "    <tr>\n",
       "      <th>593457</th>\n",
       "      <td>8</td>\n",
       "      <td>Simple pass</td>\n",
       "      <td>[{'id': 1801}]</td>\n",
       "      <td>3306</td>\n",
       "      <td>[{'y': 23, 'x': 30}, {'y': 57, 'x': 26}]</td>\n",
       "      <td>2565907</td>\n",
       "      <td>Pass</td>\n",
       "      <td>675</td>\n",
       "      <td>1H</td>\n",
       "      <td>7.109958</td>\n",
       "      <td>85</td>\n",
       "      <td>249644098</td>\n",
       "    </tr>\n",
       "    <tr>\n",
       "      <th>593458</th>\n",
       "      <td>8</td>\n",
       "      <td>Simple pass</td>\n",
       "      <td>[{'id': 1801}]</td>\n",
       "      <td>3309</td>\n",
       "      <td>[{'y': 57, 'x': 26}, {'y': 40, 'x': 8}]</td>\n",
       "      <td>2565907</td>\n",
       "      <td>Pass</td>\n",
       "      <td>675</td>\n",
       "      <td>1H</td>\n",
       "      <td>8.912297</td>\n",
       "      <td>85</td>\n",
       "      <td>249644099</td>\n",
       "    </tr>\n",
       "    <tr>\n",
       "      <th>593459</th>\n",
       "      <td>8</td>\n",
       "      <td>Simple pass</td>\n",
       "      <td>[{'id': 1801}]</td>\n",
       "      <td>3915</td>\n",
       "      <td>[{'y': 40, 'x': 8}, {'y': 14, 'x': 11}]</td>\n",
       "      <td>2565907</td>\n",
       "      <td>Pass</td>\n",
       "      <td>675</td>\n",
       "      <td>1H</td>\n",
       "      <td>11.290220</td>\n",
       "      <td>85</td>\n",
       "      <td>249644100</td>\n",
       "    </tr>\n",
       "  </tbody>\n",
       "</table>\n",
       "</div>"
      ],
      "text/plain": [
       "        type_id subEventName            tags  player_id  \\\n",
       "593455        8  Simple pass  [{'id': 1801}]       3321   \n",
       "593456        8  Simple pass  [{'id': 1801}]      14723   \n",
       "593457        8  Simple pass  [{'id': 1801}]       3306   \n",
       "593458        8  Simple pass  [{'id': 1801}]       3309   \n",
       "593459        8  Simple pass  [{'id': 1801}]       3915   \n",
       "\n",
       "                                       positions  event_id eventName  team_id  \\\n",
       "593455  [{'y': 49, 'x': 50}, {'y': 40, 'x': 37}]   2565907      Pass      675   \n",
       "593456  [{'y': 40, 'x': 37}, {'y': 23, 'x': 30}]   2565907      Pass      675   \n",
       "593457  [{'y': 23, 'x': 30}, {'y': 57, 'x': 26}]   2565907      Pass      675   \n",
       "593458   [{'y': 57, 'x': 26}, {'y': 40, 'x': 8}]   2565907      Pass      675   \n",
       "593459   [{'y': 40, 'x': 8}, {'y': 14, 'x': 11}]   2565907      Pass      675   \n",
       "\n",
       "       period_id  milliseconds subtype_id         id  \n",
       "593455        1H      3.274992         85  249644096  \n",
       "593456        1H      5.109197         85  249644097  \n",
       "593457        1H      7.109958         85  249644098  \n",
       "593458        1H      8.912297         85  249644099  \n",
       "593459        1H     11.290220         85  249644100  "
      ]
     },
     "execution_count": 10,
     "metadata": {},
     "output_type": "execute_result"
    }
   ],
   "source": [
    "match_df.rename(columns={\"eventId\": \"type_id\", \"matchPeriod\": \"period_id\", \"subEventId\": \"subtype_id\", \"matchId\": \"game_id\", \"teamId\": \"team_id\", \"eventSec\": \"milliseconds\", \"playerId\": \"player_id\"}, inplace=True)\n",
    "match_df.head()"
   ]
  },
  {
   "cell_type": "code",
   "execution_count": null,
   "metadata": {},
   "outputs": [],
   "source": [
    "spadl_df: pd.DataFrame = spadl.wyscout.convert_to_actions(match_df, BARCELONA_ID)"
   ]
  },
  {
   "cell_type": "code",
   "execution_count": null,
   "metadata": {},
   "outputs": [],
   "source": [
    "# cleaning up RAM\n",
    "\"\"\" del spain_df \"\"\""
   ]
  },
  {
   "cell_type": "markdown",
   "metadata": {
    "collapsed": false
   },
   "source": [
    "## Questão 2\n",
    "- Visualize uma sequência de 5 ações da partida usando matplotsoccer.actions [3]."
   ]
  },
  {
   "cell_type": "code",
   "execution_count": null,
   "metadata": {
    "collapsed": false
   },
   "outputs": [],
   "source": []
  },
  {
   "cell_type": "markdown",
   "metadata": {
    "collapsed": false
   },
   "source": [
    "## Questão 3\n",
    "- Visualize os chutes da partida, desenvolvendo seu código em cima do dataframe SPADL. Faça um plot para cada time. Adapte de [4].\n",
    "- Qual time as melhores chances da partida? Por quê?"
   ]
  },
  {
   "cell_type": "code",
   "execution_count": null,
   "metadata": {
    "collapsed": false
   },
   "outputs": [],
   "source": []
  },
  {
   "cell_type": "markdown",
   "metadata": {
    "collapsed": false
   },
   "source": [
    "## Questão 4\n",
    "- Escolha um jogador da partida que você escolheu.\n",
    "- Faça um heatmap de todas ações dele [3].\n",
    "- Faça um heatmap de todas as ações ofensivas dele [3].\n",
    "- Faça um heatmap de todas as ações defensivas dele [3].\n",
    "- O que você pode inferir sobre o comportamento do jogador? O comportamento dele varia muito do ataque para a defesa?"
   ]
  },
  {
   "cell_type": "code",
   "execution_count": null,
   "metadata": {
    "collapsed": false
   },
   "outputs": [
    {
     "data": {
      "text/html": [
       "<div>\n",
       "<style scoped>\n",
       "    .dataframe tbody tr th:only-of-type {\n",
       "        vertical-align: middle;\n",
       "    }\n",
       "\n",
       "    .dataframe tbody tr th {\n",
       "        vertical-align: top;\n",
       "    }\n",
       "\n",
       "    .dataframe thead th {\n",
       "        text-align: right;\n",
       "    }\n",
       "</style>\n",
       "<table border=\"1\" class=\"dataframe\">\n",
       "  <thead>\n",
       "    <tr style=\"text-align: right;\">\n",
       "      <th></th>\n",
       "      <th>eventId</th>\n",
       "      <th>subEventName</th>\n",
       "      <th>tags</th>\n",
       "      <th>playerId</th>\n",
       "      <th>positions</th>\n",
       "      <th>matchId</th>\n",
       "      <th>eventName</th>\n",
       "      <th>teamId</th>\n",
       "      <th>matchPeriod</th>\n",
       "      <th>eventSec</th>\n",
       "      <th>subEventId</th>\n",
       "      <th>id</th>\n",
       "    </tr>\n",
       "  </thead>\n",
       "  <tbody>\n",
       "  </tbody>\n",
       "</table>\n",
       "</div>"
      ],
      "text/plain": [
       "Empty DataFrame\n",
       "Columns: [eventId, subEventName, tags, playerId, positions, matchId, eventName, teamId, matchPeriod, eventSec, subEventId, id]\n",
       "Index: []"
      ]
     },
     "execution_count": 63,
     "metadata": {},
     "output_type": "execute_result"
    }
   ],
   "source": [
    "MESSI_ID: int = 3359\n",
    "messi_df: pd.DataFrame = match_df[match_df[\"playerId\"] == MESSI_ID]\n",
    "messi_df"
   ]
  },
  {
   "cell_type": "markdown",
   "metadata": {
    "collapsed": false
   },
   "source": [
    "## Questão 5\n",
    "- Para o mesmo jogador, crie um mapa de passes com os passes que ele efetuou na partida, desenvolvendo seu código em cima do dataframe SPADL. Adapte de [5].\n",
    "- O mapa de passes trouxe alguma informação nova sobre o jogador?"
   ]
  },
  {
   "cell_type": "code",
   "execution_count": null,
   "metadata": {
    "collapsed": false
   },
   "outputs": [],
   "source": []
  },
  {
   "cell_type": "markdown",
   "metadata": {
    "collapsed": false
   },
   "source": [
    "## Questão 6\n",
    "- Crie uma rede de passes de cada uma das equipes, desenvolvendo seu código em cima do dataframe SPADL. Adapte de [6].\n",
    "- O que você consegue inferir sobre a formação de cada equipe? Quais jogadores de cada equipe possuem o maior grau (tem maior soma do peso das arestas)?"
   ]
  },
  {
   "cell_type": "code",
   "execution_count": null,
   "metadata": {
    "collapsed": false
   },
   "outputs": [],
   "source": []
  }
 ],
 "metadata": {
  "kernelspec": {
   "display_name": "Python 3",
   "language": "python",
   "name": "python3"
  },
  "language_info": {
   "codemirror_mode": {
    "name": "ipython",
    "version": 3
   },
   "file_extension": ".py",
   "mimetype": "text/x-python",
   "name": "python",
   "nbconvert_exporter": "python",
   "pygments_lexer": "ipython3",
   "version": "3.11.0"
  }
 },
 "nbformat": 4,
 "nbformat_minor": 0
}
